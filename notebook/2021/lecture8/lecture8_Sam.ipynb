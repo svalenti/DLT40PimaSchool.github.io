{
 "cells": [
  {
   "cell_type": "markdown",
   "metadata": {},
   "source": [
    "# This notebook is intended to generate color images by stacking multi-band images"
   ]
  },
  {
   "cell_type": "markdown",
   "metadata": {},
   "source": [
    "### import packages"
   ]
  },
  {
   "cell_type": "code",
   "execution_count": null,
   "metadata": {},
   "outputs": [],
   "source": [
    "import glob\n",
    "import sep\n",
    "import numpy as np\n",
    "from astropy.wcs import WCS\n",
    "import astropy.io.fits as pyfits\n",
    "from matplotlib import pyplot as plt\n",
    "from scipy.ndimage import interpolation as interp"
   ]
  },
  {
   "cell_type": "markdown",
   "metadata": {},
   "source": [
    "# Outline:\n",
    "#### When Starting a project like this it is best to list the steps we need to program in order to achieve our programatic goal. - an Algorithm!\n",
    "\n",
    "* The best place to start is with the goal: \n",
    "\n",
    "    * Stacking multi-band images and assigning the different color values, then plotting the result\n",
    "\n",
    "* What do we have?  A list of fits images. Inside the headers of those images are the filter names they were taken in.\n",
    "\n",
    "## Let's get our filter list!"
   ]
  },
  {
   "cell_type": "code",
   "execution_count": null,
   "metadata": {},
   "outputs": [],
   "source": [
    "files = glob.glob('*fits')\n",
    "filters = []\n",
    "for file in files:\n",
    "    #get the filter from the header\n",
    "    _filter = pyfits.getheader(file)['FILTER']\n",
    "    filters.append(_filter)\n",
    "filters = np.array(filters)\n",
    "files = np.array(files)\n",
    "print ('All the filters we have: ', np.unique(filters))"
   ]
  },
  {
   "cell_type": "markdown",
   "metadata": {},
   "source": [
    "## Now...\n",
    "\n",
    "I want to see what files belong to each filter, lets create a dictionary...\n",
    "\n",
    "## Exercise!\n",
    "\n",
    "<font color=blue>\n",
    "    What I want to create is a Dictionary called: <b>info</b><br>\n",
    "    Where:\n",
    "    <ul>\n",
    "        <li>key=filter_name</li>\n",
    "        <li>value=a list [] of file_names for that filter</li>\n",
    "    </ul>\n",
    "</font>\n",
    "\n",
    "#### Hints\n",
    " * a dictionary is instantiated as: `info = {'B':[], 'R':[], 'V':[]}`\n",
    " * create a loop over the files (like above) and `info[filter].append()` those files to their correct filter dictionary element "
   ]
  },
  {
   "cell_type": "code",
   "execution_count": null,
   "metadata": {},
   "outputs": [],
   "source": [
    "info = ...\n",
    "for ... in ...:\n",
    "    ..."
   ]
  },
  {
   "cell_type": "markdown",
   "metadata": {},
   "source": [
    "# Cool!\n",
    "Now let's do what we normally do and visualize where our data lives\n",
    "\n",
    "## Exercise\n",
    "<font color=blue>\n",
    "    <ul>\n",
    "        <li>Grab the B band entry's first image from our dictionary</li>\n",
    "        <li>Plot the histogram of its data</li>\n",
    "    </ul>\n",
    "</font>\n",
    "### Hints\n",
    "\n",
    "* use the `pyfits.getdata(filename)` to get the image data\n",
    "* plot it using `plt.hist(data.flatten(), bins=nbins, range=(lower, higher))`\n",
    "    * you're going to have to figure out nbins, lower, higher on your own ; )\n"
   ]
  },
  {
   "cell_type": "code",
   "execution_count": null,
   "metadata": {},
   "outputs": [],
   "source": []
  },
  {
   "cell_type": "markdown",
   "metadata": {},
   "source": [
    "# Now...\n",
    "\n",
    "Lets plot an example image\n",
    "\n",
    "* <font color=blue>From the histogram above, what values would you use for `vmin` and `vmax`??</font>"
   ]
  },
  {
   "cell_type": "code",
   "execution_count": null,
   "metadata": {},
   "outputs": [],
   "source": [
    "vmin, vmax =  ??, ??\n",
    "\n",
    "fig= plt.figure(figsize=(10,12))\n",
    "\n",
    "#grab the coordinate solution to plot the RA/DEC grid\n",
    "header = pyfits.getheader(info['B'][0])\n",
    "wcs = WCS(header)\n",
    "ax = plt.subplot(projection=wcs)\n",
    "\n",
    "#plot the image\n",
    "data = pyfits.getdata(info['B'][0])\n",
    "ax.imshow(data, origin='lower', cmap='gray', vmin=vmin, vmax=vmax)\n",
    "ax.grid(color='white', ls='solid')"
   ]
  },
  {
   "cell_type": "markdown",
   "metadata": {},
   "source": [
    "# Image Stacking\n",
    "\n",
    "### How to:\n",
    "\n",
    "* Loop over each filter\n",
    "    * create a temporary dataset full of zeroes at the size we need\n",
    "    * loop over each file in the respective filters file_list\n",
    "        * get the image data and add it to our temporary dataset\n",
    "    * average the coadded data by the number of files\n",
    "    * save our averaged data to a dictionary with filters as the key"
   ]
  },
  {
   "cell_type": "code",
   "execution_count": null,
   "metadata": {},
   "outputs": [],
   "source": [
    "#Here is the dictionary we want to return\n",
    "band_image = {}\n",
    "#the size of our image: 1024x1024\n",
    "image_size = np.shape(data)\n",
    "\n",
    "#loop over our filter:files dictionary\n",
    "for band in info.keys():\n",
    "    print('Stacking all images in filter: {}'.format(band))\n",
    "    #creating a temporary data array\n",
    "    _data = np.zeros(image_size)\n",
    "    \n",
    "    #loop over our files list\n",
    "    band_files = info[band]\n",
    "    for file in band_files:\n",
    "        #add up all of our data\n",
    "        _data += pyfits.getdata(file)\n",
    "    \n",
    "    averaged_data = _data/float(len(band_files))\n",
    "    band_image.update({band: averaged_data})"
   ]
  },
  {
   "cell_type": "markdown",
   "metadata": {},
   "source": [
    "# Let's plot our stacked data\n",
    "\n",
    "* How will we do this:\n",
    "    * our bands need to be ordered from red-blue\n",
    "    * we loop over these ordered bands\n",
    "        * append the data to our simpleRGB list after applying a scale factor \n",
    "        * the scale factor will be from 0-1, closer to 1 the brighter the image will be in that color\n",
    "        \n",
    "    * `ax.imshow(simpleRGB)`"
   ]
  },
  {
   "cell_type": "code",
   "execution_count": null,
   "metadata": {},
   "outputs": [],
   "source": [
    "\n",
    "bands = ['R', 'V', 'B'] # This needs to be ordered as R/G/B\n",
    "scale_factor = np.array([1, 0.9, 1.0])*1.\n",
    "size = 1024\n",
    "simpleRGB=np.zeros((size,size,3),dtype=float)\n",
    "\n",
    "\n",
    "for i in range(len(bands)):\n",
    "    data = band_image[bands[i]].copy()\n",
    "    \n",
    "    min_value = np.quantile(data, [0.02, 1-0.02])[0]\n",
    "    max_value = np.quantile(data, [0.02, 1-0.02])[1]\n",
    "    data = (data - min_value)/(max_value-min_value)\n",
    "    simpleRGB[:,:,i]=(data*scale_factor[i])**3\n",
    "\n",
    "fig= plt.figure(figsize=(10,12))\n",
    "ax = plt.subplot(projection=wcs)\n",
    "ax.grid(color='white', ls='solid')\n",
    "img = ax.imshow(simpleRGB, origin='lower', interpolation='nearest',vmin=-40, vmax=50)"
   ]
  },
  {
   "cell_type": "markdown",
   "metadata": {},
   "source": [
    "# Hmmm....\n",
    "\n",
    "It looks good, but not that great. The image stacking doesn't appear to be the greatest\n",
    "\n",
    "We can do better... we will do better...\n",
    "\n",
    "<font color=blue>But how... ?</font> any Ideas?\n",
    ".\n",
    "\n",
    ".\n",
    "\n",
    ".\n",
    "\n",
    ".\n",
    "\n",
    ".\n",
    "\n",
    ".\n",
    "\n",
    ".\n",
    "\n",
    ".\n",
    "\n",
    "### Let's Try shifting the all of the images based off a reference image offset!\n",
    "\n",
    "### How can we do this:\n",
    "\n",
    "* set the first image in our list as a reference\n",
    "* use `sep` to find the objects in the reference image\n",
    "* before stacking and averaging our data. Loop over every object in the iterated image, and the reference objects\n",
    "    * find the average offset by calculating the distance between the ref_obj and the iterated obj\n",
    "    * use a `scipy.ndimage.interpolate.shift()` to shift our data based off the offset\n",
    "* stack and average our offset image\n"
   ]
  },
  {
   "cell_type": "code",
   "execution_count": null,
   "metadata": {},
   "outputs": [],
   "source": [
    "#Here is a function that searches for a reference object\n",
    "# once it finds it, it returns the shift in the x and y directions\n",
    "\n",
    "def find_offset(ref_x, ref_y, _data):\n",
    "    #Get the objects in our current image\n",
    "    _data = _data.byteswap().newbyteorder()\n",
    "    _data_bkg = sep.Background(_data)\n",
    "    data_objs = sep.extract(_data, thresh=20.0, err=_data_bkg.globalrms, minarea=8)\n",
    "    \n",
    "    #loop over them and calculate their distances\n",
    "    for i,j in enumerate(data_objs['x']):\n",
    "        shift_x = ref_x - data_objs['x'][i]\n",
    "        shift_y = ref_y - data_objs['y'][i]\n",
    "        distance = np.sqrt((shift_x)**2+(shift_y)**2)\n",
    "        \n",
    "        # if the distance is less than this threshhold, its a match\n",
    "        # return the offset x,y\n",
    "        if distance < 10:\n",
    "            return shift_x, shift_y\n",
    "            break"
   ]
  },
  {
   "cell_type": "code",
   "execution_count": null,
   "metadata": {},
   "outputs": [],
   "source": [
    "shift_band_image = {}\n",
    "\n",
    "simpleRGB=np.zeros((size,size,3),dtype=float)\n",
    "\n",
    "image_size = np.shape(data)\n",
    "#These commands get the reference image objects\n",
    "ref_file = info[list(info.keys())[0]][0]\n",
    "ref_img = pyfits.getdata(ref_file)\n",
    "ref_img = ref_img.byteswap().newbyteorder() # magic command\n",
    "ref_bkg = sep.Background(ref_img)\n",
    "ref_objects = sep.extract(ref_img, thresh=20.0, err=ref_bkg.globalrms, minarea=10)\n",
    "\n",
    "#loop over the bands: RGB\n",
    "for band in info.keys():\n",
    "    print('Stacking all images in filter: {}'.format(band))\n",
    "    _shift_data = np.zeros(image_size)\n",
    "    \n",
    "    #loop over the files associated with each band\n",
    "    for file in info[band]:\n",
    "        \n",
    "        #get the image data\n",
    "        tmp_data = pyfits.getdata(file)\n",
    "        \n",
    "        #our lists to hold the offsets\n",
    "        sx, sy = [], []\n",
    "        \n",
    "        #loop over each reference object\n",
    "        for i,j in enumerate(ref_objects['x']):\n",
    "            #find and append the offsets to our lists\n",
    "            tmp_sx, tmp_sy = find_offset(ref_objects['x'][i], ref_objects['y'][i], tmp_data)\n",
    "            sx.append(tmp_sx)\n",
    "            sy.append(tmp_sy)\n",
    "\n",
    "        #calculate the average offset\n",
    "        shift_x, shift_y = np.mean(sx), np.mean(sy)\n",
    "\n",
    "        print('Average offsets in x: {}, y: {}\\n'.format(round(shift_x, 3), round(shift_y, 3)))\n",
    "        \n",
    "        #scipy method that shifts the image based off these offsets\n",
    "        new_data = interp.shift(tmp_data, [shift_y, shift_x])\n",
    "        #new coadded data from the shift\n",
    "        _shift_data += new_data\n",
    "\n",
    "    shift_band_image.update({band: _shift_data/float(len(info[band]))})"
   ]
  },
  {
   "cell_type": "markdown",
   "metadata": {},
   "source": [
    "# Lets plot our aligned/stacked data "
   ]
  },
  {
   "cell_type": "code",
   "execution_count": null,
   "metadata": {},
   "outputs": [],
   "source": [
    "bands = ['R', 'V', 'B'] # This needs to be ordered as R/G/B\n",
    "scale_factor = np.array([1, 0.9, 1.0])*1.\n",
    "size = 1024\n",
    "simpleRGB=np.zeros((size,size,3),dtype=float)\n",
    "\n",
    "\n",
    "for i in range(len(bands)):\n",
    "    data = shift_band_image[bands[i]].copy()\n",
    "    min_value = np.quantile(data, [0.02, 1-0.02])[0]\n",
    "    max_value = np.quantile(data, [0.02, 1-0.02])[1]\n",
    "    data = (data - min_value)/(max_value-min_value)\n",
    "    simpleRGB[:,:,i]=(data*scale_factor[i])**3\n",
    "\n",
    "fig= plt.figure(figsize=(10,12))\n",
    "ax = plt.subplot(projection=wcs)\n",
    "ax.grid(color='white', ls='solid')\n",
    "img = ax.imshow(simpleRGB, origin='lower', interpolation='nearest',vmin=-40, vmax=50)"
   ]
  },
  {
   "cell_type": "markdown",
   "metadata": {},
   "source": [
    "# Perfect!\n",
    "\n",
    "Show your friends and family, let them know you know how to make the Astronomy pictures the same way the Hubble does!\n",
    "\n",
    "Save all of your notebooks and save them for future projects. \n",
    "\n",
    "It's been a wonderful semester, and I hope you have a great summer : )"
   ]
  }
 ],
 "metadata": {
  "kernelspec": {
   "display_name": "Python 3",
   "language": "python",
   "name": "python3"
  },
  "language_info": {
   "codemirror_mode": {
    "name": "ipython",
    "version": 3
   },
   "file_extension": ".py",
   "mimetype": "text/x-python",
   "name": "python",
   "nbconvert_exporter": "python",
   "pygments_lexer": "ipython3",
   "version": "3.7.6"
  }
 },
 "nbformat": 4,
 "nbformat_minor": 2
}
