{
 "cells": [
  {
   "cell_type": "markdown",
   "id": "9d3004f2",
   "metadata": {},
   "source": [
    "# Defining a Function:\n",
    "```python\n",
    "def function_name(input1, input2):                # can be any function_name, input1, input2, etc.\n",
    "    thing you want to do, end by defining output  # must be indented, convention 4 spaces\n",
    "    return output                                 # also must be indented\n",
    "```\n",
    "Indentation is how Python knows when the function starts and ends. It defines the block."
   ]
  },
  {
   "cell_type": "markdown",
   "id": "be2635a3",
   "metadata": {},
   "source": [
    "**Exercise:** <font color='blue'>Write a function that takes two numbers as input and adds them together, returning the sum of the numbers. Use your function to add the numbers 1 and 3.</font>"
   ]
  },
  {
   "cell_type": "code",
   "execution_count": 1,
   "id": "d63654d2",
   "metadata": {},
   "outputs": [
    {
     "data": {
      "text/plain": [
       "4"
      ]
     },
     "execution_count": 1,
     "metadata": {},
     "output_type": "execute_result"
    }
   ],
   "source": [
    "def add(x, y):\n",
    "    total = x + y\n",
    "    return total\n",
    "\n",
    "add(1, 3)"
   ]
  },
  {
   "cell_type": "markdown",
   "id": "0f16c3ff",
   "metadata": {},
   "source": [
    "### Function and Variable names:\n",
    "Be explicit so that future you knows what you did. In many cases you don't have to keep notes on your code if you use good function and variable names."
   ]
  },
  {
   "cell_type": "markdown",
   "id": "3a34a8e5",
   "metadata": {},
   "source": [
    "# Data Types - Part 3: Sequences\n",
    "* ordered collection\n",
    "* can refer to whole collection with a single variable"
   ]
  },
  {
   "cell_type": "markdown",
   "id": "737bb235",
   "metadata": {},
   "source": [
    "## Lists\n",
    "* defined with square brackets `[` and `]`\n",
    "* add to a list: `append` method (in place)\n",
    "* remove last item: `pop` method (in place)\n",
    "* concatenate lists: `+` operator (must set equal to something)\n",
    "* get a single value from the list: `list[index]`\n",
    "    - index starts at 0\n",
    "    - can count backwards, with the index of the last item being -1, second to last -2, etc\n",
    "* get a subset of a list by slicing: `list[start_index:stop_index:step]`\n",
    "    - brakets must be square\n",
    "    - includes `start_index` item\n",
    "    - excludes `end_index` item\n",
    "    - `step` is optional, default is 1\n"
   ]
  },
  {
   "cell_type": "markdown",
   "id": "e25f56dc",
   "metadata": {},
   "source": [
    "**Exercise:** <font color='blue'>Define the variable `odds` to be a list with the odd integers between 0 and 10. Do the following with a list:\n",
    "* print the first entry\n",
    "* print the last entry (try using the index that starts counting forward from 0 and the index that counts backwards)\n",
    "* append the next odd number to your list\n",
    "* print the second and third entries of the list\n",
    "* print every other entry\n",
    "* set the third item in the list to 6\n",
    "* Bonus: reverse the order of the list\n",
    "</font>"
   ]
  },
  {
   "cell_type": "code",
   "execution_count": 2,
   "id": "7900f0e7",
   "metadata": {},
   "outputs": [
    {
     "name": "stdout",
     "output_type": "stream",
     "text": [
      "[1, 3, 5, 7, 9]\n",
      "1\n",
      "9\n",
      "9\n",
      "[1, 3, 5, 7, 9, 11]\n",
      "[5, 7]\n",
      "[1, 5, 9]\n",
      "[1, 3, 6, 7, 9, 11]\n",
      "[11, 9, 7, 6, 3, 1]\n"
     ]
    }
   ],
   "source": [
    "odds = [1, 3, 5, 7, 9]\n",
    "print(odds)\n",
    "print(odds[0])\n",
    "print(odds[4])\n",
    "print(odds[-1])\n",
    "odds.append(11)\n",
    "print(odds)\n",
    "print(odds[2:4])\n",
    "print(odds[::2])\n",
    "odds[2] = 6\n",
    "print(odds)\n",
    "print(odds[::-1])"
   ]
  },
  {
   "cell_type": "markdown",
   "id": "60a42c30",
   "metadata": {},
   "source": [
    "## Strings"
   ]
  },
  {
   "cell_type": "markdown",
   "id": "b294fc71",
   "metadata": {},
   "source": [
    "* definition: collection of characters (letters, numbers, spaces, punctuation)\n",
    "* can access any character just like a list\n",
    "* strings are not lists:\n",
    "    * immutable: cannot be changed\n",
    "    * no `append` or `pop` method\n",
    "    * can slice\n",
    "    * can concatenate"
   ]
  },
  {
   "cell_type": "markdown",
   "id": "28776db0",
   "metadata": {},
   "source": [
    "**Exercise:** \n",
    "<font color='blue'>Try to add an 's' to the end of `element`.</font>"
   ]
  },
  {
   "cell_type": "code",
   "execution_count": 3,
   "id": "8cd34f64",
   "metadata": {},
   "outputs": [
    {
     "ename": "AttributeError",
     "evalue": "'str' object has no attribute 'append'",
     "output_type": "error",
     "traceback": [
      "\u001b[0;31m---------------------------------------------------------------------------\u001b[0m",
      "\u001b[0;31mAttributeError\u001b[0m                            Traceback (most recent call last)",
      "\u001b[0;32m<ipython-input-3-46ded655e9b2>\u001b[0m in \u001b[0;36m<module>\u001b[0;34m\u001b[0m\n\u001b[1;32m      1\u001b[0m \u001b[0melement\u001b[0m \u001b[0;34m=\u001b[0m \u001b[0;34m'element'\u001b[0m\u001b[0;34m\u001b[0m\u001b[0;34m\u001b[0m\u001b[0m\n\u001b[0;32m----> 2\u001b[0;31m \u001b[0melement\u001b[0m\u001b[0;34m.\u001b[0m\u001b[0mappend\u001b[0m\u001b[0;34m(\u001b[0m\u001b[0;34m's'\u001b[0m\u001b[0;34m)\u001b[0m\u001b[0;34m\u001b[0m\u001b[0;34m\u001b[0m\u001b[0m\n\u001b[0m",
      "\u001b[0;31mAttributeError\u001b[0m: 'str' object has no attribute 'append'"
     ]
    }
   ],
   "source": [
    "element = 'element'\n",
    "element.append('s')"
   ]
  },
  {
   "cell_type": "markdown",
   "id": "23a1ec29",
   "metadata": {},
   "source": [
    "**Exercise:** \n",
    "<font color='blue'>Try to change the first letter of `element` to 'm' using slicing (i.e., without redefining the whole word).</font>"
   ]
  },
  {
   "cell_type": "code",
   "execution_count": 4,
   "id": "45d1c618",
   "metadata": {},
   "outputs": [
    {
     "ename": "TypeError",
     "evalue": "'str' object does not support item assignment",
     "output_type": "error",
     "traceback": [
      "\u001b[0;31m---------------------------------------------------------------------------\u001b[0m",
      "\u001b[0;31mTypeError\u001b[0m                                 Traceback (most recent call last)",
      "\u001b[0;32m<ipython-input-4-338f2fb8412a>\u001b[0m in \u001b[0;36m<module>\u001b[0;34m\u001b[0m\n\u001b[0;32m----> 1\u001b[0;31m \u001b[0melement\u001b[0m\u001b[0;34m[\u001b[0m\u001b[0;36m0\u001b[0m\u001b[0;34m]\u001b[0m \u001b[0;34m=\u001b[0m \u001b[0;34m'm'\u001b[0m  \u001b[0;31m# change the first letter to 'm'\u001b[0m\u001b[0;34m\u001b[0m\u001b[0;34m\u001b[0m\u001b[0m\n\u001b[0m",
      "\u001b[0;31mTypeError\u001b[0m: 'str' object does not support item assignment"
     ]
    }
   ],
   "source": [
    "element[0] = 'm'  # change the first letter to 'm'"
   ]
  },
  {
   "cell_type": "markdown",
   "id": "50165516",
   "metadata": {},
   "source": [
    "# Getting Help\n",
    "* `help()`: works in any Python interpreter\n",
    "* `?`: works in IPython and Jupyter Notebooks\n",
    "* shift+tab in a function call: works in Jupyter Notebooks"
   ]
  },
  {
   "cell_type": "code",
   "execution_count": 5,
   "id": "ed845c40",
   "metadata": {},
   "outputs": [
    {
     "name": "stdout",
     "output_type": "stream",
     "text": [
      "Help on built-in function round in module builtins:\n",
      "\n",
      "round(number, ndigits=None)\n",
      "    Round a number to a given precision in decimal digits.\n",
      "    \n",
      "    The return value is an integer if ndigits is omitted or None.  Otherwise\n",
      "    the return value has the same type as the number.  ndigits may be negative.\n",
      "\n"
     ]
    }
   ],
   "source": [
    "help(round)"
   ]
  },
  {
   "cell_type": "code",
   "execution_count": 6,
   "id": "c72afc6e",
   "metadata": {},
   "outputs": [],
   "source": [
    "?sum"
   ]
  },
  {
   "cell_type": "code",
   "execution_count": 7,
   "id": "27c294f9",
   "metadata": {},
   "outputs": [
    {
     "name": "stdout",
     "output_type": "stream",
     "text": [
      "\n"
     ]
    }
   ],
   "source": [
    "print()  # put your cursor in the parentheses and press shift+tab"
   ]
  },
  {
   "cell_type": "markdown",
   "id": "903da20f",
   "metadata": {},
   "source": [
    "# Loops"
   ]
  },
  {
   "cell_type": "markdown",
   "id": "20f71ac2",
   "metadata": {},
   "source": [
    "Loops are used to repeat actions.\n",
    "Commonly used is the ``for in`` loop.\n",
    "Its general form is: for variable in collection: do things using variable.\n",
    "The first line of the for loop must end with a colon, and the body must be indented.\n",
    "The colon at the end of the first line signals the start of a block of statements.\n",
    "Python uses indentation rather than explicit begin/end statements to show nesting (i.e. what is inside the loop).\n",
    "A loop variable is just a variable that’s being used to record progress in a loop. It can be called anything and still exists after the loop is over. Be careful not to modify the loop variable (in a for loop) inside the loop.\n",
    "\n",
    "**Exercise:** <font color='blue'> Let's try a loop! With a loop, print each letter of the string ``element``.</font>"
   ]
  },
  {
   "cell_type": "code",
   "execution_count": 8,
   "id": "f6a6255c",
   "metadata": {},
   "outputs": [
    {
     "name": "stdout",
     "output_type": "stream",
     "text": [
      "o\n",
      "x\n",
      "y\n",
      "g\n",
      "e\n",
      "n\n"
     ]
    }
   ],
   "source": [
    "element = 'oxygen'\n",
    "for letter in element:\n",
    "    print(letter)"
   ]
  },
  {
   "cell_type": "markdown",
   "id": "6d7a6158",
   "metadata": {},
   "source": [
    "# Conditionals"
   ]
  },
  {
   "cell_type": "markdown",
   "id": "3731702e",
   "metadata": {},
   "source": [
    "In Python you can also do different actions depending if a statment is ``True`` or ``False``.\n",
    "\n",
    "**Exercise:** <font color='blue'> Let's try writing an if statement which prints the letter O if ``element`` is 'oxygen'.</font>"
   ]
  },
  {
   "cell_type": "code",
   "execution_count": 9,
   "id": "4692c44b",
   "metadata": {},
   "outputs": [
    {
     "name": "stdout",
     "output_type": "stream",
     "text": [
      "O\n"
     ]
    }
   ],
   "source": [
    "if element == 'oxygen':\n",
    "    print('O')"
   ]
  },
  {
   "cell_type": "markdown",
   "id": "ee7dab4b",
   "metadata": {},
   "source": [
    "# Packages in Python \n",
    "\n",
    "Most of the power of a programming language is in its packages. General tools are built into Python, specialized tools built up from these basic units live in packages that can be called upon when needed. You can think of a package as a collection of files (called modules) that contains functions for use by other programs. Note the term library is simply a generic term for a bunch of code that was designed with the aim of being usable by many applications. Often Python packages are called Python libraries. Very complex packages like NumPy have hundreds of individual modules so putting them into a directory-like structure keeps things organized and avoids name collisions. A program must import a package module before using it. Then refer to things from the module as module_name.thing_name. Python uses . to mean “part of”. The ”dot notation” is used to call a specific module inside package.\n",
    "\n",
    "This can be accomplished by 'importing' the desired library.\n",
    "\n",
    "Common libraries\n",
    "* numpy\n",
    "* os\n",
    "* system\n",
    "* matplotlib\n",
    "* requests\n",
    "* scipy\n",
    "* astropy"
   ]
  },
  {
   "cell_type": "code",
   "execution_count": 10,
   "id": "b83a25c2",
   "metadata": {},
   "outputs": [],
   "source": [
    "import numpy as np"
   ]
  },
  {
   "cell_type": "markdown",
   "id": "dcd1e819",
   "metadata": {},
   "source": [
    "# Arrays"
   ]
  },
  {
   "cell_type": "markdown",
   "id": "7e443719",
   "metadata": {},
   "source": [
    "Like Python lists, numpy arrays are also composed of ordered values and also use indexing.\n",
    "Unlike lists which do not require a specific Python package to be defined (or worked with), NumPy arrays are defined using the ``array()`` function from the numpy package, which we imported earlier.\n",
    "\n",
    "A key characteristic of NumPy arrays is that all elements in the array must be the same type of data (i.e. all integers, floats, strings, etc).\n",
    "This allows us to apply mathematical operations to each value in an array.\n",
    "\n",
    "**Exercise:** <font color=blue>Let's see this in action. We will do the following:</font>\n",
    "- <font color=blue>Multiply all elements in the array by 2</font>\n",
    "- <font color=blue>Compute the mean of the array</font>\n",
    "- <font color=blue>Compute the standard deviation</font>\n",
    "- <font color=blue>Sum all elements in the array</font>"
   ]
  },
  {
   "cell_type": "code",
   "execution_count": 11,
   "id": "7ae73363",
   "metadata": {},
   "outputs": [
    {
     "name": "stdout",
     "output_type": "stream",
     "text": [
      "[1 2 3]\n",
      "[2 4 6]\n",
      "2.0\n",
      "0.816496580927726\n",
      "6\n"
     ]
    }
   ],
   "source": [
    "x = np.array([1, 2, 3])\n",
    "print(x)\n",
    "print(x * 2)\n",
    "print(x.mean())\n",
    "print(x.std())\n",
    "print(x.sum())"
   ]
  },
  {
   "cell_type": "markdown",
   "id": "8c7b7ed4",
   "metadata": {},
   "source": [
    "# 2D Arrays"
   ]
  },
  {
   "cell_type": "markdown",
   "id": "f03eac4f",
   "metadata": {},
   "source": [
    "We can also have 2D arrays. We will use them a lot when working with astronomical images. Now that we have two dimensions, we must use 2 slices separated by a ``,`` to select elements using the format ``myarray[slice_row,slice_column]``.\n",
    "\n",
    "**Example:** <font color=blue>Let's define the 3x4 (3 rows, 4 columns) array and do the following operations:</font>\n",
    "- <font color=blue>View the full array</font>\n",
    "- <font color=blue>View its shape</font>\n",
    "- <font color=blue>Print the first entry of the second row</font>\n",
    "- <font color=blue>Print the entire first row</font>\n",
    "- <font color=blue>Print the fist two elements for each of the last two rows</font>"
   ]
  },
  {
   "cell_type": "code",
   "execution_count": 12,
   "id": "70156d93",
   "metadata": {},
   "outputs": [
    {
     "name": "stdout",
     "output_type": "stream",
     "text": [
      "[[ 0  1  2  3]\n",
      " [ 4  5  6  7]\n",
      " [ 8  9 10 11]]\n",
      "(3, 4)\n",
      "4\n",
      "[0 1 2 3]\n",
      "[[4 5]\n",
      " [8 9]]\n"
     ]
    }
   ],
   "source": [
    "y = np.array(\n",
    "    [[0, 1, 2, 3],\n",
    "     [4, 5, 6, 7],\n",
    "     [8, 9, 10, 11]]\n",
    ")\n",
    "print(y)\n",
    "print(y.shape)\n",
    "print(y[1, 0])\n",
    "print(y[0])\n",
    "print(y[-2:, :2])"
   ]
  },
  {
   "cell_type": "markdown",
   "id": "2301c151",
   "metadata": {},
   "source": [
    "# Dictionaries"
   ]
  },
  {
   "cell_type": "markdown",
   "id": "ebb4513a",
   "metadata": {},
   "source": [
    "Dictionaries are very useful in python to store information of any type.\n",
    "In astronomy a very common use of dictionary is to store all the data connected with one observation with the telescope: exposure time, observer, site of the telescope, temperature of the detector, date of the observation, etc.\n",
    "Each entry of the dictionary is made up of a *key* paired with a *value*.\n",
    "To access a value of a dictionary, we use brackets: ``my_dict[key]``.\n",
    "\n",
    "**Exercise:** <font color=blue>Let's make a simple dictionary and see how we select info from it. Create a dictionary of the element symbols (H, He, Li, Be, B, and C) containing their names (hydrogen, helium, lithium, beryllium, boron, and carbon). Create a loop over the dictionary keys to print each value.</font>"
   ]
  },
  {
   "cell_type": "code",
   "execution_count": 13,
   "id": "8f8e8713",
   "metadata": {},
   "outputs": [
    {
     "name": "stdout",
     "output_type": "stream",
     "text": [
      "hydrogen\n",
      "helium\n",
      "lithium\n",
      "beryllium\n",
      "boron\n",
      "carbon\n"
     ]
    }
   ],
   "source": [
    "elements = {\n",
    "    'H': 'hydrogen',\n",
    "    'He': 'helium',\n",
    "    'Li': 'lithium',\n",
    "    'Be': 'beryllium',\n",
    "    'B': 'boron',\n",
    "    'C': 'carbon'\n",
    "}\n",
    "for key in elements:\n",
    "    print(elements[key])"
   ]
  },
  {
   "cell_type": "markdown",
   "id": "cf0308b6",
   "metadata": {},
   "source": [
    "# Reading a text file"
   ]
  },
  {
   "cell_type": "markdown",
   "id": "23cc96b0",
   "metadata": {},
   "source": [
    "Let's use NumPy to read a file. Look at the documentation for `np.loadtxt`.\n",
    "\n",
    "**Exercise:** <font color=blue>Read an ascii file of the solar spectrum using NumPy.</font>\n",
    "If you look at the file there are two columns lke this:\n",
    "```\n",
    "Wavelength (nm)    flux (W*m-2*nm-1)\n",
    "xx                 yy\n",
    "xx                 yy\n",
    "xx                 yy\n",
    "```"
   ]
  },
  {
   "cell_type": "code",
   "execution_count": 14,
   "id": "635264c3",
   "metadata": {},
   "outputs": [
    {
     "name": "stdout",
     "output_type": "stream",
     "text": [
      "[[2.8000e+02 2.5361e-26]\n",
      " [2.8050e+02 1.0917e-24]\n",
      " [2.8100e+02 6.1253e-24]\n",
      " ...\n",
      " [3.9900e+03 7.3894e-03]\n",
      " [3.9950e+03 7.2263e-03]\n",
      " [4.0000e+03 7.1199e-03]]\n"
     ]
    }
   ],
   "source": [
    "data = np.loadtxt('solar_spectrum_3.txt')\n",
    "print(data)"
   ]
  },
  {
   "cell_type": "markdown",
   "id": "52f9b1fe",
   "metadata": {},
   "source": [
    "Now, let's split data in 2 arrays (one for wavelength and one for flux)."
   ]
  },
  {
   "cell_type": "code",
   "execution_count": 15,
   "id": "e40b2b00",
   "metadata": {},
   "outputs": [
    {
     "name": "stdout",
     "output_type": "stream",
     "text": [
      "[ 280.   280.5  281.  ... 3990.  3995.  4000. ]\n",
      "[2.5361e-26 1.0917e-24 6.1253e-24 ... 7.3894e-03 7.2263e-03 7.1199e-03]\n"
     ]
    }
   ],
   "source": [
    "wl = data[:, 0]\n",
    "flux = data[:, 1]\n",
    "print(wl)\n",
    "print(flux)"
   ]
  },
  {
   "cell_type": "markdown",
   "id": "3371862c",
   "metadata": {},
   "source": [
    "# Matplotlib\n",
    "Matplotlib is the most widely used scientific plotting package in Python. Import it by typing <font color='blue'>import matplotlib  </font> in your notebook. Use help to learn about the contents of a library module. You can import specific items from a library module to shorten programs. One can use <font color='blue'>from ... import ...   </font> to load only specific items from a library module. Then refer to them directly without\n",
    "library name as prefix.\n",
    "You can create an alias for a library module when importing it to shorten programs. One can use <font color='blue'>import ... as ...</font> to create an alias. Create alias plt for library module pyplot in your\n",
    "notebook.<br>"
   ]
  },
  {
   "cell_type": "code",
   "execution_count": 16,
   "id": "7d9bfa35",
   "metadata": {},
   "outputs": [],
   "source": [
    "import matplotlib.pyplot as plt"
   ]
  },
  {
   "cell_type": "markdown",
   "id": "de8a341d",
   "metadata": {},
   "source": [
    "# Basic Plotting"
   ]
  },
  {
   "cell_type": "markdown",
   "id": "21602ffa",
   "metadata": {},
   "source": [
    "![](http://matplotlib.org/_images/fig_map.png)"
   ]
  },
  {
   "cell_type": "markdown",
   "id": "143fad3d",
   "metadata": {},
   "source": [
    "## Let's plot something"
   ]
  },
  {
   "cell_type": "markdown",
   "id": "67727721",
   "metadata": {},
   "source": [
    "Let's plot a sine curve over 0 to 2π. First we need to define the x-coordinate. Numpy has a convenient way to create an array of evenly spaced numbers: `np.linspace`. Look at the documentation and make an array of 0 to 2π. Then create the y-coordinate. Hint: numpy also has the sine function built-in: `np.sin`. Finally, plot it with matplotlib!"
   ]
  },
  {
   "cell_type": "code",
   "execution_count": 17,
   "id": "bb207dbe",
   "metadata": {},
   "outputs": [
    {
     "data": {
      "text/plain": [
       "[<matplotlib.lines.Line2D at 0x7f42969771c0>]"
      ]
     },
     "execution_count": 17,
     "metadata": {},
     "output_type": "execute_result"
    },
    {
     "data": {
      "image/png": "[encoded data removed]",
      "text/plain": [
       "<Figure size 432x288 with 1 Axes>"
      ]
     },
     "metadata": {
      "needs_background": "light"
     },
     "output_type": "display_data"
    }
   ],
   "source": [
    "x = np.linspace(0., 2. * np.pi, 100)\n",
    "y = np.sin(x)\n",
    "plt.plot(x, y)"
   ]
  },
  {
   "cell_type": "markdown",
   "id": "3fb6ccc4",
   "metadata": {},
   "source": [
    "## Plotting Styles\n",
    "\n",
    "Matplotlib has several different linestyles for plotting. Try them out.\n",
    "\n",
    "```\n",
    " '-'             solid line style\n",
    " '--'            dashed line style\n",
    " '-.'            dash-dot line style\n",
    " ':'             dotted line style\n",
    " 'steps' | 'steps-pre' | 'steps-mid' | 'steps-post'\n",
    "```"
   ]
  },
  {
   "cell_type": "code",
   "execution_count": 18,
   "id": "06813759",
   "metadata": {},
   "outputs": [
    {
     "data": {
      "text/plain": [
       "[<matplotlib.lines.Line2D at 0x7f429687e040>]"
      ]
     },
     "execution_count": 18,
     "metadata": {},
     "output_type": "execute_result"
    },
    {
     "data": {
      "image/png": "[encoded data removed]",
      "text/plain": [
       "<Figure size 432x288 with 1 Axes>"
      ]
     },
     "metadata": {
      "needs_background": "light"
     },
     "output_type": "display_data"
    }
   ],
   "source": [
    "plt.plot(x, y)\n",
    "plt.plot(x, y, '--')\n",
    "plt.plot(x, y, linestyle=':')\n",
    "plt.plot(x, y, drawstyle ='steps')\n",
    "# etc."
   ]
  },
  {
   "cell_type": "markdown",
   "id": "7cb19fe0",
   "metadata": {},
   "source": [
    "## Other plotting styles\n",
    "\n",
    "### Scatter\n",
    "Plots the points without connecting them.\n",
    "```\n",
    "'.'             point marker\n",
    "','             pixel marker\n",
    "'o'             circle marker\n",
    "'*'             star marker\n",
    "'x'             x marker\n",
    "'D'             diamond marker\n",
    "'d'             thin_diamond marker\n",
    "```"
   ]
  },
  {
   "cell_type": "code",
   "execution_count": 19,
   "id": "60ea6f3d",
   "metadata": {},
   "outputs": [
    {
     "data": {
      "text/plain": [
       "[<matplotlib.lines.Line2D at 0x7f4296864940>]"
      ]
     },
     "execution_count": 19,
     "metadata": {},
     "output_type": "execute_result"
    },
    {
     "data": {
      "image/png": "[encoded data removed]",
      "text/plain": [
       "<Figure size 432x288 with 1 Axes>"
      ]
     },
     "metadata": {
      "needs_background": "light"
     },
     "output_type": "display_data"
    }
   ],
   "source": [
    "plt.plot(x, y, 'o')\n",
    "plt.plot(x, y, 'o', ms=30, mec='white', alpha=0.3)\n",
    "# etc."
   ]
  },
  {
   "cell_type": "markdown",
   "id": "322372eb",
   "metadata": {},
   "source": [
    "### Error bars\n",
    "You can plot the error of each individual point in both x and y directions using `plt.errorbar`"
   ]
  },
  {
   "cell_type": "code",
   "execution_count": 20,
   "id": "5d1d95a7",
   "metadata": {},
   "outputs": [
    {
     "data": {
      "text/plain": [
       "<ErrorbarContainer object of 3 artists>"
      ]
     },
     "execution_count": 20,
     "metadata": {},
     "output_type": "execute_result"
    },
    {
     "data": {
      "image/png": "[encoded data removed]",
      "text/plain": [
       "<Figure size 432x288 with 1 Axes>"
      ]
     },
     "metadata": {
      "needs_background": "light"
     },
     "output_type": "display_data"
    }
   ],
   "source": [
    "xerr = np.sqrt(x)\n",
    "yerr = 0.1\n",
    "\n",
    "plt.errorbar(x, y, yerr, xerr)"
   ]
  },
  {
   "cell_type": "markdown",
   "id": "964a3a16",
   "metadata": {},
   "source": [
    "### Histogram\n",
    "Histograms divide the data up into bins and plots the number of points in each bin. First create some random data using `np.random.normal`. Then plot it in a histogram using `plt.hist`."
   ]
  },
  {
   "cell_type": "code",
   "execution_count": 21,
   "id": "b1915499",
   "metadata": {
    "scrolled": false
   },
   "outputs": [
    {
     "data": {
      "image/png": "[encoded data removed]",
      "text/plain": [
       "<Figure size 432x288 with 1 Axes>"
      ]
     },
     "metadata": {
      "needs_background": "light"
     },
     "output_type": "display_data"
    }
   ],
   "source": [
    "#Example: \n",
    "x = np.random.normal(size=1000)\n",
    "\n",
    "plt.hist(x, bins='auto');"
   ]
  },
  {
   "cell_type": "markdown",
   "id": "9af487d5",
   "metadata": {},
   "source": [
    "## Plotting with Data\n",
    "\n",
    "### Let's read in a text file (should already in your jupyter notebook directory)\n"
   ]
  },
  {
   "cell_type": "markdown",
   "id": "62c0935d",
   "metadata": {},
   "source": [
    "**Exercise:** <font color=blue>Let's read in the file 'solar_spectrum_3.txt' and plot it using matplotlib.pyplot package!</font>\n",
    "\n",
    "* Lets use the plt.plot function\n",
    "* make the color red\n",
    "* set the axes labels: plt.xlabel('...'), plt.ylabel('...')\n",
    "* plt.title('...') to set the title: The Sun's Spectrum!\n",
    "* set the xlim to 400-2500 ... plt.xlim(low, high)\n",
    "* set the ylim to -0.1 to 1.5 ... plt.ylim(low, high)\n",
    "* and plot it!"
   ]
  },
  {
   "cell_type": "code",
   "execution_count": 22,
   "id": "4225de19",
   "metadata": {},
   "outputs": [
    {
     "data": {
      "text/plain": [
       "(-0.1, 1.5)"
      ]
     },
     "execution_count": 22,
     "metadata": {},
     "output_type": "execute_result"
    },
    {
     "data": {
      "image/png": "[encoded data removed]",
      "text/plain": [
       "<Figure size 432x288 with 1 Axes>"
      ]
     },
     "metadata": {
      "needs_background": "light"
     },
     "output_type": "display_data"
    }
   ],
   "source": [
    "data = np.loadtxt('solar_spectrum_3.txt')\n",
    "wl = data[:, 0]\n",
    "flux = data[:, 1]\n",
    "plt.plot(wl, flux, color='r')\n",
    "plt.xlabel('Wavelength (Å)')\n",
    "plt.ylabel('Flux (erg s$^{-1}$ cm$^{-2}$ Å$^{-1}$)')\n",
    "plt.title(\"The Sun's Spectrum!\")\n",
    "plt.xlim(400., 2500.)\n",
    "plt.ylim(-0.1, 1.5)"
   ]
  },
  {
   "cell_type": "markdown",
   "id": "9359df5a",
   "metadata": {},
   "source": [
    "## Matplotlib plotting Gallaries\n",
    "\n",
    "+ http://matplotlib.org/gallery.html\n",
    "+ http://www.labri.fr/perso/nrougier/coding/gallery/\n",
    "+ http://www.astroml.org/examples/index.html"
   ]
  }
 ],
 "metadata": {
  "kernelspec": {
   "display_name": "Python 3",
   "language": "python",
   "name": "python3"
  },
  "language_info": {
   "codemirror_mode": {
    "name": "ipython",
    "version": 3
   },
   "file_extension": ".py",
   "mimetype": "text/x-python",
   "name": "python",
   "nbconvert_exporter": "python",
   "pygments_lexer": "ipython3",
   "version": "3.8.8"
  }
 },
 "nbformat": 4,
 "nbformat_minor": 5
}
