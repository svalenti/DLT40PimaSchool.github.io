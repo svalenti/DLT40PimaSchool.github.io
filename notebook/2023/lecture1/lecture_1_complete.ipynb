{
 "cells": [
  {
   "cell_type": "markdown",
   "id": "b960478a",
   "metadata": {},
   "source": [
    "### Write someting to the screen\n",
    "* `shift`+`enter`: execute cell (also the Run button)"
   ]
  },
  {
   "cell_type": "markdown",
   "id": "e504c734",
   "metadata": {},
   "source": [
    "## Navigation\n",
    "### The notebook itself\n",
    "* Untitled --> lecture_1\n",
    "* `+` add a new cell below\n",
    "* File-->Save and checkpoint -or- picture of floppy disk: save\n",
    "* close browser window and type ctl+c twice on command line to exit\n",
    "* Run: exectue a cell\n",
    "* Menu: toggle between markdown and code cell\n",
    "### Within the notebook\n",
    "* modes: control (blue bar) and edit (green bar)\n",
    "\n",
    "    - `esc` for control mode\n",
    "    - `enter` or click for edit mode\n",
    "* Control mode (blue bar)\n",
    "    - `a`: new cell above\n",
    "    - `b`: new cell below (also + button)\n",
    "    - `d`+`d`: delete current cell\n",
    "    - `m`: convert the cell to markdown (also menu)\n",
    "    - `y`: convert cell to code\n",
    "* Edit mode:\n",
    "    - type code\n",
    "    \n",
    "### Markdown:\n",
    "* bullets: symbols, indentation\n",
    "* headings: `#`\n",
    "* equations: \"Latex\" e.g. `$f(x) = x^{2}$` -->$f(x) = x^{2}$\n",
    "* links\n",
    "* pseudo html"
   ]
  },
  {
   "cell_type": "markdown",
   "id": "9f3361aa",
   "metadata": {},
   "source": [
    "## Python as a calculator"
   ]
  },
  {
   "cell_type": "code",
   "execution_count": 1,
   "id": "88939922",
   "metadata": {},
   "outputs": [
    {
     "data": {
      "text/plain": [
       "3"
      ]
     },
     "execution_count": 1,
     "metadata": {},
     "output_type": "execute_result"
    }
   ],
   "source": [
    "1+2"
   ]
  },
  {
   "cell_type": "markdown",
   "id": "1ef71a57",
   "metadata": {},
   "source": [
    "**Exercise 1**: Use python to calculate `3 + 5 * 4`"
   ]
  },
  {
   "cell_type": "markdown",
   "id": "9f7d32c3",
   "metadata": {},
   "source": [
    "## Data Types part 1\n",
    "* integer: whole number (no decimal)\n",
    "* float: has a decimal (default in python 3)"
   ]
  },
  {
   "cell_type": "markdown",
   "id": "58789aec",
   "metadata": {},
   "source": [
    "## Operators in Python:\n",
    "* `+, -`: addition and subtraction\n",
    "* `*`: multiplication\n",
    "* `/` floating point division\n",
    "* `//`: integer division\n",
    "* `%` : modulo\n",
    "* `**`: exponent"
   ]
  },
  {
   "cell_type": "markdown",
   "id": "2026b8a8",
   "metadata": {},
   "source": [
    "**Exercise 2**: experiment with the different division operators dividing 5 by 3. How does the result vary betwen floating point and integer division?"
   ]
  },
  {
   "cell_type": "code",
   "execution_count": 2,
   "id": "bfd563da",
   "metadata": {},
   "outputs": [
    {
     "data": {
      "text/plain": [
       "1.6666666666666667"
      ]
     },
     "execution_count": 2,
     "metadata": {},
     "output_type": "execute_result"
    }
   ],
   "source": [
    "5/3"
   ]
  },
  {
   "cell_type": "code",
   "execution_count": 3,
   "id": "0805c6c7",
   "metadata": {},
   "outputs": [
    {
     "data": {
      "text/plain": [
       "1"
      ]
     },
     "execution_count": 3,
     "metadata": {},
     "output_type": "execute_result"
    }
   ],
   "source": [
    "5//3"
   ]
  },
  {
   "cell_type": "markdown",
   "id": "b0830ea4",
   "metadata": {},
   "source": [
    "## Reusing input and output: variables\n",
    "* use the `=` to assign any number to a variable\n",
    "* saves time and typing\n",
    "* prevents typos\n",
    "* makes code easy to update\n",
    "* can't start with a number (but can include numbers)\n",
    "* case sensitive a is not equal to A"
   ]
  },
  {
   "cell_type": "code",
   "execution_count": 4,
   "id": "13dc233d",
   "metadata": {},
   "outputs": [
    {
     "data": {
      "text/plain": [
       "1.6666666666666667"
      ]
     },
     "execution_count": 4,
     "metadata": {},
     "output_type": "execute_result"
    }
   ],
   "source": [
    "a = 5/3\n",
    "a\n",
    "b = 5\n",
    "b\n",
    "c = 3\n",
    "c\n",
    "b/c"
   ]
  },
  {
   "cell_type": "markdown",
   "id": "0b74f992",
   "metadata": {},
   "source": [
    "**Exercise 3:** Assign a value of 60.0 to a variable named `weight_kg`"
   ]
  },
  {
   "cell_type": "code",
   "execution_count": 5,
   "id": "6ef4c925",
   "metadata": {},
   "outputs": [
    {
     "data": {
      "text/plain": [
       "60.0"
      ]
     },
     "execution_count": 5,
     "metadata": {},
     "output_type": "execute_result"
    }
   ],
   "source": [
    "weight_kg = 60.0\n",
    "weight_kg"
   ]
  },
  {
   "cell_type": "markdown",
   "id": "a374f3cd",
   "metadata": {},
   "source": [
    "Note that the notebook only shows us the last line - what if we wanted to see each line?"
   ]
  },
  {
   "cell_type": "markdown",
   "id": "36656458",
   "metadata": {},
   "source": [
    "# Functions"
   ]
  },
  {
   "cell_type": "markdown",
   "id": "a35d2c40",
   "metadata": {},
   "source": [
    "* definition: a block of code that takes does something\n",
    "* formula: `output = function(input)` or just `function(input)` if you don't want to save the output\n",
    "    - usually takes input\n",
    "    - usually returns output\n",
    "    - always need parentheses\n",
    "* reusable\n",
    "* saves time and typing\n",
    "* prevents typos\n",
    "* makes code easy to update\n",
    "* cannot start with a number (but can include numbers)\n",
    "* case sensitive (python convention is for functions to be all lower case)\n",
    "* lots of prewritten functions e.g. `print`\n"
   ]
  },
  {
   "cell_type": "code",
   "execution_count": 6,
   "id": "7dba0083",
   "metadata": {},
   "outputs": [
    {
     "name": "stdout",
     "output_type": "stream",
     "text": [
      "60.0\n"
     ]
    }
   ],
   "source": [
    "print(weight_kg)"
   ]
  },
  {
   "cell_type": "markdown",
   "id": "f479aa59",
   "metadata": {},
   "source": [
    "**Exercise 4:** set the print function above equal to a variable. What happens when you print the variable?"
   ]
  },
  {
   "cell_type": "code",
   "execution_count": 7,
   "id": "b2913d09",
   "metadata": {},
   "outputs": [
    {
     "name": "stdout",
     "output_type": "stream",
     "text": [
      "60.0\n",
      "None\n"
     ]
    }
   ],
   "source": [
    "x = print(weight_kg)\n",
    "print(x)"
   ]
  },
  {
   "cell_type": "markdown",
   "id": "86250f98",
   "metadata": {},
   "source": [
    "# Data Types Part 2:\n",
    "Everything in python has a data type:\n",
    "* `function`\n",
    "* `string`: letters, surround in single or double quotes\n",
    "* `None`\n",
    "* `list`: collection of objects\n",
    "etc\n",
    "\n",
    "Use the `type` function to figure out what data type an object is"
   ]
  },
  {
   "cell_type": "code",
   "execution_count": 8,
   "id": "b16e587a",
   "metadata": {},
   "outputs": [
    {
     "data": {
      "text/plain": [
       "builtin_function_or_method"
      ]
     },
     "execution_count": 8,
     "metadata": {},
     "output_type": "execute_result"
    }
   ],
   "source": [
    "type(print)"
   ]
  },
  {
   "cell_type": "markdown",
   "id": "f60129e0",
   "metadata": {},
   "source": [
    "**Exercise 5:** Use the `type` function to find the data types of the following (try guessing what they will be before you check):\n",
    "* weight_kg\n",
    "* 'oxygen'\n",
    "* str\n",
    "* 1\n",
    "* 1.0\n",
    "* [1,3,5]\n",
    "* None"
   ]
  },
  {
   "cell_type": "code",
   "execution_count": 9,
   "id": "249015cf",
   "metadata": {},
   "outputs": [
    {
     "name": "stdout",
     "output_type": "stream",
     "text": [
      "<class 'float'>\n",
      "<class 'str'>\n",
      "<class 'type'>\n",
      "<class 'int'>\n",
      "<class 'float'>\n",
      "<class 'list'>\n",
      "<class 'NoneType'>\n"
     ]
    }
   ],
   "source": [
    "print(type(weight_kg))\n",
    "print(type('oxygen'))\n",
    "print(type(str))\n",
    "print(type(1))\n",
    "print(type(1.0))\n",
    "print(type([1,3,5]))\n",
    "print(type(None))"
   ]
  },
  {
   "cell_type": "markdown",
   "id": "c27946fd",
   "metadata": {},
   "source": [
    "# Functions with multiple input values\n",
    "inputs are separated with a comma"
   ]
  },
  {
   "cell_type": "code",
   "execution_count": 10,
   "id": "cdf3eca2",
   "metadata": {},
   "outputs": [
    {
     "data": {
      "text/plain": [
       "3.142"
      ]
     },
     "execution_count": 10,
     "metadata": {},
     "output_type": "execute_result"
    }
   ],
   "source": [
    "round(3.14159, 3)"
   ]
  },
  {
   "cell_type": "markdown",
   "id": "4103ad8c",
   "metadata": {},
   "source": [
    "# Writing your own function:\n",
    "* formula:   \n",
    "`def function_name(input1, input2):`                  <-- can be any function_name, can have as many variables as you want, colon required   \n",
    "`    thing you want to do, end with defining output`  <-- must be indented, convention 4 spaces (avoid tabs)  \n",
    "`    return output`  <-- also must be indented\n",
    "indentation is how python knows when the function starts and ends - it defines the block\n"
   ]
  },
  {
   "cell_type": "markdown",
   "id": "c6e15706",
   "metadata": {},
   "source": [
    "**Exercise 6**: write a function that takes two numbers as input and adds them together, returning the sum of the numbers. Use your function to add the numbers 1 and 3"
   ]
  },
  {
   "cell_type": "code",
   "execution_count": 11,
   "id": "9f8bd1b3",
   "metadata": {},
   "outputs": [],
   "source": [
    "def add_two_numbers(number1, number2):\n",
    "    total = number1 + number2\n",
    "    return total"
   ]
  },
  {
   "cell_type": "code",
   "execution_count": 12,
   "id": "ed54e60b",
   "metadata": {},
   "outputs": [
    {
     "data": {
      "text/plain": [
       "4"
      ]
     },
     "execution_count": 12,
     "metadata": {},
     "output_type": "execute_result"
    }
   ],
   "source": [
    "add_two_numbers(1,3)"
   ]
  },
  {
   "cell_type": "markdown",
   "id": "67ad23e9",
   "metadata": {},
   "source": [
    "# Function and Variable names:\n",
    "Be explicit so that future you knows what you did - in many cases you don't have to keep notes on your code if you use good function and variable names."
   ]
  },
  {
   "cell_type": "markdown",
   "id": "abfedbff",
   "metadata": {},
   "source": [
    "# Data types part 3: sequences\n",
    "* ordered collection\n",
    "* can refer to whole collection with a single variable"
   ]
  },
  {
   "cell_type": "markdown",
   "id": "926958f5",
   "metadata": {},
   "source": [
    "## Lists\n",
    "* defined with square brakets (e.g. `[`, `]`)\n",
    "* add to a list: `append` method (in place)\n",
    "* remove last item: `pop` method (in place)\n",
    "* conncatonate lists: `+` operator (must set equal to something)\n",
    "* get a single value from the list: `list[index]`\n",
    "    - index starts at 0\n",
    "    - can count backwards, with the index of the last item being -1, second to last -2, etc\n",
    "* get a subset of a list: slicing `list[start_index: stop_index: step]`\n",
    "    - brakets must be square\n",
    "    - includes `start_index` item\n",
    "    - excludes `end_index` item\n",
    "    - `step` is optional, default is 1\n"
   ]
  },
  {
   "cell_type": "code",
   "execution_count": 13,
   "id": "4c7000d9",
   "metadata": {},
   "outputs": [
    {
     "name": "stdout",
     "output_type": "stream",
     "text": [
      "[1, 2, 3, 'a', 'b']\n",
      "[1, 2, 3, 'a']\n",
      "[1, 2, 3, 'a', 'c', 'd']\n",
      "a\n",
      "[1, 2, 3]\n"
     ]
    }
   ],
   "source": [
    "my_list = [1,2,3, 'a']\n",
    "my_list.append('b')\n",
    "print(my_list)\n",
    "\n",
    "my_list.pop()\n",
    "print(my_list)\n",
    "\n",
    "my_list = my_list + ['c', 'd']\n",
    "print(my_list)\n",
    "\n",
    "print(my_list[3])\n",
    "\n",
    "print(my_list[0:3])\n"
   ]
  },
  {
   "cell_type": "markdown",
   "id": "f97ec1df",
   "metadata": {},
   "source": [
    "**Exercise 7:** Define the variable `odds` to be a list with the odd integers between 1 and 10. Do the following with a list:\n",
    "* print the first entry\n",
    "* print the last entry (try using the index that starts counting forward from 0 and the index that counts backwards)\n",
    "* append the next odd number to your list\n",
    "* print the second and third entries of the list\n",
    "* print every other entry\n",
    "* set the third item in the list to 6\n",
    "* Bonus: reverse the order of the list\n"
   ]
  },
  {
   "cell_type": "code",
   "execution_count": 14,
   "id": "d2e4c273",
   "metadata": {},
   "outputs": [
    {
     "name": "stdout",
     "output_type": "stream",
     "text": [
      "1\n",
      "9 9\n",
      "[1, 3, 5, 7, 9, 11]\n",
      "[3, 5]\n",
      "[1, 5, 9]\n",
      "[1, 3, 6, 7, 9, 11]\n",
      "[11, 9, 7, 6, 3]\n"
     ]
    }
   ],
   "source": [
    "odds = [1,3,5,7,9]\n",
    "print(odds[0])\n",
    "print(odds[4], odds[-1])\n",
    "odds.append(11)\n",
    "print(odds)\n",
    "print(odds[1:3])\n",
    "print(odds[0:5:2])\n",
    "odds[2] = 6\n",
    "print(odds)\n",
    "\n",
    "#Bonus\n",
    "print(odds[5:0:-1])"
   ]
  },
  {
   "cell_type": "markdown",
   "id": "cdd35bbd",
   "metadata": {},
   "source": [
    "## Strings"
   ]
  },
  {
   "cell_type": "markdown",
   "id": "7ab0de97",
   "metadata": {},
   "source": [
    "* definition: collection of charaters (letters)\n",
    "* can access any character just like a list\n",
    "* Strings are not lists:\n",
    "    * immutable: cannot be changed\n",
    "    * no `append` or `pop` method\n",
    "    * can slice\n",
    "    * can concatonate\n"
   ]
  },
  {
   "cell_type": "code",
   "execution_count": 15,
   "id": "ef5cf695",
   "metadata": {},
   "outputs": [
    {
     "name": "stdout",
     "output_type": "stream",
     "text": [
      "oxygen\n",
      "o\n"
     ]
    }
   ],
   "source": [
    "element = 'oxygen'\n",
    "print(element)\n",
    "print(element[0])"
   ]
  },
  {
   "cell_type": "markdown",
   "id": "996f5550",
   "metadata": {},
   "source": [
    "**Exercise 8:** \n",
    "* try adding an `s` to the end of `element`\n",
    "* try changing the first letter of `element` to `m` using slicing (i.e. without redefining the whole word)."
   ]
  },
  {
   "cell_type": "code",
   "execution_count": 16,
   "id": "ea9c9b1a",
   "metadata": {},
   "outputs": [
    {
     "data": {
      "text/plain": [
       "'oxygens'"
      ]
     },
     "execution_count": 16,
     "metadata": {},
     "output_type": "execute_result"
    }
   ],
   "source": [
    "element = element + 's'\n",
    "element"
   ]
  },
  {
   "cell_type": "code",
   "execution_count": 17,
   "id": "0bcc0159",
   "metadata": {},
   "outputs": [
    {
     "ename": "TypeError",
     "evalue": "'str' object does not support item assignment",
     "output_type": "error",
     "traceback": [
      "\u001b[0;31m---------------------------------------------------------------------------\u001b[0m",
      "\u001b[0;31mTypeError\u001b[0m                                 Traceback (most recent call last)",
      "Cell \u001b[0;32mIn[17], line 1\u001b[0m\n\u001b[0;32m----> 1\u001b[0m element[\u001b[38;5;241m0\u001b[39m] \u001b[38;5;241m=\u001b[39m \u001b[38;5;124m'\u001b[39m\u001b[38;5;124mm\u001b[39m\u001b[38;5;124m'\u001b[39m\n",
      "\u001b[0;31mTypeError\u001b[0m: 'str' object does not support item assignment"
     ]
    }
   ],
   "source": [
    "element[0] = 'm'"
   ]
  },
  {
   "cell_type": "markdown",
   "id": "e4946920",
   "metadata": {},
   "source": [
    "# Getting Help\n",
    "* `help` function: works in any python\n",
    "* `?`: works in the notebook"
   ]
  },
  {
   "cell_type": "code",
   "execution_count": 18,
   "id": "fb8cc35c",
   "metadata": {},
   "outputs": [],
   "source": [
    "list.append?"
   ]
  },
  {
   "cell_type": "code",
   "execution_count": 19,
   "id": "3bf8734d",
   "metadata": {},
   "outputs": [
    {
     "name": "stdout",
     "output_type": "stream",
     "text": [
      "Help on class list in module builtins:\n",
      "\n",
      "class list(object)\n",
      " |  list(iterable=(), /)\n",
      " |  \n",
      " |  Built-in mutable sequence.\n",
      " |  \n",
      " |  If no argument is given, the constructor creates a new empty list.\n",
      " |  The argument must be an iterable if specified.\n",
      " |  \n",
      " |  Methods defined here:\n",
      " |  \n",
      " |  __add__(self, value, /)\n",
      " |      Return self+value.\n",
      " |  \n",
      " |  __contains__(self, key, /)\n",
      " |      Return key in self.\n",
      " |  \n",
      " |  __delitem__(self, key, /)\n",
      " |      Delete self[key].\n",
      " |  \n",
      " |  __eq__(self, value, /)\n",
      " |      Return self==value.\n",
      " |  \n",
      " |  __ge__(self, value, /)\n",
      " |      Return self>=value.\n",
      " |  \n",
      " |  __getattribute__(self, name, /)\n",
      " |      Return getattr(self, name).\n",
      " |  \n",
      " |  __getitem__(...)\n",
      " |      x.__getitem__(y) <==> x[y]\n",
      " |  \n",
      " |  __gt__(self, value, /)\n",
      " |      Return self>value.\n",
      " |  \n",
      " |  __iadd__(self, value, /)\n",
      " |      Implement self+=value.\n",
      " |  \n",
      " |  __imul__(self, value, /)\n",
      " |      Implement self*=value.\n",
      " |  \n",
      " |  __init__(self, /, *args, **kwargs)\n",
      " |      Initialize self.  See help(type(self)) for accurate signature.\n",
      " |  \n",
      " |  __iter__(self, /)\n",
      " |      Implement iter(self).\n",
      " |  \n",
      " |  __le__(self, value, /)\n",
      " |      Return self<=value.\n",
      " |  \n",
      " |  __len__(self, /)\n",
      " |      Return len(self).\n",
      " |  \n",
      " |  __lt__(self, value, /)\n",
      " |      Return self<value.\n",
      " |  \n",
      " |  __mul__(self, value, /)\n",
      " |      Return self*value.\n",
      " |  \n",
      " |  __ne__(self, value, /)\n",
      " |      Return self!=value.\n",
      " |  \n",
      " |  __repr__(self, /)\n",
      " |      Return repr(self).\n",
      " |  \n",
      " |  __reversed__(self, /)\n",
      " |      Return a reverse iterator over the list.\n",
      " |  \n",
      " |  __rmul__(self, value, /)\n",
      " |      Return value*self.\n",
      " |  \n",
      " |  __setitem__(self, key, value, /)\n",
      " |      Set self[key] to value.\n",
      " |  \n",
      " |  __sizeof__(self, /)\n",
      " |      Return the size of the list in memory, in bytes.\n",
      " |  \n",
      " |  append(self, object, /)\n",
      " |      Append object to the end of the list.\n",
      " |  \n",
      " |  clear(self, /)\n",
      " |      Remove all items from list.\n",
      " |  \n",
      " |  copy(self, /)\n",
      " |      Return a shallow copy of the list.\n",
      " |  \n",
      " |  count(self, value, /)\n",
      " |      Return number of occurrences of value.\n",
      " |  \n",
      " |  extend(self, iterable, /)\n",
      " |      Extend list by appending elements from the iterable.\n",
      " |  \n",
      " |  index(self, value, start=0, stop=9223372036854775807, /)\n",
      " |      Return first index of value.\n",
      " |      \n",
      " |      Raises ValueError if the value is not present.\n",
      " |  \n",
      " |  insert(self, index, object, /)\n",
      " |      Insert object before index.\n",
      " |  \n",
      " |  pop(self, index=-1, /)\n",
      " |      Remove and return item at index (default last).\n",
      " |      \n",
      " |      Raises IndexError if list is empty or index is out of range.\n",
      " |  \n",
      " |  remove(self, value, /)\n",
      " |      Remove first occurrence of value.\n",
      " |      \n",
      " |      Raises ValueError if the value is not present.\n",
      " |  \n",
      " |  reverse(self, /)\n",
      " |      Reverse *IN PLACE*.\n",
      " |  \n",
      " |  sort(self, /, *, key=None, reverse=False)\n",
      " |      Sort the list in ascending order and return None.\n",
      " |      \n",
      " |      The sort is in-place (i.e. the list itself is modified) and stable (i.e. the\n",
      " |      order of two equal elements is maintained).\n",
      " |      \n",
      " |      If a key function is given, apply it once to each list item and sort them,\n",
      " |      ascending or descending, according to their function values.\n",
      " |      \n",
      " |      The reverse flag can be set to sort in descending order.\n",
      " |  \n",
      " |  ----------------------------------------------------------------------\n",
      " |  Static methods defined here:\n",
      " |  \n",
      " |  __new__(*args, **kwargs) from builtins.type\n",
      " |      Create and return a new object.  See help(type) for accurate signature.\n",
      " |  \n",
      " |  ----------------------------------------------------------------------\n",
      " |  Data and other attributes defined here:\n",
      " |  \n",
      " |  __hash__ = None\n",
      "\n"
     ]
    }
   ],
   "source": [
    "help(list)"
   ]
  },
  {
   "cell_type": "markdown",
   "id": "020f0110",
   "metadata": {},
   "source": [
    "# Loops: Doing something to everything in a collection"
   ]
  },
  {
   "cell_type": "markdown",
   "id": "88c0a617",
   "metadata": {},
   "source": [
    "What if you wanted to multiply every element of `odd` by 2?\n",
    "\n",
    "fomula: similar to function   \n",
    "`for item in list:` <-- item can be any word, colon required  \n",
    "`    modify item` <-- must be indented"
   ]
  },
  {
   "cell_type": "code",
   "execution_count": 20,
   "id": "32f4289e",
   "metadata": {},
   "outputs": [
    {
     "name": "stdout",
     "output_type": "stream",
     "text": [
      "2\n",
      "6\n",
      "12\n",
      "14\n",
      "18\n",
      "22\n"
     ]
    }
   ],
   "source": [
    "for odd_number in odds:\n",
    "    print(odd_number *2)"
   ]
  },
  {
   "cell_type": "markdown",
   "id": "67884eec",
   "metadata": {},
   "source": [
    "**Exercise 9:** use a loop to print each letter in `element`"
   ]
  },
  {
   "cell_type": "code",
   "execution_count": 21,
   "id": "e1fa1f85",
   "metadata": {},
   "outputs": [
    {
     "name": "stdout",
     "output_type": "stream",
     "text": [
      "o\n",
      "x\n",
      "y\n",
      "g\n",
      "e\n",
      "n\n",
      "s\n"
     ]
    }
   ],
   "source": [
    "for char in element:\n",
    "    print(char)"
   ]
  },
  {
   "cell_type": "markdown",
   "id": "f1a7e2f9",
   "metadata": {},
   "source": [
    "# Conditional Statements\n",
    "Do something if a condition is met\n",
    "\n",
    "formula (like loops and functions):\n",
    "\n",
    "`if condition:` <-- require colon   \n",
    "`    thing to do when condition is True`"
   ]
  },
  {
   "cell_type": "markdown",
   "id": "acf54357",
   "metadata": {},
   "source": [
    "Conditional operators:\n",
    "* `==`: equal\n",
    "* `!=`: not equal\n",
    "* `>`: greater than\n",
    "* `<`: less than\n",
    "* `<=`, `<=`: greater/less than or equal to"
   ]
  },
  {
   "cell_type": "markdown",
   "id": "2f0cf811",
   "metadata": {},
   "source": [
    "Condition: returns `True` or `False` (python data type boolean)"
   ]
  },
  {
   "cell_type": "code",
   "execution_count": 22,
   "id": "b457ecaf",
   "metadata": {},
   "outputs": [
    {
     "name": "stdout",
     "output_type": "stream",
     "text": [
      "True\n",
      "False\n"
     ]
    }
   ],
   "source": [
    "print(element == 'oxygens')\n",
    "print(element == 'oxygen')"
   ]
  },
  {
   "cell_type": "markdown",
   "id": "c032b44b",
   "metadata": {},
   "source": [
    "**Exercise 10**: write a conditional that prints the letter 'O' if the variable element is `'oxygen'`. Test it on your current variable `element` then reassign `element` to be `oxygen` and test the code again"
   ]
  },
  {
   "cell_type": "code",
   "execution_count": 23,
   "id": "3dd610e4",
   "metadata": {},
   "outputs": [
    {
     "name": "stdout",
     "output_type": "stream",
     "text": [
      "O\n"
     ]
    }
   ],
   "source": [
    "if element == 'oxygen':\n",
    "    print('O')\n",
    "    \n",
    "element = 'oxygen'\n",
    "\n",
    "if element == 'oxygen':\n",
    "    print('O')"
   ]
  },
  {
   "cell_type": "markdown",
   "id": "7fc2a8f1",
   "metadata": {},
   "source": [
    "# Packages in Python\n",
    "* Expand built in (default) toolkit\n",
    "* collection of files with new definitions (e.g. data types, functions, etc)\n",
    "* some packages available by default\n",
    "* some packages you have to install (e.g. like what we did with `sep`)\n",
    "* make new definitions available to your code: `import package`\n",
    "* use new definitions: `package.new_function`\n",
    "    * like a method: tells python where to find the new_function\n",
    "* For us: package = module = library"
   ]
  },
  {
   "cell_type": "markdown",
   "id": "388918b7",
   "metadata": {},
   "source": [
    "# Numpy\n",
    "\n",
    "* Python package to deal with arrays (like lists but with different rules)\n",
    "* All elements should be the same data type\n",
    "    - Fast \n",
    "    - Can act on all elements at once\n",
    "* build with list"
   ]
  },
  {
   "cell_type": "code",
   "execution_count": 24,
   "id": "e3b122ba",
   "metadata": {},
   "outputs": [],
   "source": [
    "import numpy as np"
   ]
  },
  {
   "cell_type": "markdown",
   "id": "ca16ceef",
   "metadata": {},
   "source": [
    "`np` alias (or nickname) so we don't have to type numpy every time. Many packages have conventional aliases that you should use"
   ]
  },
  {
   "cell_type": "code",
   "execution_count": 25,
   "id": "1222879d",
   "metadata": {},
   "outputs": [],
   "source": [
    "odds_array = np.array(odds)"
   ]
  },
  {
   "cell_type": "markdown",
   "id": "aa13798a",
   "metadata": {},
   "source": [
    "**Exercise 11**: How does multiplication act on an array vs a list? Try multiplying `odds` by 2 and `odds_array` by 2. Do you get the same result?"
   ]
  },
  {
   "cell_type": "code",
   "execution_count": 26,
   "id": "29b3fca9",
   "metadata": {},
   "outputs": [
    {
     "name": "stdout",
     "output_type": "stream",
     "text": [
      "[1, 3, 6, 7, 9, 11, 1, 3, 6, 7, 9, 11]\n",
      "[ 2  6 12 14 18 22]\n"
     ]
    }
   ],
   "source": [
    "print(odds*2)\n",
    "print(odds_array*2)"
   ]
  },
  {
   "cell_type": "markdown",
   "id": "f5d55b3e",
   "metadata": {},
   "source": [
    "## Using `numpy` functions:"
   ]
  },
  {
   "cell_type": "code",
   "execution_count": 27,
   "id": "fcbcc5ce",
   "metadata": {},
   "outputs": [
    {
     "data": {
      "text/plain": [
       "6.166666666666667"
      ]
     },
     "execution_count": 27,
     "metadata": {},
     "output_type": "execute_result"
    }
   ],
   "source": [
    "np.mean(odds_array)"
   ]
  },
  {
   "cell_type": "code",
   "execution_count": 28,
   "id": "4f44b559",
   "metadata": {},
   "outputs": [
    {
     "data": {
      "text/plain": [
       "3.387066905483596"
      ]
     },
     "execution_count": 28,
     "metadata": {},
     "output_type": "execute_result"
    }
   ],
   "source": [
    "np.std(odds_array)"
   ]
  },
  {
   "cell_type": "markdown",
   "id": "500b7a5f",
   "metadata": {},
   "source": [
    "**Exercise 12**: use `np.sum` to add together all of the values in `odds_array`"
   ]
  },
  {
   "cell_type": "code",
   "execution_count": 29,
   "id": "796e8fe1",
   "metadata": {},
   "outputs": [
    {
     "data": {
      "text/plain": [
       "37"
      ]
     },
     "execution_count": 29,
     "metadata": {},
     "output_type": "execute_result"
    }
   ],
   "source": [
    "np.sum(odds_array)"
   ]
  },
  {
   "cell_type": "markdown",
   "id": "a40dd4c9",
   "metadata": {},
   "source": [
    "# 2D Arrays"
   ]
  },
  {
   "cell_type": "markdown",
   "id": "1a544217",
   "metadata": {},
   "source": [
    "We can also have 2D arrays. We will use them a lot when working with astronomical images. Now that we have two dimensions, we must use 2 slices separated by a ``,`` to select elements using the format ``myarray[slice_row,slice_column]``.\n",
    "\n",
    "**Example:** <font color=blue>Let's define the 3x4 (3 rows, 4 columns) array and do the following operations:</font>\n",
    "- <font color=blue>View the full array</font>\n",
    "- <font color=blue>View its shape</font>\n",
    "- <font color=blue>Print the first entry of the second row</font>\n",
    "- <font color=blue>Print the entire first row</font>\n",
    "- <font color=blue>Print the first two elements for each of the last two rows</font>"
   ]
  },
  {
   "cell_type": "code",
   "execution_count": 30,
   "id": "5ccd0793",
   "metadata": {},
   "outputs": [
    {
     "name": "stdout",
     "output_type": "stream",
     "text": [
      "[[ 1  2  3  4]\n",
      " [ 4  5  6  7]\n",
      " [ 8  9 10 11]]\n",
      "(3, 4)\n",
      "4\n",
      "[[4 5]\n",
      " [8 9]]\n"
     ]
    }
   ],
   "source": [
    "my_2d_array = np.array([[1, 2, 3, 4],\n",
    "               [4, 5, 6, 7],\n",
    "               [8, 9, 10, 11]])\n",
    "print(my_2d_array)\n",
    "print(my_2d_array.shape)\n",
    "print(my_2d_array[1, 0])\n",
    "print(my_2d_array[1:3, 0:2])"
   ]
  },
  {
   "cell_type": "markdown",
   "id": "f83af2e1",
   "metadata": {},
   "source": [
    "# Dictionaries"
   ]
  },
  {
   "cell_type": "markdown",
   "id": "070cb84a",
   "metadata": {},
   "source": [
    "Dictionary are very useful in python to store information of any type.\n",
    "In astronomy a very common use of dictionary is to store all the data connected with one observation with the telescope: exposure time, observer, site of the telescope, temperature of the detector, date of the observation, etc.\n",
    "Each entry of the dictionary is made up of a *key* paired with a *value*.\n",
    "To access a value of a dictionary, we use brackets: ``my_dict[key]``.\n",
    "Each entry is called an `item`. You can access a dictionaries items with `dict.item`, keys with `dict.keys()`, and values with `dict.values`\n",
    "\n",
    "**Exercise:** <font color=blue>Let's make a simple dictionary and see how we select info from it. Create a dictionary of the element symbols (H, He, Li, Be, B, and C) containing their names (hydrogen, helium, lithium, beryllium, boron, and carbon). Create a loop over the dictionary keys to print each value.</font>"
   ]
  },
  {
   "cell_type": "code",
   "execution_count": 31,
   "id": "e31d5d4c",
   "metadata": {},
   "outputs": [
    {
     "name": "stdout",
     "output_type": "stream",
     "text": [
      "hydrogen\n",
      "helium\n",
      "beryllium\n",
      "boron\n",
      "caron\n"
     ]
    }
   ],
   "source": [
    "element_dict = {'H': 'hydrogen',\n",
    "               'He': 'helium',\n",
    "               'Be': 'beryllium',\n",
    "               'B': 'boron',\n",
    "               'C': 'caron'}\n",
    "\n",
    "for elem_key in element_dict.keys():\n",
    "    print(element_dict[elem_key])"
   ]
  },
  {
   "cell_type": "markdown",
   "id": "b903f00a",
   "metadata": {},
   "source": [
    "# Reading a text file"
   ]
  },
  {
   "cell_type": "markdown",
   "id": "4c7965b2",
   "metadata": {},
   "source": [
    "Let's use NumPy to read a file.\n",
    "\n",
    "**Exercise:** <font color=blue>Read an ascii file of the solar spectrum using NumPy.</font>\n",
    "If you look at the file there are two columns lke this:  \n",
    "Wavelength (nm)    flux (W*m-2*nm-1)  \n",
    "xx                 yy  \n",
    "xx                 yy  \n",
    "xx                 yy  "
   ]
  },
  {
   "cell_type": "code",
   "execution_count": 32,
   "id": "c2399eaa",
   "metadata": {},
   "outputs": [
    {
     "name": "stdout",
     "output_type": "stream",
     "text": [
      "[[2.8000e+02 2.5361e-26]\n",
      " [2.8050e+02 1.0917e-24]\n",
      " [2.8100e+02 6.1253e-24]]\n"
     ]
    }
   ],
   "source": [
    "data = np.genfromtxt('solar_spectrum_3.txt')\n",
    "print(data[0:3])"
   ]
  },
  {
   "cell_type": "markdown",
   "id": "ddeae237",
   "metadata": {},
   "source": [
    "Now, let's split data in 2 arrays (one for wavelength and one for flux).  \n",
    "``zip(xx,yy)`` is an aweasome command to combine two arrays.  \n",
    "``zip(*xxx)`` does the opposite of zip, splits data in 2 arrays.  \n",
    "(..... I wish someone would have told me about ``zip`` when i started to learn python ....)"
   ]
  },
  {
   "cell_type": "code",
   "execution_count": 33,
   "id": "06297aa6",
   "metadata": {},
   "outputs": [
    {
     "name": "stdout",
     "output_type": "stream",
     "text": [
      "(280.0, 280.5, 281.0, 281.5, 282.0, 282.5, 283.0, 283.5, 284.0, 284.5, 285.0, 285.5, 286.0, 286.5, 287.0, 287.5, 288.0, 288.5, 289.0, 289.5, 290.0, 290.5, 291.0, 291.5, 292.0, 292.5, 293.0, 293.5, 294.0, 294.5, 295.0, 295.5, 296.0, 296.5, 297.0, 297.5, 298.0, 298.5, 299.0, 299.5, 300.0, 300.5, 301.0, 301.5, 302.0, 302.5, 303.0, 303.5, 304.0, 304.5, 305.0, 305.5, 306.0, 306.5, 307.0, 307.5, 308.0, 308.5, 309.0, 309.5, 310.0, 310.5, 311.0, 311.5, 312.0, 312.5, 313.0, 313.5, 314.0, 314.5, 315.0, 315.5, 316.0, 316.5, 317.0, 317.5, 318.0, 318.5, 319.0, 319.5, 320.0, 320.5, 321.0, 321.5, 322.0, 322.5, 323.0, 323.5, 324.0, 324.5, 325.0, 325.5, 326.0, 326.5, 327.0, 327.5, 328.0, 328.5, 329.0, 329.5, 330.0, 330.5, 331.0, 331.5, 332.0, 332.5, 333.0, 333.5, 334.0, 334.5, 335.0, 335.5, 336.0, 336.5, 337.0, 337.5, 338.0, 338.5, 339.0, 339.5, 340.0, 340.5, 341.0, 341.5, 342.0, 342.5, 343.0, 343.5, 344.0, 344.5, 345.0, 345.5, 346.0, 346.5, 347.0, 347.5, 348.0, 348.5, 349.0, 349.5, 350.0, 350.5, 351.0, 351.5, 352.0, 352.5, 353.0, 353.5, 354.0, 354.5, 355.0, 355.5, 356.0, 356.5, 357.0, 357.5, 358.0, 358.5, 359.0, 359.5, 360.0, 360.5, 361.0, 361.5, 362.0, 362.5, 363.0, 363.5, 364.0, 364.5, 365.0, 365.5, 366.0, 366.5, 367.0, 367.5, 368.0, 368.5, 369.0, 369.5, 370.0, 370.5, 371.0, 371.5, 372.0, 372.5, 373.0, 373.5, 374.0, 374.5, 375.0, 375.5, 376.0, 376.5, 377.0, 377.5, 378.0, 378.5, 379.0, 379.5, 380.0, 380.5, 381.0, 381.5, 382.0, 382.5, 383.0, 383.5, 384.0, 384.5, 385.0, 385.5, 386.0, 386.5, 387.0, 387.5, 388.0, 388.5, 389.0, 389.5, 390.0, 390.5, 391.0, 391.5, 392.0, 392.5, 393.0, 393.5, 394.0, 394.5, 395.0, 395.5, 396.0, 396.5, 397.0, 397.5, 398.0, 398.5, 399.0, 399.5, 400.0, 401.0, 402.0, 403.0, 404.0, 405.0, 406.0, 407.0, 408.0, 409.0, 410.0, 411.0, 412.0, 413.0, 414.0, 415.0, 416.0, 417.0, 418.0, 419.0, 420.0, 421.0, 422.0, 423.0, 424.0, 425.0, 426.0, 427.0, 428.0, 429.0, 430.0, 431.0, 432.0, 433.0, 434.0, 435.0, 436.0, 437.0, 438.0, 439.0, 440.0, 441.0, 442.0, 443.0, 444.0, 445.0, 446.0, 447.0, 448.0, 449.0, 450.0, 451.0, 452.0, 453.0, 454.0, 455.0, 456.0, 457.0, 458.0, 459.0, 460.0, 461.0, 462.0, 463.0, 464.0, 465.0, 466.0, 467.0, 468.0, 469.0, 470.0, 471.0, 472.0, 473.0, 474.0, 475.0, 476.0, 477.0, 478.0, 479.0, 480.0, 481.0, 482.0, 483.0, 484.0, 485.0, 486.0, 487.0, 488.0, 489.0, 490.0, 491.0, 492.0, 493.0, 494.0, 495.0, 496.0, 497.0, 498.0, 499.0, 500.0, 501.0, 502.0, 503.0, 504.0, 505.0, 506.0, 507.0, 508.0, 509.0, 510.0, 511.0, 512.0, 513.0, 514.0, 515.0, 516.0, 517.0, 518.0, 519.0, 520.0, 521.0, 522.0, 523.0, 524.0, 525.0, 526.0, 527.0, 528.0, 529.0, 530.0, 531.0, 532.0, 533.0, 534.0, 535.0, 536.0, 537.0, 538.0, 539.0, 540.0, 541.0, 542.0, 543.0, 544.0, 545.0, 546.0, 547.0, 548.0, 549.0, 550.0, 551.0, 552.0, 553.0, 554.0, 555.0, 556.0, 557.0, 558.0, 559.0, 560.0, 561.0, 562.0, 563.0, 564.0, 565.0, 566.0, 567.0, 568.0, 569.0, 570.0, 571.0, 572.0, 573.0, 574.0, 575.0, 576.0, 577.0, 578.0, 579.0, 580.0, 581.0, 582.0, 583.0, 584.0, 585.0, 586.0, 587.0, 588.0, 589.0, 590.0, 591.0, 592.0, 593.0, 594.0, 595.0, 596.0, 597.0, 598.0, 599.0, 600.0, 601.0, 602.0, 603.0, 604.0, 605.0, 606.0, 607.0, 608.0, 609.0, 610.0, 611.0, 612.0, 613.0, 614.0, 615.0, 616.0, 617.0, 618.0, 619.0, 620.0, 621.0, 622.0, 623.0, 624.0, 625.0, 626.0, 627.0, 628.0, 629.0, 630.0, 631.0, 632.0, 633.0, 634.0, 635.0, 636.0, 637.0, 638.0, 639.0, 640.0, 641.0, 642.0, 643.0, 644.0, 645.0, 646.0, 647.0, 648.0, 649.0, 650.0, 651.0, 652.0, 653.0, 654.0, 655.0, 656.0, 657.0, 658.0, 659.0, 660.0, 661.0, 662.0, 663.0, 664.0, 665.0, 666.0, 667.0, 668.0, 669.0, 670.0, 671.0, 672.0, 673.0, 674.0, 675.0, 676.0, 677.0, 678.0, 679.0, 680.0, 681.0, 682.0, 683.0, 684.0, 685.0, 686.0, 687.0, 688.0, 689.0, 690.0, 691.0, 692.0, 693.0, 694.0, 695.0, 696.0, 697.0, 698.0, 699.0, 700.0, 701.0, 702.0, 703.0, 704.0, 705.0, 706.0, 707.0, 708.0, 709.0, 710.0, 711.0, 712.0, 713.0, 714.0, 715.0, 716.0, 717.0, 718.0, 719.0, 720.0, 721.0, 722.0, 723.0, 724.0, 725.0, 726.0, 727.0, 728.0, 729.0, 730.0, 731.0, 732.0, 733.0, 734.0, 735.0, 736.0, 737.0, 738.0, 739.0, 740.0, 741.0, 742.0, 743.0, 744.0, 745.0, 746.0, 747.0, 748.0, 749.0, 750.0, 751.0, 752.0, 753.0, 754.0, 755.0, 756.0, 757.0, 758.0, 759.0, 760.0, 761.0, 762.0, 763.0, 764.0, 765.0, 766.0, 767.0, 768.0, 769.0, 770.0, 771.0, 772.0, 773.0, 774.0, 775.0, 776.0, 777.0, 778.0, 779.0, 780.0, 781.0, 782.0, 783.0, 784.0, 785.0, 786.0, 787.0, 788.0, 789.0, 790.0, 791.0, 792.0, 793.0, 794.0, 795.0, 796.0, 797.0, 798.0, 799.0, 800.0, 801.0, 802.0, 803.0, 804.0, 805.0, 806.0, 807.0, 808.0, 809.0, 810.0, 811.0, 812.0, 813.0, 814.0, 815.0, 816.0, 817.0, 818.0, 819.0, 820.0, 821.0, 822.0, 823.0, 824.0, 825.0, 826.0, 827.0, 828.0, 829.0, 830.0, 831.0, 832.0, 833.0, 834.0, 835.0, 836.0, 837.0, 838.0, 839.0, 840.0, 841.0, 842.0, 843.0, 844.0, 845.0, 846.0, 847.0, 848.0, 849.0, 850.0, 851.0, 852.0, 853.0, 854.0, 855.0, 856.0, 857.0, 858.0, 859.0, 860.0, 861.0, 862.0, 863.0, 864.0, 865.0, 866.0, 867.0, 868.0, 869.0, 870.0, 871.0, 872.0, 873.0, 874.0, 875.0, 876.0, 877.0, 878.0, 879.0, 880.0, 881.0, 882.0, 883.0, 884.0, 885.0, 886.0, 887.0, 888.0, 889.0, 890.0, 891.0, 892.0, 893.0, 894.0, 895.0, 896.0, 897.0, 898.0, 899.0, 900.0, 901.0, 902.0, 903.0, 904.0, 905.0, 906.0, 907.0, 908.0, 909.0, 910.0, 911.0, 912.0, 913.0, 914.0, 915.0, 916.0, 917.0, 918.0, 919.0, 920.0, 921.0, 922.0, 923.0, 924.0, 925.0, 926.0, 927.0, 928.0, 929.0, 930.0, 931.0, 932.0, 933.0, 934.0, 935.0, 936.0, 937.0, 938.0, 939.0, 940.0, 941.0, 942.0, 943.0, 944.0, 945.0, 946.0, 947.0, 948.0, 949.0, 950.0, 951.0, 952.0, 953.0, 954.0, 955.0, 956.0, 957.0, 958.0, 959.0, 960.0, 961.0, 962.0, 963.0, 964.0, 965.0, 966.0, 967.0, 968.0, 969.0, 970.0, 971.0, 972.0, 973.0, 974.0, 975.0, 976.0, 977.0, 978.0, 979.0, 980.0, 981.0, 982.0, 983.0, 984.0, 985.0, 986.0, 987.0, 988.0, 989.0, 990.0, 991.0, 992.0, 993.0, 994.0, 995.0, 996.0, 997.0, 998.0, 999.0, 1000.0, 1001.0, 1002.0, 1003.0, 1004.0, 1005.0, 1006.0, 1007.0, 1008.0, 1009.0, 1010.0, 1011.0, 1012.0, 1013.0, 1014.0, 1015.0, 1016.0, 1017.0, 1018.0, 1019.0, 1020.0, 1021.0, 1022.0, 1023.0, 1024.0, 1025.0, 1026.0, 1027.0, 1028.0, 1029.0, 1030.0, 1031.0, 1032.0, 1033.0, 1034.0, 1035.0, 1036.0, 1037.0, 1038.0, 1039.0, 1040.0, 1041.0, 1042.0, 1043.0, 1044.0, 1045.0, 1046.0, 1047.0, 1048.0, 1049.0, 1050.0, 1051.0, 1052.0, 1053.0, 1054.0, 1055.0, 1056.0, 1057.0, 1058.0, 1059.0, 1060.0, 1061.0, 1062.0, 1063.0, 1064.0, 1065.0, 1066.0, 1067.0, 1068.0, 1069.0, 1070.0, 1071.0, 1072.0, 1073.0, 1074.0, 1075.0, 1076.0, 1077.0, 1078.0, 1079.0, 1080.0, 1081.0, 1082.0, 1083.0, 1084.0, 1085.0, 1086.0, 1087.0, 1088.0, 1089.0, 1090.0, 1091.0, 1092.0, 1093.0, 1094.0, 1095.0, 1096.0, 1097.0, 1098.0, 1099.0, 1100.0, 1101.0, 1102.0, 1103.0, 1104.0, 1105.0, 1106.0, 1107.0, 1108.0, 1109.0, 1110.0, 1111.0, 1112.0, 1113.0, 1114.0, 1115.0, 1116.0, 1117.0, 1118.0, 1119.0, 1120.0, 1121.0, 1122.0, 1123.0, 1124.0, 1125.0, 1126.0, 1127.0, 1128.0, 1129.0, 1130.0, 1131.0, 1132.0, 1133.0, 1134.0, 1135.0, 1136.0, 1137.0, 1138.0, 1139.0, 1140.0, 1141.0, 1142.0, 1143.0, 1144.0, 1145.0, 1146.0, 1147.0, 1148.0, 1149.0, 1150.0, 1151.0, 1152.0, 1153.0, 1154.0, 1155.0, 1156.0, 1157.0, 1158.0, 1159.0, 1160.0, 1161.0, 1162.0, 1163.0, 1164.0, 1165.0, 1166.0, 1167.0, 1168.0, 1169.0, 1170.0, 1171.0, 1172.0, 1173.0, 1174.0, 1175.0, 1176.0, 1177.0, 1178.0, 1179.0, 1180.0, 1181.0, 1182.0, 1183.0, 1184.0, 1185.0, 1186.0, 1187.0, 1188.0, 1189.0, 1190.0, 1191.0, 1192.0, 1193.0, 1194.0, 1195.0, 1196.0, 1197.0, 1198.0, 1199.0, 1200.0, 1201.0, 1202.0, 1203.0, 1204.0, 1205.0, 1206.0, 1207.0, 1208.0, 1209.0, 1210.0, 1211.0, 1212.0, 1213.0, 1214.0, 1215.0, 1216.0, 1217.0, 1218.0, 1219.0, 1220.0, 1221.0, 1222.0, 1223.0, 1224.0, 1225.0, 1226.0, 1227.0, 1228.0, 1229.0, 1230.0, 1231.0, 1232.0, 1233.0, 1234.0, 1235.0, 1236.0, 1237.0, 1238.0, 1239.0, 1240.0, 1241.0, 1242.0, 1243.0, 1244.0, 1245.0, 1246.0, 1247.0, 1248.0, 1249.0, 1250.0, 1251.0, 1252.0, 1253.0, 1254.0, 1255.0, 1256.0, 1257.0, 1258.0, 1259.0, 1260.0, 1261.0, 1262.0, 1263.0, 1264.0, 1265.0, 1266.0, 1267.0, 1268.0, 1269.0, 1270.0, 1271.0, 1272.0, 1273.0, 1274.0, 1275.0, 1276.0, 1277.0, 1278.0, 1279.0, 1280.0, 1281.0, 1282.0, 1283.0, 1284.0, 1285.0, 1286.0, 1287.0, 1288.0, 1289.0, 1290.0, 1291.0, 1292.0, 1293.0, 1294.0, 1295.0, 1296.0, 1297.0, 1298.0, 1299.0, 1300.0, 1301.0, 1302.0, 1303.0, 1304.0, 1305.0, 1306.0, 1307.0, 1308.0, 1309.0, 1310.0, 1311.0, 1312.0, 1313.0, 1314.0, 1315.0, 1316.0, 1317.0, 1318.0, 1319.0, 1320.0, 1321.0, 1322.0, 1323.0, 1324.0, 1325.0, 1326.0, 1327.0, 1328.0, 1329.0, 1330.0, 1331.0, 1332.0, 1333.0, 1334.0, 1335.0, 1336.0, 1337.0, 1338.0, 1339.0, 1340.0, 1341.0, 1342.0, 1343.0, 1344.0, 1345.0, 1346.0, 1347.0, 1348.0, 1349.0, 1350.0, 1351.0, 1352.0, 1353.0, 1354.0, 1355.0, 1356.0, 1357.0, 1358.0, 1359.0, 1360.0, 1361.0, 1362.0, 1363.0, 1364.0, 1365.0, 1366.0, 1367.0, 1368.0, 1369.0, 1370.0, 1371.0, 1372.0, 1373.0, 1374.0, 1375.0, 1376.0, 1377.0, 1378.0, 1379.0, 1380.0, 1381.0, 1382.0, 1383.0, 1384.0, 1385.0, 1386.0, 1387.0, 1388.0, 1389.0, 1390.0, 1391.0, 1392.0, 1393.0, 1394.0, 1395.0, 1396.0, 1397.0, 1398.0, 1399.0, 1400.0, 1401.0, 1402.0, 1403.0, 1404.0, 1405.0, 1406.0, 1407.0, 1408.0, 1409.0, 1410.0, 1411.0, 1412.0, 1413.0, 1414.0, 1415.0, 1416.0, 1417.0, 1418.0, 1419.0, 1420.0, 1421.0, 1422.0, 1423.0, 1424.0, 1425.0, 1426.0, 1427.0, 1428.0, 1429.0, 1430.0, 1431.0, 1432.0, 1433.0, 1434.0, 1435.0, 1436.0, 1437.0, 1438.0, 1439.0, 1440.0, 1441.0, 1442.0, 1443.0, 1444.0, 1445.0, 1446.0, 1447.0, 1448.0, 1449.0, 1450.0, 1451.0, 1452.0, 1453.0, 1454.0, 1455.0, 1456.0, 1457.0, 1458.0, 1459.0, 1460.0, 1461.0, 1462.0, 1463.0, 1464.0, 1465.0, 1466.0, 1467.0, 1468.0, 1469.0, 1470.0, 1471.0, 1472.0, 1473.0, 1474.0, 1475.0, 1476.0, 1477.0, 1478.0, 1479.0, 1480.0, 1481.0, 1482.0, 1483.0, 1484.0, 1485.0, 1486.0, 1487.0, 1488.0, 1489.0, 1490.0, 1491.0, 1492.0, 1493.0, 1494.0, 1495.0, 1496.0, 1497.0, 1498.0, 1499.0, 1500.0, 1501.0, 1502.0, 1503.0, 1504.0, 1505.0, 1506.0, 1507.0, 1508.0, 1509.0, 1510.0, 1511.0, 1512.0, 1513.0, 1514.0, 1515.0, 1516.0, 1517.0, 1518.0, 1519.0, 1520.0, 1521.0, 1522.0, 1523.0, 1524.0, 1525.0, 1526.0, 1527.0, 1528.0, 1529.0, 1530.0, 1531.0, 1532.0, 1533.0, 1534.0, 1535.0, 1536.0, 1537.0, 1538.0, 1539.0, 1540.0, 1541.0, 1542.0, 1543.0, 1544.0, 1545.0, 1546.0, 1547.0, 1548.0, 1549.0, 1550.0, 1551.0, 1552.0, 1553.0, 1554.0, 1555.0, 1556.0, 1557.0, 1558.0, 1559.0, 1560.0, 1561.0, 1562.0, 1563.0, 1564.0, 1565.0, 1566.0, 1567.0, 1568.0, 1569.0, 1570.0, 1571.0, 1572.0, 1573.0, 1574.0, 1575.0, 1576.0, 1577.0, 1578.0, 1579.0, 1580.0, 1581.0, 1582.0, 1583.0, 1584.0, 1585.0, 1586.0, 1587.0, 1588.0, 1589.0, 1590.0, 1591.0, 1592.0, 1593.0, 1594.0, 1595.0, 1596.0, 1597.0, 1598.0, 1599.0, 1600.0, 1601.0, 1602.0, 1603.0, 1604.0, 1605.0, 1606.0, 1607.0, 1608.0, 1609.0, 1610.0, 1611.0, 1612.0, 1613.0, 1614.0, 1615.0, 1616.0, 1617.0, 1618.0, 1619.0, 1620.0, 1621.0, 1622.0, 1623.0, 1624.0, 1625.0, 1626.0, 1627.0, 1628.0, 1629.0, 1630.0, 1631.0, 1632.0, 1633.0, 1634.0, 1635.0, 1636.0, 1637.0, 1638.0, 1639.0, 1640.0, 1641.0, 1642.0, 1643.0, 1644.0, 1645.0, 1646.0, 1647.0, 1648.0, 1649.0, 1650.0, 1651.0, 1652.0, 1653.0, 1654.0, 1655.0, 1656.0, 1657.0, 1658.0, 1659.0, 1660.0, 1661.0, 1662.0, 1663.0, 1664.0, 1665.0, 1666.0, 1667.0, 1668.0, 1669.0, 1670.0, 1671.0, 1672.0, 1673.0, 1674.0, 1675.0, 1676.0, 1677.0, 1678.0, 1679.0, 1680.0, 1681.0, 1682.0, 1683.0, 1684.0, 1685.0, 1686.0, 1687.0, 1688.0, 1689.0, 1690.0, 1691.0, 1692.0, 1693.0, 1694.0, 1695.0, 1696.0, 1697.0, 1698.0, 1699.0, 1700.0, 1702.0, 1705.0, 1710.0, 1715.0, 1720.0, 1725.0, 1730.0, 1735.0, 1740.0, 1745.0, 1750.0, 1755.0, 1760.0, 1765.0, 1770.0, 1775.0, 1780.0, 1785.0, 1790.0, 1795.0, 1800.0, 1805.0, 1810.0, 1815.0, 1820.0, 1825.0, 1830.0, 1835.0, 1840.0, 1845.0, 1850.0, 1855.0, 1860.0, 1865.0, 1870.0, 1875.0, 1880.0, 1885.0, 1890.0, 1895.0, 1900.0, 1905.0, 1910.0, 1915.0, 1920.0, 1925.0, 1930.0, 1935.0, 1940.0, 1945.0, 1950.0, 1955.0, 1960.0, 1965.0, 1970.0, 1975.0, 1980.0, 1985.0, 1990.0, 1995.0, 2000.0, 2005.0, 2010.0, 2015.0, 2020.0, 2025.0, 2030.0, 2035.0, 2040.0, 2045.0, 2050.0, 2055.0, 2060.0, 2065.0, 2070.0, 2075.0, 2080.0, 2085.0, 2090.0, 2095.0, 2100.0, 2105.0, 2110.0, 2115.0, 2120.0, 2125.0, 2130.0, 2135.0, 2140.0, 2145.0, 2150.0, 2155.0, 2160.0, 2165.0, 2170.0, 2175.0, 2180.0, 2185.0, 2190.0, 2195.0, 2200.0, 2205.0, 2210.0, 2215.0, 2220.0, 2225.0, 2230.0, 2235.0, 2240.0, 2245.0, 2250.0, 2255.0, 2260.0, 2265.0, 2270.0, 2275.0, 2280.0, 2285.0, 2290.0, 2295.0, 2300.0, 2305.0, 2310.0, 2315.0, 2320.0, 2325.0, 2330.0, 2335.0, 2340.0, 2345.0, 2350.0, 2355.0, 2360.0, 2365.0, 2370.0, 2375.0, 2380.0, 2385.0, 2390.0, 2395.0, 2400.0, 2405.0, 2410.0, 2415.0, 2420.0, 2425.0, 2430.0, 2435.0, 2440.0, 2445.0, 2450.0, 2455.0, 2460.0, 2465.0, 2470.0, 2475.0, 2480.0, 2485.0, 2490.0, 2495.0, 2500.0, 2505.0, 2510.0, 2515.0, 2520.0, 2525.0, 2530.0, 2535.0, 2540.0, 2545.0, 2550.0, 2555.0, 2560.0, 2565.0, 2570.0, 2575.0, 2580.0, 2585.0, 2590.0, 2595.0, 2600.0, 2605.0, 2610.0, 2615.0, 2620.0, 2625.0, 2630.0, 2635.0, 2640.0, 2645.0, 2650.0, 2655.0, 2660.0, 2665.0, 2670.0, 2675.0, 2680.0, 2685.0, 2690.0, 2695.0, 2700.0, 2705.0, 2710.0, 2715.0, 2720.0, 2725.0, 2730.0, 2735.0, 2740.0, 2745.0, 2750.0, 2755.0, 2760.0, 2765.0, 2770.0, 2775.0, 2780.0, 2785.0, 2790.0, 2795.0, 2800.0, 2805.0, 2810.0, 2815.0, 2820.0, 2825.0, 2830.0, 2835.0, 2840.0, 2845.0, 2850.0, 2855.0, 2860.0, 2865.0, 2870.0, 2875.0, 2880.0, 2885.0, 2890.0, 2895.0, 2900.0, 2905.0, 2910.0, 2915.0, 2920.0, 2925.0, 2930.0, 2935.0, 2940.0, 2945.0, 2950.0, 2955.0, 2960.0, 2965.0, 2970.0, 2975.0, 2980.0, 2985.0, 2990.0, 2995.0, 3000.0, 3005.0, 3010.0, 3015.0, 3020.0, 3025.0, 3030.0, 3035.0, 3040.0, 3045.0, 3050.0, 3055.0, 3060.0, 3065.0, 3070.0, 3075.0, 3080.0, 3085.0, 3090.0, 3095.0, 3100.0, 3105.0, 3110.0, 3115.0, 3120.0, 3125.0, 3130.0, 3135.0, 3140.0, 3145.0, 3150.0, 3155.0, 3160.0, 3165.0, 3170.0, 3175.0, 3180.0, 3185.0, 3190.0, 3195.0, 3200.0, 3205.0, 3210.0, 3215.0, 3220.0, 3225.0, 3230.0, 3235.0, 3240.0, 3245.0, 3250.0, 3255.0, 3260.0, 3265.0, 3270.0, 3275.0, 3280.0, 3285.0, 3290.0, 3295.0, 3300.0, 3305.0, 3310.0, 3315.0, 3320.0, 3325.0, 3330.0, 3335.0, 3340.0, 3345.0, 3350.0, 3355.0, 3360.0, 3365.0, 3370.0, 3375.0, 3380.0, 3385.0, 3390.0, 3395.0, 3400.0, 3405.0, 3410.0, 3415.0, 3420.0, 3425.0, 3430.0, 3435.0, 3440.0, 3445.0, 3450.0, 3455.0, 3460.0, 3465.0, 3470.0, 3475.0, 3480.0, 3485.0, 3490.0, 3495.0, 3500.0, 3505.0, 3510.0, 3515.0, 3520.0, 3525.0, 3530.0, 3535.0, 3540.0, 3545.0, 3550.0, 3555.0, 3560.0, 3565.0, 3570.0, 3575.0, 3580.0, 3585.0, 3590.0, 3595.0, 3600.0, 3605.0, 3610.0, 3615.0, 3620.0, 3625.0, 3630.0, 3635.0, 3640.0, 3645.0, 3650.0, 3655.0, 3660.0, 3665.0, 3670.0, 3675.0, 3680.0, 3685.0, 3690.0, 3695.0, 3700.0, 3705.0, 3710.0, 3715.0, 3720.0, 3725.0, 3730.0, 3735.0, 3740.0, 3745.0, 3750.0, 3755.0, 3760.0, 3765.0, 3770.0, 3775.0, 3780.0, 3785.0, 3790.0, 3795.0, 3800.0, 3805.0, 3810.0, 3815.0, 3820.0, 3825.0, 3830.0, 3835.0, 3840.0, 3845.0, 3850.0, 3855.0, 3860.0, 3865.0, 3870.0, 3875.0, 3880.0, 3885.0, 3890.0, 3895.0, 3900.0, 3905.0, 3910.0, 3915.0, 3920.0, 3925.0, 3930.0, 3935.0, 3940.0, 3945.0, 3950.0, 3955.0, 3960.0, 3965.0, 3970.0, 3975.0, 3980.0, 3985.0, 3990.0, 3995.0, 4000.0)\n"
     ]
    }
   ],
   "source": [
    "wavelength, flux = zip(*data)\n",
    "print(wavelength)"
   ]
  }
 ],
 "metadata": {
  "kernelspec": {
   "display_name": "pima",
   "language": "python",
   "name": "pima"
  },
  "language_info": {
   "codemirror_mode": {
    "name": "ipython",
    "version": 3
   },
   "file_extension": ".py",
   "mimetype": "text/x-python",
   "name": "python",
   "nbconvert_exporter": "python",
   "pygments_lexer": "ipython3",
   "version": "3.8.16"
  }
 },
 "nbformat": 4,
 "nbformat_minor": 5
}
