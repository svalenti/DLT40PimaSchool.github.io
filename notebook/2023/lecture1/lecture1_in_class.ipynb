{
 "cells": [
  {
   "cell_type": "markdown",
   "id": "240e0d97",
   "metadata": {},
   "source": [
    "### Write someting to the screen\n",
    "* `shift`+`enter`: execute cell (also the Run button)"
   ]
  },
  {
   "cell_type": "code",
   "execution_count": null,
   "id": "86ebfb1c",
   "metadata": {},
   "outputs": [],
   "source": []
  },
  {
   "cell_type": "markdown",
   "id": "2e284daa",
   "metadata": {},
   "source": [
    "## Navigation\n",
    "### The notebook itself\n",
    "* Untitled --> lecture_1\n",
    "* `+` add a new cell below\n",
    "* File-->Save and checkpoint -or- picture of floppy disk: save\n",
    "* close browser window and type ctl+c twice on command line to exit\n",
    "* Run: exectue a cell\n",
    "* Menu: toggle between markdown and code cell\n",
    "### Within the notebook\n",
    "* modes: control (blue bar) and edit (green bar)\n",
    "\n",
    "    - `esc` for control mode\n",
    "    - `enter` or click for edit mode\n",
    "* Control mode (blue bar)\n",
    "    - `a`: new cell above\n",
    "    - `b`: new cell below (also + button)\n",
    "    - `d`+`d`: delete current cell\n",
    "    - `m`: convert the cell to markdown (also menu)\n",
    "    - `y`: convert cell to code\n",
    "* Edit mode:\n",
    "    - type code\n",
    "    \n",
    "### Markdown:\n",
    "* bullets: symbols, indentation\n",
    "* headings: `#`\n",
    "* equations: \"Latex\" e.g. `$f(x) = x^{2}$` -->$f(x) = x^{2}$\n",
    "* links\n",
    "* pseudo html"
   ]
  },
  {
   "cell_type": "markdown",
   "id": "3eda2b24",
   "metadata": {},
   "source": [
    "## Python as a calculator"
   ]
  },
  {
   "cell_type": "code",
   "execution_count": null,
   "id": "935f2091",
   "metadata": {},
   "outputs": [],
   "source": []
  },
  {
   "cell_type": "markdown",
   "id": "e558fb9d",
   "metadata": {},
   "source": [
    "**Exercise 1**: Use python to calculate `3 + 5 * 4`"
   ]
  },
  {
   "cell_type": "markdown",
   "id": "fb64a583",
   "metadata": {},
   "source": [
    "## Data Types part 1\n",
    "* integer: whole number (no decimal)\n",
    "* float: has a decimal (default in python 3)"
   ]
  },
  {
   "cell_type": "markdown",
   "id": "2e2c50b9",
   "metadata": {},
   "source": [
    "## Operators in Python:\n",
    "* `+, -`: addition and subtraction\n",
    "* `*`: multiplication\n",
    "* `/` floating point division\n",
    "* `//`: integer division\n",
    "* `%` : modulo\n",
    "* `**`: exponent"
   ]
  },
  {
   "cell_type": "markdown",
   "id": "c1136b2a",
   "metadata": {},
   "source": [
    "**Exercise 2**: experiment with the different division operators dividing 5 by 3. How does the result vary betwen floating point and integer division?"
   ]
  },
  {
   "cell_type": "code",
   "execution_count": null,
   "id": "1691f945",
   "metadata": {},
   "outputs": [],
   "source": []
  },
  {
   "cell_type": "markdown",
   "id": "f48bb6d2",
   "metadata": {},
   "source": [
    "## Reusing input and output: variables\n",
    "* use the `=` to assign any number to a variable\n",
    "* saves time and typing\n",
    "* prevents typos\n",
    "* makes code easy to update\n",
    "* can't start with a number (but can include numbers)\n",
    "* case sensitive a is not equal to A"
   ]
  },
  {
   "cell_type": "code",
   "execution_count": null,
   "id": "db04e1a1",
   "metadata": {},
   "outputs": [],
   "source": []
  },
  {
   "cell_type": "markdown",
   "id": "2a10f29b",
   "metadata": {},
   "source": [
    "**Exercise 3:** Assign a value of 60.0 to a variable named `weight_kg`"
   ]
  },
  {
   "cell_type": "code",
   "execution_count": null,
   "id": "6dc4696a",
   "metadata": {},
   "outputs": [],
   "source": []
  },
  {
   "cell_type": "markdown",
   "id": "232e0802",
   "metadata": {},
   "source": [
    "Note that the notebook only shows us the last line - what if we wanted to see each line?"
   ]
  },
  {
   "cell_type": "markdown",
   "id": "1cf3ae2e",
   "metadata": {},
   "source": [
    "# Functions"
   ]
  },
  {
   "cell_type": "markdown",
   "id": "0e758ce5",
   "metadata": {},
   "source": [
    "* definition: a block of code that takes does something\n",
    "* formula: `output = function(input)` or just `function(input)` if you don't want to save the output\n",
    "    - usually takes input\n",
    "    - usually returns output\n",
    "    - always need parentheses\n",
    "* reusable\n",
    "* saves time and typing\n",
    "* prevents typos\n",
    "* makes code easy to update\n",
    "* cannot start with a number (but can include numbers)\n",
    "* case sensitive (python convention is for functions to be all lower case)\n",
    "* lots of prewritten functions e.g. `print`\n"
   ]
  },
  {
   "cell_type": "code",
   "execution_count": null,
   "id": "aacd35fb",
   "metadata": {},
   "outputs": [],
   "source": []
  },
  {
   "cell_type": "markdown",
   "id": "83a01918",
   "metadata": {},
   "source": [
    "**Exercise 4:** set the print function above equal to a variable. What happens when you print the variable?"
   ]
  },
  {
   "cell_type": "code",
   "execution_count": null,
   "id": "b65f9102",
   "metadata": {},
   "outputs": [],
   "source": []
  },
  {
   "cell_type": "markdown",
   "id": "f65df114",
   "metadata": {},
   "source": [
    "# Data Types Part 2:\n",
    "Everything in python has a data type:\n",
    "* `function`\n",
    "* `string`: letters, surround in single or double quotes\n",
    "* `None`\n",
    "* `list`: collection of objects\n",
    "etc\n",
    "\n",
    "Use the `type` function to figure out what data type an object is"
   ]
  },
  {
   "cell_type": "markdown",
   "id": "14844fa9",
   "metadata": {},
   "source": [
    "**Exercise 5:** Use the `type` function to find the data types of the following (try guessing what they will be before you check):\n",
    "* weight_kg\n",
    "* 'oxygen'\n",
    "* str\n",
    "* 1\n",
    "* 1.0\n",
    "* [1,3,5]\n",
    "* None"
   ]
  },
  {
   "cell_type": "code",
   "execution_count": null,
   "id": "8f0a8554",
   "metadata": {},
   "outputs": [],
   "source": []
  },
  {
   "cell_type": "markdown",
   "id": "49a4b27e",
   "metadata": {},
   "source": [
    "### Functions with multiple input values\n",
    "inputs are separated with a comma"
   ]
  },
  {
   "cell_type": "code",
   "execution_count": null,
   "id": "ebe39829",
   "metadata": {},
   "outputs": [],
   "source": []
  },
  {
   "cell_type": "markdown",
   "id": "9d3004f2",
   "metadata": {},
   "source": [
    "## Writing your own function:\n",
    "* formula:   \n",
    "`def function_name(input1, input2):`                  <-- can be any function_name, can have as many variables as you want, colon required   \n",
    "`    thing you want to do, end with defining output`  <-- must be indented, convention 4 spaces (avoid tabs)  \n",
    "`    return output`  <-- also must be indented\n",
    "indentation is how python knows when the function starts and ends - it defines the block\n"
   ]
  },
  {
   "cell_type": "markdown",
   "id": "be2635a3",
   "metadata": {},
   "source": [
    "**Exercise 6**: write a function that takes two numbers as input and adds them together, returning the sum of the numbers. Use your function to add the numbers 1 and 3"
   ]
  },
  {
   "cell_type": "code",
   "execution_count": null,
   "id": "d63654d2",
   "metadata": {},
   "outputs": [],
   "source": []
  },
  {
   "cell_type": "markdown",
   "id": "0f16c3ff",
   "metadata": {},
   "source": [
    "# Function and Variable names:\n",
    "Be explicit so that future you knows what you did - in many cases you don't have to keep notes on your code if you use good function and variable names."
   ]
  },
  {
   "cell_type": "markdown",
   "id": "3a34a8e5",
   "metadata": {},
   "source": [
    "# Data types part 3: sequences\n",
    "* ordered collection\n",
    "* can refer to whole collection with a single variable"
   ]
  },
  {
   "cell_type": "markdown",
   "id": "737bb235",
   "metadata": {},
   "source": [
    "## Lists\n",
    "* defined with square brakets (e.g. `[`, `]`)\n",
    "* add to a list: `append` method (in place)\n",
    "* remove last item: `pop` method (in place)\n",
    "* conncatonate lists: `+` operator (must set equal to something)\n",
    "* get a single value from the list: `list[index]`\n",
    "    - index starts at 0\n",
    "    - can count backwards, with the index of the last item being -1, second to last -2, etc\n",
    "* get a subset of a list: slicing `list[start_index: stop_index: step]`\n",
    "    - brakets must be square\n",
    "    - includes `start_index` item\n",
    "    - excludes `end_index` item\n",
    "    - `step` is optional, default is 1\n"
   ]
  },
  {
   "cell_type": "code",
   "execution_count": null,
   "id": "5e484049",
   "metadata": {},
   "outputs": [],
   "source": []
  },
  {
   "cell_type": "markdown",
   "id": "e25f56dc",
   "metadata": {},
   "source": [
    "**Exercise 7:** Define the variable `odds` to be a list with the odd integers between 1 and 10. Do the following with a list:\n",
    "* print the first entry\n",
    "* print the last entry (try using the index that starts counting forward from 0 and the index that counts backwards)\n",
    "* append the next odd number to your list\n",
    "* print the second and third entries of the list\n",
    "* print every other entry\n",
    "* set the third item in the list to 6\n",
    "* Bonus: reverse the order of the list\n"
   ]
  },
  {
   "cell_type": "code",
   "execution_count": null,
   "id": "7900f0e7",
   "metadata": {},
   "outputs": [],
   "source": []
  },
  {
   "cell_type": "markdown",
   "id": "60a42c30",
   "metadata": {},
   "source": [
    "## Strings"
   ]
  },
  {
   "cell_type": "markdown",
   "id": "b294fc71",
   "metadata": {},
   "source": [
    "* definition: collection of charaters (letters)\n",
    "* can access any character just like a list\n",
    "* Strings are not lists:\n",
    "    * immutable: cannot be changed\n",
    "    * no `append` or `pop` method\n",
    "    * can slice\n",
    "    * can concatonate\n"
   ]
  },
  {
   "cell_type": "code",
   "execution_count": null,
   "id": "09899da3",
   "metadata": {},
   "outputs": [],
   "source": []
  },
  {
   "cell_type": "markdown",
   "id": "28776db0",
   "metadata": {},
   "source": [
    "**Exercise 8:** \n",
    "* try adding an `s` to the end of `element`\n",
    "* try changing the first letter of `element` to `m` using slicing (i.e. without redefining the whole word)."
   ]
  },
  {
   "cell_type": "code",
   "execution_count": null,
   "id": "8cd34f64",
   "metadata": {},
   "outputs": [],
   "source": []
  },
  {
   "cell_type": "markdown",
   "id": "50165516",
   "metadata": {},
   "source": [
    "# Getting Help\n",
    "* `help` function: works in any python\n",
    "* `?`: works in the notebook"
   ]
  },
  {
   "cell_type": "code",
   "execution_count": null,
   "id": "ed845c40",
   "metadata": {},
   "outputs": [],
   "source": []
  },
  {
   "cell_type": "code",
   "execution_count": null,
   "id": "c72afc6e",
   "metadata": {},
   "outputs": [],
   "source": []
  },
  {
   "cell_type": "markdown",
   "id": "21e47a18",
   "metadata": {},
   "source": [
    "# Loops: Doing something to everything in a collection"
   ]
  },
  {
   "cell_type": "markdown",
   "id": "f01851ed",
   "metadata": {},
   "source": [
    "What if you wanted to multiply every element of `odd` by 2?\n",
    "\n",
    "fomula: similar to function   \n",
    "`for item in list:` <-- item can be any word, colon required  \n",
    "`    modify item` <-- must be indented"
   ]
  },
  {
   "cell_type": "code",
   "execution_count": null,
   "id": "84837938",
   "metadata": {},
   "outputs": [],
   "source": []
  },
  {
   "cell_type": "markdown",
   "id": "9fc0c464",
   "metadata": {},
   "source": [
    "**Exercise 9:** use a loop to print each letter in `element`"
   ]
  },
  {
   "cell_type": "code",
   "execution_count": null,
   "id": "76b15bb3",
   "metadata": {},
   "outputs": [],
   "source": []
  },
  {
   "cell_type": "markdown",
   "id": "2d372915",
   "metadata": {},
   "source": [
    "# Conditional Statements\n",
    "Do something if a condition is met\n",
    "\n",
    "formula (like loops and functions):\n",
    "\n",
    "`if condition:` <-- require colon   \n",
    "`    thing to do when condition is True`"
   ]
  },
  {
   "cell_type": "markdown",
   "id": "2d5141fe",
   "metadata": {},
   "source": [
    "Conditional operators:\n",
    "* `==`: equal\n",
    "* `!=`: not equal\n",
    "* `>`: greater than\n",
    "* `<`: less than\n",
    "* `<=`, `<=`: greater/less than or equal to"
   ]
  },
  {
   "cell_type": "markdown",
   "id": "c45dcdd8",
   "metadata": {},
   "source": [
    "Condition: returns `True` or `False` (python data type boolean)"
   ]
  },
  {
   "cell_type": "code",
   "execution_count": null,
   "id": "63422aad",
   "metadata": {},
   "outputs": [],
   "source": [
    "print(element == 'oxygens')\n",
    "print(element == 'oxygen')"
   ]
  },
  {
   "cell_type": "markdown",
   "id": "b4f779fd",
   "metadata": {},
   "source": [
    "**Exercise 10**: write a conditional that prints the letter 'O' if the variable element is `'oxygen'`. Test it on your current variable `element` then reassign `element` to be `oxygen` and test the code again"
   ]
  },
  {
   "cell_type": "code",
   "execution_count": null,
   "id": "b5317eef",
   "metadata": {},
   "outputs": [],
   "source": []
  },
  {
   "cell_type": "markdown",
   "id": "67ee2267",
   "metadata": {},
   "source": [
    "# Packages in Python\n",
    "* Expand built in (default) toolkit\n",
    "* collection of files with new definitions (e.g. data types, functions, etc)\n",
    "* some packages available by default\n",
    "* some packages you have to install (e.g. like what we did with `sep`)\n",
    "* make new definitions available to your code: `import package`\n",
    "* use new definitions: `package.new_function`\n",
    "    * like a method: tells python where to find the new_function\n",
    "* For us: package = module = library"
   ]
  },
  {
   "cell_type": "markdown",
   "id": "1e0d609c",
   "metadata": {},
   "source": [
    "# Numpy\n",
    "\n",
    "* Python package to deal with arrays (like lists but with different rules)\n",
    "* All elements should be the same data type\n",
    "    - Fast \n",
    "    - Can act on all elements at once\n",
    "* build with list"
   ]
  },
  {
   "cell_type": "code",
   "execution_count": null,
   "id": "73c81dc0",
   "metadata": {},
   "outputs": [],
   "source": []
  },
  {
   "cell_type": "markdown",
   "id": "9fb40bcf",
   "metadata": {},
   "source": [
    "`np` alias (or nickname) so we don't have to type numpy every time. Many packages have conventional aliases that you should use"
   ]
  },
  {
   "cell_type": "code",
   "execution_count": null,
   "id": "7cda45a9",
   "metadata": {},
   "outputs": [],
   "source": []
  },
  {
   "cell_type": "markdown",
   "id": "b8b8151e",
   "metadata": {},
   "source": [
    "**Exercise 11**: How does multiplication act on an array vs a list? Try multiplying `odds` by 2 and `odds_array` by 2. Do you get the same result?"
   ]
  },
  {
   "cell_type": "code",
   "execution_count": null,
   "id": "5133833b",
   "metadata": {},
   "outputs": [],
   "source": []
  },
  {
   "cell_type": "markdown",
   "id": "f21595b3",
   "metadata": {},
   "source": [
    "## Using `numpy` functions:"
   ]
  },
  {
   "cell_type": "code",
   "execution_count": null,
   "id": "274ac91a",
   "metadata": {},
   "outputs": [],
   "source": []
  },
  {
   "cell_type": "code",
   "execution_count": null,
   "id": "95aaf7fd",
   "metadata": {},
   "outputs": [],
   "source": []
  },
  {
   "cell_type": "markdown",
   "id": "e9a7ed1f",
   "metadata": {},
   "source": [
    "**Exercise 12**: use `np.sum` to add together all of the values in `odds_array`"
   ]
  },
  {
   "cell_type": "code",
   "execution_count": null,
   "id": "a8bb7d53",
   "metadata": {},
   "outputs": [],
   "source": []
  },
  {
   "cell_type": "markdown",
   "id": "65b9d440",
   "metadata": {},
   "source": [
    "# 2D Arrays"
   ]
  },
  {
   "cell_type": "markdown",
   "id": "befbb794",
   "metadata": {},
   "source": [
    "We can also have 2D arrays. We will use them a lot when working with astronomical images. Now that we have two dimensions, we must use 2 slices separated by a ``,`` to select elements using the format ``myarray[slice_row,slice_column]``.\n",
    "\n",
    "**Example:** <font color=blue>Let's define the 3x4 (3 rows, 4 columns) array and do the following operations:</font>\n",
    "- <font color=blue>View the full array</font>\n",
    "- <font color=blue>View its shape</font>\n",
    "- <font color=blue>Print the first entry of the second row</font>\n",
    "- <font color=blue>Print the entire first row</font>\n",
    "- <font color=blue>Print the fist two elements for each of the last two rows</font>"
   ]
  },
  {
   "cell_type": "code",
   "execution_count": null,
   "id": "40b18089",
   "metadata": {},
   "outputs": [],
   "source": []
  },
  {
   "cell_type": "markdown",
   "id": "1099fc41",
   "metadata": {},
   "source": [
    "# Dictionaries"
   ]
  },
  {
   "cell_type": "markdown",
   "id": "49b7fd1c",
   "metadata": {},
   "source": [
    "We can also have 2D arrays. We will use them a lot when working with astronomical images. Now that we have two dimensions, we must use 2 slices separated by a ``,`` to select elements using the format ``myarray[slice_row,slice_column]``.\n",
    "\n",
    "**Example:** <font color=blue>Let's define the 3x4 (3 rows, 4 columns) array and do the following operations:</font>\n",
    "- <font color=blue>View the full array</font>\n",
    "- <font color=blue>View its shape</font>\n",
    "- <font color=blue>Print the first entry of the second row</font>\n",
    "- <font color=blue>Print the entire first row</font>\n",
    "- <font color=blue>Print the fist two elements for each of the last two rows</font>"
   ]
  },
  {
   "cell_type": "code",
   "execution_count": null,
   "id": "34c9f0f5",
   "metadata": {},
   "outputs": [],
   "source": []
  },
  {
   "cell_type": "markdown",
   "id": "ee2ba9d4",
   "metadata": {},
   "source": [
    "# Reading a text file"
   ]
  },
  {
   "cell_type": "markdown",
   "id": "442d7a2e",
   "metadata": {},
   "source": [
    "Let's use NumPy to read a file.\n",
    "\n",
    "**Exercise:** <font color=blue>Read an ascii file of the solar spectrum using NumPy.</font>\n",
    "If you look at the file there are two columns lke this:  \n",
    "Wavelength (nm)    flux (W*m-2*nm-1)  \n",
    "xx                 yy  \n",
    "xx                 yy  \n",
    "xx                 yy  "
   ]
  },
  {
   "cell_type": "code",
   "execution_count": null,
   "id": "eefc9631",
   "metadata": {},
   "outputs": [],
   "source": []
  },
  {
   "cell_type": "markdown",
   "id": "e6684258",
   "metadata": {},
   "source": [
    "Now, let's split data in 2 arrays (one for wavelength and one for flux).  \n",
    "``zip(xx,yy)`` is an aweasome command to combine two arrays.  \n",
    "``zip(*xxx)`` does the opposite of zip, splits data in 2 arrays.  \n",
    "(..... I wish someone would have told me about ``zip`` when i started to learn python ....)"
   ]
  },
  {
   "cell_type": "code",
   "execution_count": null,
   "id": "c6b6ed8a",
   "metadata": {},
   "outputs": [],
   "source": []
  }
 ],
 "metadata": {
  "kernelspec": {
   "display_name": "pima",
   "language": "python",
   "name": "pima"
  },
  "language_info": {
   "codemirror_mode": {
    "name": "ipython",
    "version": 3
   },
   "file_extension": ".py",
   "mimetype": "text/x-python",
   "name": "python",
   "nbconvert_exporter": "python",
   "pygments_lexer": "ipython3",
   "version": "3.8.16"
  }
 },
 "nbformat": 4,
 "nbformat_minor": 5
}
