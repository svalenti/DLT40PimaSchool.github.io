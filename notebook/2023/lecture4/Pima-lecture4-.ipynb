{
 "cells": [
  {
   "cell_type": "markdown",
   "metadata": {},
   "source": [
    "# Matplotlib\n",
    "Matplotlib is the most widely used scientific plotting package in Python. Import it by typing <font color='blue'>import matplotlib  </font> in your notebook. Use help to learn about the contents of a library module. You can import specific items from a library module to shorten programs. One can use <font color='blue'>from ... import ...   </font> to load only specific items from a library module. Then refer to them directly without\n",
    "library name as prefix.\n",
    "You can create an alias for a library module when importing it to shorten programs. One can use <font color='blue'>import ... as ...</font> to create an alias. Create alias plt for library module pyplot in your\n",
    "notebook.<br>"
   ]
  },
  {
   "cell_type": "code",
   "execution_count": null,
   "metadata": {},
   "outputs": [],
   "source": [
    "#import numpy as np\n",
    "#import matplotlib.pyplot as plt\n",
    "\n",
    "#this gives us access to numpy as np, and matplotlib.pyplot as plt\n",
    "%pylab inline"
   ]
  },
  {
   "cell_type": "markdown",
   "metadata": {},
   "source": [
    "# how to plot an astronomical image and how to detect object in the image"
   ]
  },
  {
   "cell_type": "markdown",
   "metadata": {},
   "source": [
    "<br> Let's import the packages we will use today: **[sep](https://sep.readthedocs.io/en/v1.1.x/)**, **[astropy](https://docs.astropy.org/en/stable/index.html)**  \n",
    "<br> from **astropy** we will import: **fits** and **wcs**"
   ]
  },
  {
   "cell_type": "code",
   "execution_count": null,
   "metadata": {},
   "outputs": [],
   "source": [
    "from astropy.io import fits\n",
    "from astropy import wcs as wcs\n",
    "import sep"
   ]
  },
  {
   "cell_type": "markdown",
   "metadata": {},
   "source": [
    "# read an image\n",
    "**16335757.fits** is our test image. we will use fits.open to open and put the image in a variable hdu_list\n",
    "<br> let's see the image format. Fits mean \"Flexible Image Transport System\" \n",
    "<br> this is a specific format composed by a metadata part and a data part.\n",
    "The metadata (**header**) include all the info about the image and the data part is usually a bidimensional array. A fits image can have multiple layers of metadata and data, and each layer is called a **header and data unit (HDU)**.\n",
    "<br> For example:<br>\n",
    "<br> header, data  (level[0])\n",
    "<br> header, data  (level[1])\n",
    "<br> header, data  (level[2])"
   ]
  },
  {
   "cell_type": "code",
   "execution_count": null,
   "metadata": {},
   "outputs": [],
   "source": [
    "hdu_list = fits.open('16335757.fits')"
   ]
  },
  {
   "cell_type": "markdown",
   "metadata": {},
   "source": [
    "<br> You can see how many layers your image has using the function len()\n",
    "\n",
    "**<font color='blue'>Check how many layers the image has:</font>**"
   ]
  },
  {
   "cell_type": "code",
   "execution_count": null,
   "metadata": {},
   "outputs": [],
   "source": []
  },
  {
   "cell_type": "markdown",
   "metadata": {},
   "source": [
    "Since the size is one, let's take a look at the layer zero. Each fits file has several important informations in what is called the header of the file. In the header you can find information like: the exposure time, the telescope, the data of the observations, the size of the date, the observer and sometimes also the informations of the part of the sky we observed "
   ]
  },
  {
   "cell_type": "code",
   "execution_count": null,
   "metadata": {},
   "outputs": [],
   "source": [
    "header = hdu_list[0].header"
   ]
  },
  {
   "cell_type": "markdown",
   "metadata": {},
   "source": [
    "**<font color='blue'>Exercise: </font>** Find **object name**, **RA** and **DEC** from the header"
   ]
  },
  {
   "cell_type": "markdown",
   "metadata": {},
   "source": [
    "Now let see the data"
   ]
  },
  {
   "cell_type": "code",
   "execution_count": null,
   "metadata": {},
   "outputs": [],
   "source": [
    "img = hdu_list[0].data\n",
    "print(img)"
   ]
  },
  {
   "cell_type": "markdown",
   "metadata": {},
   "source": [
    "The data is an array, so we can actually use matplotlib to \"imshow\" the image"
   ]
  },
  {
   "cell_type": "code",
   "execution_count": null,
   "metadata": {},
   "outputs": [],
   "source": [
    "plt.imshow(img)"
   ]
  },
  {
   "cell_type": "markdown",
   "metadata": {},
   "source": [
    "What is going on here? We do not see anything. Probably becasue there are some pixel in the array that have very low or very high counts.\n",
    "So we can do a histogram and see the distribution of the points in the array "
   ]
  },
  {
   "cell_type": "code",
   "execution_count": null,
   "metadata": {},
   "outputs": [],
   "source": [
    "image_hist = plt.hist(img.flatten(), bins=100)"
   ]
  },
  {
   "cell_type": "markdown",
   "metadata": {},
   "source": [
    "**<font color='blue'>Exercise: </font>**let's try to constrain the range of the histogram using range=(min_value, max_value). You can try different ranges until you find a range that can properly display the value distribution."
   ]
  },
  {
   "cell_type": "code",
   "execution_count": null,
   "metadata": {},
   "outputs": [],
   "source": [
    "min_value = ???\n",
    "max_value = ???\n",
    "image_hist = plt.hist(img.flatten(), bins=100, range=(min_value, max_value))"
   ]
  },
  {
   "cell_type": "markdown",
   "metadata": {},
   "source": [
    "let's now do the plot again using some limits. \n",
    "For **imshow**, we can use the keywords **vmin** and **vmax** to set limits on the color scaling.\n",
    "\n",
    "what do yo think we should use?  (vmin=??, vmax=??)"
   ]
  },
  {
   "cell_type": "code",
   "execution_count": null,
   "metadata": {},
   "outputs": [],
   "source": [
    "plt.figure(figsize=(10,12))\n",
    "imgshow = plt.imshow(img, vmin=???, vmax=???)"
   ]
  },
  {
   "cell_type": "markdown",
   "metadata": {},
   "source": [
    "We can choose another color map for display purpose (see more colormpas here: [colormaps](https://matplotlib.org/stable/tutorials/colors/colormaps.html))"
   ]
  },
  {
   "cell_type": "code",
   "execution_count": null,
   "metadata": {},
   "outputs": [],
   "source": [
    "plt.figure(figsize=(10,12))\n",
    "imgshow = plt.imshow(img, cmap='gray', origin='lower', vmin=???, vmax=???)"
   ]
  },
  {
   "cell_type": "markdown",
   "metadata": {},
   "source": [
    "Now we would like to be able to find the position of all stars in the image. But in order to do that with the package [sep](https://sep.readthedocs.io/en/v1.1.x/), we need to define the background of the image. Sep has a command for that: sep.Background(X). \n",
    "But before doing that there is a command to run: X = X.byteswap().newbyteorder() (see [link1](https://sep.readthedocs.io/en/v1.1.x/tutorial.html#Finally-a-brief-word-on-byte-order) and [link2](https://github.com/kbarbary/sep/issues/23#issuecomment-155050901) if you want to know more about it)"
   ]
  },
  {
   "cell_type": "code",
   "execution_count": null,
   "metadata": {},
   "outputs": [],
   "source": [
    "img = img.byteswap().newbyteorder() # magic command\n",
    "bkg = sep.Background(img)"
   ]
  },
  {
   "cell_type": "markdown",
   "metadata": {},
   "source": [
    "Let's see what will happen if we subtract the background from the image"
   ]
  },
  {
   "cell_type": "code",
   "execution_count": null,
   "metadata": {},
   "outputs": [],
   "source": [
    "bkg_image = bkg.back()\n",
    "img_sub = img - bkg\n",
    "plt.figure(figsize=(10,12))\n",
    "imgshow = plt.imshow(img_sub, cmap='gray', origin='lower', vmin=200, vmax=400)"
   ]
  },
  {
   "cell_type": "markdown",
   "metadata": {},
   "source": [
    "Now we can extract all the objects from the image using the sep commmand sep.extract\n",
    "and then we can plot all the star detected on our image.  thresh=20.0 define how many star we want to find. larger numbers means we find less objects. This is similar to a dictionary with each column that can be identified by a name. "
   ]
  },
  {
   "cell_type": "code",
   "execution_count": null,
   "metadata": {},
   "outputs": [],
   "source": [
    "#objects = sep.extract(X, thresh=20.0, err=bkg.globalrms, mask=None, minarea=10, clean=True, clean_param=1.0, segmentation_map=False)\n",
    "objects = sep.extract(img, thresh=20.0, err=bkg.globalrms, minarea=10)"
   ]
  },
  {
   "cell_type": "markdown",
   "metadata": {},
   "source": [
    "**<font color='blue'>Exercise: </font>** Check the length and data type of **objects**"
   ]
  },
  {
   "cell_type": "code",
   "execution_count": null,
   "metadata": {},
   "outputs": [],
   "source": [
    "print(len(objects))\n",
    "print(type(objects))\n",
    "objects.dtype.names"
   ]
  },
  {
   "cell_type": "markdown",
   "metadata": {},
   "source": [
    "objects is a NumPy structured array with many fields."
   ]
  },
  {
   "cell_type": "code",
   "execution_count": null,
   "metadata": {},
   "outputs": [],
   "source": [
    "plt.figure(figsize=(10,12))\n",
    "imgshow = plt.imshow(img, origin='lower', cmap='gray', vmin=200, vmax=400)\n",
    "plt.plot(objects['x'],objects['y'],'xr')"
   ]
  },
  {
   "cell_type": "markdown",
   "metadata": {},
   "source": [
    "### WCS"
   ]
  },
  {
   "cell_type": "markdown",
   "metadata": {},
   "source": [
    "if we know the coordinate of one interesting object, how we find it in the image?\n",
    "To do that we can use the information on the header of the file and convert the coordinate in pixel position. To do that we will use the [wcs](https://docs.astropy.org/en/stable/wcs/) package in astropy. "
   ]
  },
  {
   "cell_type": "code",
   "execution_count": null,
   "metadata": {},
   "outputs": [],
   "source": [
    "#read the header\n",
    "header = hdu_list[0].header\n",
    "# import the wcs package\n",
    "from astropy.wcs import WCS\n",
    "# take information from the header about the coordinate where the image is pointing to.\n",
    "w = WCS(header)\n",
    "#transform coordinate in pixels:\n",
    "Ra = 148.283666667\n",
    "Dec = 16.7139583333\n",
    "px, py = w.wcs_world2pix(Ra,Dec, 1)\n",
    "print('my object should be close to these coordinate')\n",
    "print(px,py)"
   ]
  },
  {
   "cell_type": "code",
   "execution_count": null,
   "metadata": {},
   "outputs": [],
   "source": [
    "plt.figure(figsize=(10,12))\n",
    "imgshow = plt.imshow(img, origin='lower', cmap='gray', vmin=200, vmax=400)\n",
    "plt.plot(611,786,'D',color='orange',markersize=20)\n",
    "plt.plot(objects['x'],objects['y'],'xr')"
   ]
  },
  {
   "cell_type": "markdown",
   "metadata": {},
   "source": [
    "Now we want to identify in the object dictinary which is our object. We need to compare the pixel position for each object in the object dictionary with the pixel position we found. we need to measure the distance between them and take the object if the distance is less than XX pixels.\n",
    "let's loop over the stars using enumerate and compute the difference between the coordinates"
   ]
  },
  {
   "cell_type": "markdown",
   "metadata": {},
   "source": [
    "**enumerate** can give you a counting variable. It allows us to loop over something and have an automatic counter"
   ]
  },
  {
   "cell_type": "code",
   "execution_count": null,
   "metadata": {},
   "outputs": [],
   "source": [
    "values = ['a', 'b', 'c']\n",
    "for value in values:\n",
    "    print(value)"
   ]
  },
  {
   "cell_type": "code",
   "execution_count": null,
   "metadata": {},
   "outputs": [],
   "source": [
    "for value in enumerate(values):\n",
    "    print(value)"
   ]
  },
  {
   "cell_type": "code",
   "execution_count": null,
   "metadata": {},
   "outputs": [],
   "source": [
    "for count, value in enumerate(values):\n",
    "    print(count, value)"
   ]
  },
  {
   "cell_type": "code",
   "execution_count": null,
   "metadata": {},
   "outputs": [],
   "source": [
    "for i,j in enumerate(objects['x']):\n",
    "    distance = np.sqrt((objects['x'][i]-px)**2+(objects['y'][i]-py)**2)\n",
    "    print('distance ', distance)\n",
    "    if distance < 10:\n",
    "        print('FOUND', i)\n",
    "        print('The coordinate is', objects['x'][i], objects['y'][i])\n",
    "        break"
   ]
  },
  {
   "cell_type": "markdown",
   "metadata": {},
   "source": [
    "# Photometry and Flux\n",
    "Now what we want to do with these objects? We probably want to measure how much light is emitted by each of them.\n",
    "\n",
    "Let's zoom on one of them by cutting a small box of 40 x 40 pixels with one object in the center.Tto cut a region we should do  <font color='blue'> img[a:b,c:d] </font> with a,b,c,d the pixels (integer) at the edges of the small matrix. \n",
    "\n",
    "* let's do that for the element 10 of the object dictionary. `object['x'][10]` and `object['y'][10]`\n",
    "\n",
    "* let's now plot the zoomed image!\n"
   ]
  },
  {
   "cell_type": "code",
   "execution_count": null,
   "metadata": {},
   "outputs": [],
   "source": [
    "obj_10_y = int(objects['y'][10])\n",
    "obj_10_x = int(objects['x'][10])\n",
    "\n",
    "#The entire slice! -20 and + 20 all around this object from the image data\n",
    "obj_10 = img[\n",
    "    obj_10_y-20:obj_10_y+20,\n",
    "    obj_10_x-20:obj_10_x+20\n",
    "  ] \n",
    "\n",
    "fig, ax = plt.subplots(ncols=1, figsize=(8, 8))\n",
    "imgshow = ax.imshow(obj_10, origin='lower', cmap='gray', vmin=200, vmax=400)\n"
   ]
  },
  {
   "cell_type": "markdown",
   "metadata": {},
   "source": [
    "Here we used a diffrent way of making a figure. We made a figure and add some axes on it. This command is very good when you want to add more than one pannel in your figure.\n",
    "More info here [subplot](https://matplotlib.org/tutorials/intermediate/artists.html)"
   ]
  },
  {
   "cell_type": "markdown",
   "metadata": {},
   "source": [
    "### How do we define where the star \"begins\" or \"ends\"??\n",
    "\n",
    "Let's do a test!\n",
    "\n",
    "We want to see the amount of flux at a given radius going out from the center of the circle. I will define the `edge` of my star where the amount of flux stops growing.\n",
    "\n",
    "* We can utilize the `sep.sum_circle()` function to find the amount of flux inside a given radius\n",
    "* Below, we iterate radii from 1-20 pixels from the center of our star, and plot the flux.\n",
    "* here we use the background-subtracted image: `img_sub`\n",
    "\n"
   ]
  },
  {
   "cell_type": "code",
   "execution_count": null,
   "metadata": {},
   "outputs": [],
   "source": [
    "fluxvec = []\n",
    "radiuscev = []\n",
    "for radius in range(1,20):\n",
    "    flux, fluxerr, flag = sep.sum_circle(img_sub, [objects['x'][10]], [objects['y'][10]],\n",
    "                                         radius, err=bkg.globalrms, gain=1.0)\n",
    "    fluxvec.append(flux)\n",
    "    radiuscev.append(radius)\n",
    "\n",
    "plt.plot(radiuscev,fluxvec,'or')\n",
    "plt.xlabel('radius (pixels)')\n",
    "plt.ylabel('flux (counts)')\n"
   ]
  },
  {
   "cell_type": "markdown",
   "metadata": {},
   "source": [
    "Let's select the region to get all the counts of the object. We can use a circle.\n",
    "\n",
    "<font color='blue'> From the plot above: How large should be the radius? </font>\n",
    "\n",
    "EXERCISE:\n",
    "\n",
    "* <font color='blue'> Lets plot 3 circles of different radii (8,10,12) around our object to get an idea where the flux is coming from.</font>\n",
    "\n",
    "Hint:\n",
    "\n",
    "* To plot a circle you will first need to define a matplotlib `Circle` object and then add it to your ax patches like so:\n",
    "\n",
    "```\n",
    "c1 = Circle((x,y), radius, color='r', lw=4, fill=False)\n",
    "ax.add_patch(c1)\n",
    "```\n",
    "\n",
    "* here (x,y) will be the center of our star (20, 20)\n",
    "* lw - stands for linewidth, let's leave it at 4 pixels wide\n",
    "* fill=False, we leave this at false. If true, it will plot an full colored circle, not just a ring."
   ]
  },
  {
   "cell_type": "code",
   "execution_count": null,
   "metadata": {},
   "outputs": [],
   "source": [
    "fig, ax = plt.subplots(ncols=1, figsize=(8, 8))\n",
    "imgshow = ax.imshow(obj_10, origin='lower', cmap='gray', vmin=200, vmax=400)\n",
    "c1 = Circle(??, ??, ??)\n",
    "ax.add_patch(c1)\n",
    "#c2..and c3?..."
   ]
  },
  {
   "cell_type": "markdown",
   "metadata": {},
   "source": [
    "### Now that we have defined the \"Edge\" of our star, Lets get its flux!\n",
    "\n",
    "EXERCISE: <font color='blue'>Measuring Flux of our object</font>\n",
    "* using the sep.sum_circle() method from above obtain the flux and error from our 10th element object\n",
    "* `flux, fluxerr, flag = sep.sum_circle(img_sub, [x], [y], radius, err=bkg.globalrms, gain=1.0)`\n"
   ]
  },
  {
   "cell_type": "code",
   "execution_count": null,
   "metadata": {},
   "outputs": [],
   "source": [
    "flux, fluxerr, flag = sep.sum_circle(??,??,??)\n",
    "\n",
    "print(flux)"
   ]
  },
  {
   "cell_type": "markdown",
   "metadata": {},
   "source": [
    "### To clarify:\n",
    "\n",
    "* What we have just measured is the number of counts within a radius of ?? pixel(s) for one object we selected in the image. \n",
    "* How do we use this measurement in astronomy? We usually convert this measurment into a magnitude, and if we know how our telescope is performing, then we know how bright a star appears to be. How bright actually is (absolute magnitude) depends on how far the star is. \n",
    "\n",
    "### Magnitudes!\n",
    "* <font color='blue'> Let's first convert the flux into an instrumental magnitude. </font> \n",
    "* The equation we will use is `inst_mag = -2.5*np.log10(flux)`\n",
    "* print it out!\n"
   ]
  },
  {
   "cell_type": "code",
   "execution_count": null,
   "metadata": {},
   "outputs": [],
   "source": []
  },
  {
   "cell_type": "markdown",
   "metadata": {},
   "source": [
    "### We are not done yet...\n",
    "\n",
    "* We still need to transform this 'instrumental magnitude' into a calibrated apparent magnitude. This value will actually mean something astronomically, in comparison with a standardized magnitude system. \n",
    "\n",
    "* In order to do this primary calibration, we need to know the apparent magnitude of at least one object in the field... a <b>standard star</b>! \n",
    "\n",
    "* We need to measure its instrumental magnitude and subtract it from its known apparent magnitude and obtain what we call the \"<b>zeropoint</b>\".\n",
    "\n",
    "* Once we have the zeropoint, we can measure the magnitudes of any object in the image by adding it to the instrumental magnitude!\n",
    "\n",
    "EXERCISE: <font color='blue'> Measuring the zeropoint. </font>\n",
    "\n",
    "* <font color='blue'> I know the apparent magnitude of the 9th element of our objects is 15, using the code above calculate the zeropoint for our image </font>\n",
    "\n",
    "HINTS:\n",
    "\n",
    "* Copy the code above and calculate inst_mag using the sep.sum_circle() function on the 9th element of our objects list, you can keep the radius at 10.\n",
    "* `zeropoint = app_mag - inst_mag; (app_mag = 15)`\n"
   ]
  },
  {
   "cell_type": "code",
   "execution_count": null,
   "metadata": {},
   "outputs": [],
   "source": []
  },
  {
   "cell_type": "markdown",
   "metadata": {},
   "source": [
    "### The final goal! \n",
    "\n",
    "* <font color='blue'> Now that you know the zeropoint of the image, calculate the apparent magnitude of our star of interest! </font>\n",
    "\n",
    "HINT:\n",
    "\n",
    "* `app_mag = zeropoint + inst_mag`\n"
   ]
  },
  {
   "cell_type": "code",
   "execution_count": null,
   "metadata": {},
   "outputs": [],
   "source": []
  },
  {
   "cell_type": "markdown",
   "metadata": {},
   "source": [
    "# Distance modulus\n",
    "\n",
    "* We have learned that knowing the apparent and absolute magnitudes can give us a distance to the source (Distance Modulus).\n",
    "\n",
    "* `distance_modulus = apparent_mag - absolute_mag`\n",
    "\n",
    "* <font color='blue'>What if we already knew the distance modulus to a star in our image above? What information could we get from what we learned today? </font>\n",
    "\n",
    "* Knowning the absolute magnitude of an object is important for initial supernova discoveries. For example, this can can give us a guess of its type before we even have a spectrum.\n",
    "\n",
    "* <font color='blue'> If we knew the distance modulus to our image as: `30 mag`. What would be the absolute magnitude of our star? </font>\n"
   ]
  },
  {
   "cell_type": "code",
   "execution_count": null,
   "metadata": {},
   "outputs": [],
   "source": []
  }
 ],
 "metadata": {
  "kernelspec": {
   "display_name": "Python 3 (ipykernel)",
   "language": "python",
   "name": "python3"
  },
  "language_info": {
   "codemirror_mode": {
    "name": "ipython",
    "version": 3
   },
   "file_extension": ".py",
   "mimetype": "text/x-python",
   "name": "python",
   "nbconvert_exporter": "python",
   "pygments_lexer": "ipython3",
   "version": "3.9.13"
  }
 },
 "nbformat": 4,
 "nbformat_minor": 4
}
