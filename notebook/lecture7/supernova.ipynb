{
 "cells": [
  {
   "cell_type": "markdown",
   "id": "pursuant-memorabilia",
   "metadata": {},
   "source": [
    "# Measuring supernova magnitudes"
   ]
  },
  {
   "cell_type": "markdown",
   "id": "altered-recommendation",
   "metadata": {},
   "source": [
    "let's start using the magic function we learned last time \"%pylab inline\"\n",
    "<br> then we can import the packeages we will use today: sep, astropy  \n",
    "<br> from astropy we will import: fits and wcs"
   ]
  },
  {
   "cell_type": "code",
   "execution_count": 1,
   "id": "exotic-visiting",
   "metadata": {},
   "outputs": [
    {
     "name": "stdout",
     "output_type": "stream",
     "text": [
      "Populating the interactive namespace from numpy and matplotlib\n"
     ]
    }
   ],
   "source": [
    "%pylab inline\n",
    "from astropy.io import fits\n",
    "from astropy import wcs as wcs\n",
    "import sep\n",
    "import glob\n",
    "from astropy.wcs import WCS"
   ]
  },
  {
   "cell_type": "markdown",
   "id": "abandoned-scoop",
   "metadata": {},
   "source": [
    "# read an image\n",
    "B-median.fits is our test image. we will use fits.open to open and put the image in a variable img\n",
    "<br> let's see the image format. Fits mean \"Flexible Image Transport System\" \n",
    "<br> this is a specific format composed by a metadata part and a data part.\n",
    "The metadata (header) include all the info about the image and the data part is usually a bidimensional array. A fits image can have multiple layers of metadata and data.\n",
    "<br> For example:<br>\n",
    "<br> header, data  (level[0])\n",
    "<br> header, data  (level[1])\n",
    "<br> header, data  (level[2])\n",
    "<br> You can see how many layers your image has using the function len()"
   ]
  },
  {
   "cell_type": "code",
   "execution_count": 2,
   "id": "coastal-karaoke",
   "metadata": {},
   "outputs": [],
   "source": [
    "#img = fits.open('B-median.fits')\n",
    "imglist=glob.glob('NGC*fits')\n",
    "SN_RA = 177.757464 \n",
    "SN_DEC = -28.743997\n",
    "STD_RA = 177.7401436\n",
    "STD_DEC = -28.7764212\n",
    "std_mag = 15.585 #  16.048\n",
    "#hdu = fits.open('NGC3923_2018-03-31.86.fits')"
   ]
  },
  {
   "cell_type": "code",
   "execution_count": 3,
   "id": "multiple-dodge",
   "metadata": {},
   "outputs": [],
   "source": [
    "hdu= fits.open(imglist[0])\n",
    "header = hdu[0].header\n",
    "#print(header)"
   ]
  },
  {
   "cell_type": "markdown",
   "id": "distinct-folks",
   "metadata": {},
   "source": [
    "Now we would like to be able to find the position of all stars in the image. But in order to do that with the package sep, we need to define the background of the image. \n",
    "Sep has a command for that: sep.Background(X). \n",
    "But before doing that there is a command to run: X = X.byteswap().newbyteorder() then we can subtract the background"
   ]
  },
  {
   "cell_type": "code",
   "execution_count": 4,
   "id": "dated-richards",
   "metadata": {},
   "outputs": [
    {
     "name": "stdout",
     "output_type": "stream",
     "text": [
      "NGC3923_2018-04-04.51.fits  this image is missing the sn or the standard\n",
      "NGC3923_2018-04-05.61.fits  this image is missing the sn or the standard\n",
      "NGC3923_2018-04-29.06.fits  this image is missing the sn or the standard\n",
      "NGC3923_2018-04-09.6.fits  this image is missing the sn or the standard\n",
      "NGC3923_2018-04-02.52.fits  this image is missing the sn or the standard\n",
      "NGC3923_2018-06-07.16.fits  this image is missing the sn or the standard\n",
      "NGC3923_2018-04-09.56.fits  this image is missing the sn or the standard\n",
      "NGC3923_2018-05-13.03.fits  this image is missing the sn or the standard\n",
      "NGC3923_2018-05-03.25.fits  this image is missing the sn or the standard\n"
     ]
    }
   ],
   "source": [
    "flux_vec =[]\n",
    "flux_std_vec=[]\n",
    "fluxerr_vec =[]\n",
    "jd_vec = []\n",
    "ZP_vec = []\n",
    "for img in imglist:\n",
    "    hdu= fits.open(img)\n",
    "    header = hdu[0].header\n",
    "    X = hdu[0].data\n",
    "    X = X.byteswap().newbyteorder()\n",
    "    bkg = sep.Background(X)\n",
    "    data_sub = X - bkg\n",
    "    # Now we can exstract all the objects from the image using the sep commmand \n",
    "    # sep.extract and then we can plot all the star detected on our image.  \n",
    "    # thresh=3.0 define how many star we want to find larger numbers means \n",
    "    # we find less objects. This is similar to a dictionary with each column \n",
    "    # that can be identify by a name. \n",
    "    objects = sep.extract(data_sub, thresh=3.0, err=bkg.globalrms, mask=None, \\\n",
    "                          minarea=10, clean=True, filter_type = 'matched',\\\n",
    "                          clean_param=1.0, segmentation_map=False)\n",
    "    #Finally, we’ll perform simple circular aperture photometry with \n",
    "    # a 3 pixel radius at the locations of the objects:\n",
    "    flux, fluxerr, flag = sep.sum_circle(data_sub, objects['x'], objects['y'],\n",
    "                                     5.0, err=bkg.globalrms, gain=1.0)\n",
    "    # take information from the header about the coordinate where \n",
    "    # the image is pointing to.\n",
    "    w = WCS(header)\n",
    "    #transform SN coordinate in pixels:\n",
    "    px, py = w.wcs_world2pix(SN_RA,SN_DEC, 1)\n",
    "    std_px, std_py = w.wcs_world2pix(STD_RA,STD_DEC, 1)\n",
    "    #let's loop over the stars \n",
    "    # we will use for and \"enumerate\"\n",
    "    # let's now make the difference between each pixel of an object and px py\n",
    "    # let add an iff statment in the loop to select only the element we want \n",
    "    sn=False\n",
    "    std=False\n",
    "    for i,j in enumerate(objects['x']):\n",
    "        if (objects['x'][i]-px)**2+(objects['y'][i]-py)**2 <15:\n",
    "            sn=i\n",
    "        if (objects['x'][i]-std_px)**2+(objects['y'][i]- std_py)**2 < 15:\n",
    "            std=i\n",
    "        if std is not False and sn is not False:\n",
    "                flux_vec.append(flux[sn])\n",
    "                flux_std_vec.append(flux[std])\n",
    "                fluxerr_vec.append(fluxerr[sn])\n",
    "                jd_vec.append(header['jd'])\n",
    "                ZP_vec.append(header['ZP'])\n",
    "                break\n",
    "    if std is False or sn is False:\n",
    "        print(img,' this image is missing the sn or the standard')\n",
    "#        print(sn,std,std_px,std_py,px,py)\n",
    "        "
   ]
  },
  {
   "cell_type": "code",
   "execution_count": 8,
   "id": "silver-salem",
   "metadata": {},
   "outputs": [
    {
     "name": "stdout",
     "output_type": "stream",
     "text": [
      "the zero point of the first image image is  26.907889787712982\n",
      "The peak magnitude is  12.988742743928931\n"
     ]
    },
    {
     "data": {
      "image/png": "[encoded data removed]",
      "text/plain": [
       "<Figure size 432x288 with 1 Axes>"
      ]
     },
     "metadata": {
      "needs_background": "light"
     },
     "output_type": "display_data"
    }
   ],
   "source": [
    "# transform the flux in magnitude for the SN and the std\n",
    "mag_vec = -2.5 * np.log10(flux_vec)\n",
    "magerr_vec = -2.5 * np.log10(np.array(flux_vec) + np.array(fluxerr_vec)) + 2.5 * np.log10(flux_vec)\n",
    "magstd_vec = -2.5 * np.log10(flux_std_vec)\n",
    "\n",
    "# compute the zeropoint from the standard\n",
    "#  \n",
    "ZP_new = std_mag - magstd_vec\n",
    "\n",
    "print('the zero point of the first image image is ',ZP_new[0])\n",
    "\n",
    "# plot the light curve\n",
    "#plt.plot(jd_vec,mag_vec,'ob')\n",
    "plt.plot(jd_vec,ZP_new+mag_vec,'ob')\n",
    "\n",
    "#plt.errorbar(jd_vec, ZP_new+mag_vec, yerr=magerr_vec, fmt='r|')\n",
    "#plt.ylim(17,13)\n",
    "plt.xlabel('days [JD]')\n",
    "plt.ylabel('magnitude [r]')\n",
    "maximum = min(ZP_new+mag_vec)\n",
    "print('The peak magnitude is ',str(maximum))"
   ]
  },
  {
   "cell_type": "code",
   "execution_count": 6,
   "id": "professional-house",
   "metadata": {},
   "outputs": [],
   "source": [
    "#plt.figure(figsize=(10,12))\n",
    "#imgshow = plt.imshow(X, origin='lower', cmap='gray', vmin=2400, vmax=3000)\n",
    "#plt.plot(objects['x'],objects['y'],'or')\n",
    "#plt.plot(px,py,'^b')"
   ]
  },
  {
   "cell_type": "code",
   "execution_count": 16,
   "id": "intended-dylan",
   "metadata": {},
   "outputs": [
    {
     "name": "stdout",
     "output_type": "stream",
     "text": [
      "12.760742743928931\n"
     ]
    }
   ],
   "source": [
    "print(maximum - 0.228)"
   ]
  },
  {
   "cell_type": "code",
   "execution_count": 17,
   "id": "relevant-fourth",
   "metadata": {},
   "outputs": [
    {
     "name": "stdout",
     "output_type": "stream",
     "text": [
      "32.01874274392893\n",
      "25.336612467447992\n"
     ]
    }
   ],
   "source": [
    "# the distance modulus of the SN is computed \n",
    "mu =  maximum +  19.03 \n",
    "print(mu)\n",
    "d= 10**((mu/5.)+1)\n",
    "print(d/1e6)"
   ]
  },
  {
   "cell_type": "code",
   "execution_count": null,
   "id": "helpful-security",
   "metadata": {},
   "outputs": [],
   "source": []
  }
 ],
 "metadata": {
  "kernelspec": {
   "display_name": "Python 3",
   "language": "python",
   "name": "python3"
  },
  "language_info": {
   "codemirror_mode": {
    "name": "ipython",
    "version": 3
   },
   "file_extension": ".py",
   "mimetype": "text/x-python",
   "name": "python",
   "nbconvert_exporter": "python",
   "pygments_lexer": "ipython3",
   "version": "3.8.5"
  }
 },
 "nbformat": 4,
 "nbformat_minor": 5
}
