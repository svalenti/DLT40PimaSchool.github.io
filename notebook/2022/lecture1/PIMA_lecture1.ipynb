{
 "cells": [
  {
   "cell_type": "markdown",
   "metadata": {},
   "source": [
    "# Variables and Functions"
   ]
  },
  {
   "cell_type": "markdown",
   "metadata": {},
   "source": [
    "## Variables"
   ]
  },
  {
   "cell_type": "markdown",
   "metadata": {},
   "source": [
    "Use variables to store values.\n",
    "Python is case-sensitive.\n",
    "Any Python interpreter can be used as a calculator.\n",
    "\n",
    "**Exercise:** <font color='blue'>Use it to calculate ``3 + 5 * 4``</font>."
   ]
  },
  {
   "cell_type": "code",
   "execution_count": null,
   "metadata": {},
   "outputs": [],
   "source": []
  },
  {
   "cell_type": "markdown",
   "metadata": {},
   "source": [
    "One can assign a value to a variable using the equals sign ``=``.\n",
    "Variable names can include letters, digits and underscores and are case sensitive.\n",
    "Note there is a difference between assignment (``=``) and equality (``==``).\n",
    "\n",
    "**Exercise:** <font color='blue'> Assign a value of 60.0 to variable named ``weight_kg``.</font>\n",
    "From now on, whenever we use ``weight_kg``, Python will substitute the value we assigned to it."
   ]
  },
  {
   "cell_type": "code",
   "execution_count": null,
   "metadata": {},
   "outputs": [],
   "source": []
  },
  {
   "cell_type": "markdown",
   "metadata": {},
   "source": [
    "## Functions"
   ]
  },
  {
   "cell_type": "markdown",
   "metadata": {},
   "source": [
    "A function is a block of organized, reusable code that is used to perform a single, related action.\n",
    "Functions provide better modularity for your application and a high degree of code reusing. Python has many built-in functions like ``print()``, etc. but you can also create your own functions.\n",
    "These functions are called user-defined functions.\n",
    "A function may take zero or more arguments.\n",
    "An argument is a value passed into a function.\n",
    "Arguments of a function are always listed within ``()``, separated by ``,``s, following the function name.\n",
    "For functions that don’t take in any arguments, we still need parentheses ``()`` to tell Python a function is being called.\n",
    "Every function returns something.\n",
    "If the function doesn’t have a useful result to return, it usually returns the special value ``None``.\n",
    "\n",
    "**Exercise:** <font color='blue'>Write a function which adds two variables together.</font>"
   ]
  },
  {
   "cell_type": "code",
   "execution_count": null,
   "metadata": {},
   "outputs": [],
   "source": []
  },
  {
   "cell_type": "markdown",
   "metadata": {},
   "source": [
    "## Data Types"
   ]
  },
  {
   "cell_type": "markdown",
   "metadata": {},
   "source": [
    "Python knows various types of data. ``[value1, value2, value3, ...]`` creates a list. Lists can contain any Python object, including lists (i.e., list of lists). The elements of a list may have different types. The built-in function name ``type`` returns the type of variable. For example ``type(1)`` will return ``int``.\n",
    "\n",
    "**Exercise:**<font color='blue'> Use this built-in function to find the type of a value for:</font>\n",
    "* <font color='blue'> weight_kg </font>\n",
    "* <font color='blue'>element = 'oxygen'</font> \n",
    "* <font color='blue'>str </font>\n",
    "* <font color='blue'>count=1 </font>\n",
    "* <font color='blue'>count=1.0 </font>\n",
    "* <font color='blue'>comparison = (3>4)  </font>\n",
    "* <font color='blue'> odds = [1,3,5,7] </font>\n",
    "* <font color='blue'> None </font>\n",
    "* <font color='blue'> transform in pounds weight_kg function (2.2 pounds in 1 kg) </font>"
   ]
  },
  {
   "cell_type": "code",
   "execution_count": null,
   "metadata": {},
   "outputs": [],
   "source": []
  },
  {
   "cell_type": "markdown",
   "metadata": {},
   "source": [
    "# Division"
   ]
  },
  {
   "cell_type": "markdown",
   "metadata": {},
   "source": [
    "In Python 3, the ``//`` operator performs integer (whole-number) floor division, the ``/`` operator performs floating-point division, and the ``%`` (or modulo) operator calculates and returns the remainder from integer division. \n",
    "\n",
    "**Exercise:** <font color='blue'>Using the ``print`` function display following divisions: </font>\n",
    "* <font color='blue'> 5//3 </font>\n",
    "* <font color='blue'> 5/3 </font>\n",
    "* <font color='blue'> 5%3 </font>"
   ]
  },
  {
   "cell_type": "code",
   "execution_count": null,
   "metadata": {},
   "outputs": [],
   "source": []
  },
  {
   "cell_type": "markdown",
   "metadata": {},
   "source": [
    "# Sequence Types"
   ]
  },
  {
   "cell_type": "markdown",
   "metadata": {},
   "source": [
    "A sequence is an ordered collection of objects."
   ]
  },
  {
   "cell_type": "markdown",
   "metadata": {},
   "source": [
    "## Lists"
   ]
  },
  {
   "cell_type": "markdown",
   "metadata": {},
   "source": [
    "A list stores many values in a single structure.\n",
    "Lists are indexed and sliced with square brackets (e.g. ``my_list[0]`` and ``my_list[2:9]``)).\n",
    "Indexing starts at zero.\n",
    "Use an index to get a single object from a sequence in this case list.\n",
    "Negative indices count backwards.\n",
    "\n",
    "You can add additional items to the end of you list with the ``append`` function, which lengthens the list.\n",
    "The ``pop`` function (by default) removes the last item from the list, shortening it."
   ]
  },
  {
   "cell_type": "markdown",
   "metadata": {},
   "source": [
    "Use a slice function to get part of a selection (``my_list[2:9]`` or ``my_list[slice(2,9)]``).\n",
    "The arguments for a slice go ``[start_index:end_index:step]``, where all elements starting at ``start_index`` and up to (but not including) ``end_index`` at an interval of ``step`` are selected. By default, ``step=1``."
   ]
  },
  {
   "cell_type": "markdown",
   "metadata": {},
   "source": [
    "**Exercise:** Search in scipy-lectures.org how to act via these functions on a list and <font color='blue'> print to display the following: </font>\n",
    "- <font color='blue'>  the first entry of list ``odds``</font>\n",
    "- <font color='blue'> the last entry of list ``odds``</font>\n",
    "- <font color='blue'> \"-1\" entry of list ``odds``</font>\n",
    "- <font color='blue'> list ``odds`` after you append to it number 9 </font>\n",
    "- <font color='blue'> list ``odds`` after you pop its last entry</font>\n",
    "- <font color='blue'> first two entries of list ``odds`` using slice</font>\n",
    "- <font color='blue'> from the third entry on of list ``odds`` using slice </font>\n",
    "- <font color='blue'> every second entry of the list ``odds`` using slice </font>\n",
    "- <font color='blue'> list ``odds`` in reverse order using slice </font>"
   ]
  },
  {
   "cell_type": "code",
   "execution_count": null,
   "metadata": {},
   "outputs": [],
   "source": []
  },
  {
   "cell_type": "markdown",
   "metadata": {},
   "source": [
    "## Strings"
   ]
  },
  {
   "cell_type": "markdown",
   "metadata": {},
   "source": [
    "A string is a sequence of characters.\n",
    "Lists are *mutable*: they can be modified in place. Strings are *immutable*: you cannot change the characters in a string after it has been created.\n",
    "<!-- One must convert numbers to strings or vice verse when operating on them. -->\n",
    "\n",
    "**Exercise:** <font color='blue'>Let's see this in action. For string ``element``, try to change its first entry to 'm'. </font>"
   ]
  },
  {
   "cell_type": "code",
   "execution_count": null,
   "metadata": {},
   "outputs": [],
   "source": []
  },
  {
   "cell_type": "markdown",
   "metadata": {},
   "source": [
    "# Loops"
   ]
  },
  {
   "cell_type": "markdown",
   "metadata": {},
   "source": [
    "Loops are used to repeat actions.\n",
    "Commonly used is the ``for in`` loop.\n",
    "Its general form is: for variable in collection: do things using variable.\n",
    "The first line of the for loop must end with a colon, and the body must be indented.\n",
    "The colon at the end of the first line signals the start of a block of statements.\n",
    "Python uses indentation rather than explicit begin/end statements to show nesting (i.e. what is inside the loop).\n",
    "A loop variable is just a variable that’s being used to record progress in a loop. It can be called anything and still exists after the loop is over. Be careful not to modify the loop variable (in a for loop) inside the loop.\n",
    "\n",
    "**Exercise:** <font color='blue'> Let's try a loop! With a loop, print each letter of the string ``element``.</font>"
   ]
  },
  {
   "cell_type": "code",
   "execution_count": null,
   "metadata": {},
   "outputs": [],
   "source": []
  },
  {
   "cell_type": "markdown",
   "metadata": {},
   "source": [
    "# ``if`` statements"
   ]
  },
  {
   "cell_type": "markdown",
   "metadata": {},
   "source": [
    "In Python you can also do different actions depending if a statment is ``True`` or ``False``.\n",
    "\n",
    "**Exercise:** <font color='blue'> Let's try writing an if statement which prints the letter O if ``element`` is 'oxygen'.</font>"
   ]
  },
  {
   "cell_type": "code",
   "execution_count": null,
   "metadata": {},
   "outputs": [],
   "source": []
  },
  {
   "cell_type": "markdown",
   "metadata": {},
   "source": [
    "# Packages in Python "
   ]
  },
  {
   "cell_type": "markdown",
   "metadata": {},
   "source": [
    "Most of the power of a programming language is in its packages. General tools are built into Python, specialized tools built up from these basic units live in packages that can be called upon when needed. You can think of a package as a collection of files (called modules) that contain functions for use by other programs. Note the term library is simply a generic term for a bunch of code that was designed with the aim of being usable by many applications. Often Python packages are called Python libraries. Very complex packages like NumPy have hundreds of individual modules so putting them into a directory-like structure keeps things organized and avoids name collisions (i.e. two different functions with the same name).\n",
    "A program must import a package module before using it. Then refer to things from the module as ``module_name.thing_name``. Python uses ``.`` to mean “part of”. “The dot notation” is used to call a specific module inside package."
   ]
  },
  {
   "cell_type": "code",
   "execution_count": null,
   "metadata": {},
   "outputs": [],
   "source": []
  },
  {
   "cell_type": "markdown",
   "metadata": {},
   "source": [
    "We have just defined a very important data type: <font color='red'>Array </font>. We will come back an array in a second. In astronomy, we use the [astropy](http://docs.astropy.org/en/stable/) package a lot. You can also import just a specific module from a larger package."
   ]
  },
  {
   "cell_type": "code",
   "execution_count": null,
   "metadata": {},
   "outputs": [],
   "source": []
  },
  {
   "cell_type": "markdown",
   "metadata": {},
   "source": [
    "# Arrays"
   ]
  },
  {
   "cell_type": "markdown",
   "metadata": {},
   "source": [
    "Like Python lists, numpy arrays are also composed of ordered values and also use indexing.\n",
    "Unlike lists which do not require a specific Python package to be defined (or worked with), NumPy arrays are defined using the ``array()`` function from the numpy package, which we imported earlier.\n",
    "\n",
    "A key characteristic of NumPy arrays is that all elements in the array must be the same type of data (i.e. all integers, floats, strings, etc).\n",
    "This allows us to apply mathematical operations to each value in an array.\n",
    "\n",
    "**Exercise:** <font color=blue>Let's see this in action. We will do the following:</font>\n",
    "- <font color=blue>Multiply all elements in the array by 2</font>\n",
    "- <font color=blue>Compute the mean of the array</font>\n",
    "- <font color=blue>Compute the standard deviation</font>\n",
    "- <font color=blue>Sum all elements in the array</font>"
   ]
  },
  {
   "cell_type": "code",
   "execution_count": null,
   "metadata": {},
   "outputs": [],
   "source": []
  },
  {
   "cell_type": "markdown",
   "metadata": {},
   "source": [
    "# 2D Arrays"
   ]
  },
  {
   "cell_type": "markdown",
   "metadata": {},
   "source": [
    "We can also have 2D arrays. We will use them a lot when working with astronomical images. Now that we have two dimensions, we must use 2 slices separated by a ``,`` to select elements using the format ``myarray[slice_row,slice_column]``.\n",
    "\n",
    "**Example:** <font color=blue>Let's define the 3x4 (3 rows, 4 columns) array and do the following operations:</font>\n",
    "- <font color=blue>View the full array</font>\n",
    "- <font color=blue>View its shape</font>\n",
    "- <font color=blue>Print the first entry of the second row</font>\n",
    "- <font color=blue>Print the entire first row</font>\n",
    "- <font color=blue>Print the fist two elements for each of the last two rows</font>"
   ]
  },
  {
   "cell_type": "code",
   "execution_count": null,
   "metadata": {},
   "outputs": [],
   "source": []
  },
  {
   "cell_type": "markdown",
   "metadata": {},
   "source": [
    "# Dictionaries"
   ]
  },
  {
   "cell_type": "markdown",
   "metadata": {},
   "source": [
    "Dictionary are very useful in python to store information of any type.\n",
    "In astronomy a very common use of dictionary is to store all the data connected with one observation with the telescope: exposure time, observer, site of the telescope, temperature of the detector, date of the observation, etc.\n",
    "Each entry of the dictionary is made up of a *key* paired with a *value*.\n",
    "To access a value of a dictionary, we use brackets: ``my_dict[key]``.\n",
    "\n",
    "**Exercise:** <font color=blue>Let's make a simple dictionary and see how we select info from it. Create a dictionary of the element symbols (H, He, Li, Be, B, and C) containing their names (hydrogen, helium, lithium, beryllium, boron, and carbon). Create a loop over the dictionary keys to print each value.</font>"
   ]
  },
  {
   "cell_type": "code",
   "execution_count": null,
   "metadata": {},
   "outputs": [],
   "source": []
  },
  {
   "cell_type": "markdown",
   "metadata": {},
   "source": [
    "# Reading a text file"
   ]
  },
  {
   "cell_type": "markdown",
   "metadata": {},
   "source": [
    "Let's use NumPy to read a file.\n",
    "\n",
    "**Exercise:** <font color=blue>Read an ascii file of the solar spectrum using NumPy.</font>\n",
    "If you look at the file there are two columns lke this:\n",
    "Wavelength (nm)    flux (W*m-2*nm-1)\n",
    "xx                 yy\n",
    "xx                 yy\n",
    "xx                 yy"
   ]
  },
  {
   "cell_type": "code",
   "execution_count": null,
   "metadata": {},
   "outputs": [],
   "source": []
  },
  {
   "cell_type": "markdown",
   "metadata": {},
   "source": [
    "Now, let's split data in 2 arrays (one for wavelength and one for flux).  \n",
    "``zip(xx,yy)`` is an aweasome command to combine two arrays.  \n",
    "``zip(*xxx)`` does the opposite of zip, splits data in 2 arrays.  \n",
    "(..... I wish someone would have told me about ``zip`` when i started to learn python ....)"
   ]
  },
  {
   "cell_type": "code",
   "execution_count": null,
   "metadata": {},
   "outputs": [],
   "source": []
  },
  {
   "cell_type": "markdown",
   "metadata": {},
   "source": []
  }
 ],
 "metadata": {
  "kernelspec": {
   "display_name": "Python 3 (ipykernel)",
   "language": "python",
   "name": "python3"
  },
  "language_info": {
   "codemirror_mode": {
    "name": "ipython",
    "version": 3
   },
   "file_extension": ".py",
   "mimetype": "text/x-python",
   "name": "python",
   "nbconvert_exporter": "python",
   "pygments_lexer": "ipython3",
   "version": "3.8.13"
  },
  "toc-autonumbering": true,
  "toc-showtags": false
 },
 "nbformat": 4,
 "nbformat_minor": 4
}
