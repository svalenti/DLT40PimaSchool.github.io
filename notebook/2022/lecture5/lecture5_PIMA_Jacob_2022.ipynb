{
 "cells": [
  {
   "cell_type": "markdown",
   "id": "0dfbf697",
   "metadata": {},
   "source": [
    "# This notebook is intended to show how to calibrate an image, and measure an object's Magnitude!\n",
    "\n",
    "## Overview from last time:\n",
    "\n",
    "* Opening a fits image\n",
    "* Plotting the image\n",
    "* Finding all of the objects in the image\n",
    "\n",
    "Let's start with all of the imports we will need today, along with our inline plotting `magic` function. "
   ]
  },
  {
   "cell_type": "code",
   "execution_count": null,
   "id": "80210c0f",
   "metadata": {},
   "outputs": [],
   "source": [
    "#this gives us access to numpy as np, and matplotlib.pyplot as plt\n",
    "%pylab inline\n",
    "\n",
    "#Astronomical imports!... exotic\n",
    "from astropy.io import fits\n",
    "from astropy import wcs as wcs\n",
    "import sep\n"
   ]
  },
  {
   "cell_type": "markdown",
   "id": "8ccf0c1f",
   "metadata": {},
   "source": [
    "# Opening an image\n",
    " <font color='blue'> Exercise: let's read an image as we learned in previous lectures and let's define the data and the header:\n",
    "</font>\n",
    "\n",
    "Hints: \n",
    "* our file is the same as last time `16335757.fits`\n",
    "* we use the astropy.io function: `fits.open(filename)` to open the file\n",
    "* this returns an HDU list, our data and header will be in the 0th item in this list (`list[0].data, list[0].header`)\n",
    "* lets call them `img` and `header` respectively\n",
    "\n",
    "<font color='blue'> Plot your img data! </font>\n",
    "* using `plt.imshow(img)` "
   ]
  },
  {
   "cell_type": "code",
   "execution_count": null,
   "id": "8cc8e7e5",
   "metadata": {},
   "outputs": [],
   "source": []
  },
  {
   "cell_type": "markdown",
   "id": "b54d4cac",
   "metadata": {},
   "source": [
    "### Now, let's plot a histogram of the image data, to see the range of its values\n",
    "\n",
    "* We will use the matplotlib.pyplot (`plt`) histogram function: `plt.hist(x, bins)`\n",
    "* Our data isn't in the correct format, we will convert it to a 1D list by using `img.flatten()`\n",
    "* We will define it as having 100 bins as well"
   ]
  },
  {
   "cell_type": "code",
   "execution_count": null,
   "id": "5f7cdf6f",
   "metadata": {},
   "outputs": [],
   "source": [
    "image_hist = plt.hist(img.flatten(), bins=100)\n",
    "\n"
   ]
  },
  {
   "cell_type": "markdown",
   "id": "717806e1",
   "metadata": {},
   "source": [
    "### Let's do it again, but this time constraining the range of the histogram  \n",
    "\n",
    "* using <font color='blue'>range=(X,Y) </font> inside the `plt.hist()` method\n",
    "\n",
    "* <font color='blue'>Can someone estimate values to put as the limits to the range? 0-10000? Less or more?</font>"
   ]
  },
  {
   "cell_type": "code",
   "execution_count": null,
   "id": "ef8f94af",
   "metadata": {},
   "outputs": [],
   "source": [
    "image_hist = plt.hist(img.flatten(), bins=1000, range=(??,??))\n",
    "\n"
   ]
  },
  {
   "cell_type": "markdown",
   "id": "a59686cc",
   "metadata": {},
   "source": [
    "### Now that we have an idea where our data is, let's redo the plot with these parameters\n",
    "\n",
    "* We can constrain our `plt.imshow()` by using the `vmin` and `vmax` parameters.\n",
    "* <font color='blue'> Judging by the above histogram, what are some good values to use here?</font>\n",
    "\n",
    "`imgshow = plt.imshow(img, origin='lower', cmap='gray', vmin=??, vmax=??)`"
   ]
  },
  {
   "cell_type": "code",
   "execution_count": null,
   "id": "7c0b0d67",
   "metadata": {},
   "outputs": [],
   "source": [
    "plt.figure(figsize=(10,12))\n",
    "imgshow = plt.imshow(img, origin='lower', cmap='gray', vmin=??, vmax=??)\n",
    "\n"
   ]
  },
  {
   "cell_type": "markdown",
   "id": "08175b4e",
   "metadata": {},
   "source": [
    "## Beautiful!\n",
    "\n",
    "\n",
    "### Now lets find the position of all the stars in the image.\n",
    "\n",
    "* For this we will use a package called: <font color='red'>sep</font> which was used last lecture\n",
    "* We will have to define the background of the image, then use that information to locate the objects with `sep`\n",
    "\n",
    "\n",
    "The 3 command we need to use are the following:\n",
    "<br> <font color='blue'>  img = img.byteswap().newbyteorder()</font>\n",
    "<br> <font color='blue'>  bkg = sep.Background(img)</font>\n",
    "<br> <font color='blue'>  objects = sep.extract(img, thresh=20.0, err=bkg.globalrms, mask=None, minarea=10, clean=True, clean_param=1.0, segmentation_map=False)</font>"
   ]
  },
  {
   "cell_type": "code",
   "execution_count": null,
   "id": "b1f3d538",
   "metadata": {},
   "outputs": [],
   "source": [
    "img = img.byteswap().newbyteorder() # magic command\n",
    "bkg = sep.Background(img)\n",
    "img_sub = img-bkg\n",
    "objects = sep.extract(img, \n",
    "                      thresh=20.0, \n",
    "                      err=bkg.globalrms, \n",
    "                      mask=None, \n",
    "                      minarea=10, \n",
    "                      clean=True, \n",
    "                      clean_param=1.0, \n",
    "                      segmentation_map=False\n",
    "                    )\n",
    "\n"
   ]
  },
  {
   "cell_type": "markdown",
   "id": "c577c35c",
   "metadata": {},
   "source": [
    "### Now let's plot the objects that sep extracted\n",
    "\n",
    "* objects is a NumPy structured array with many fields. We have seen in the previous lecture where the source detections are stored. \n",
    "\n",
    "EXERCISE:\n",
    "<font color='blue'> plot the extracted objects on the image </font>\n",
    "\n",
    "Hints:\n",
    "* our x,y values are stored in `objects['x'], objects['y']` respectively\n",
    "* use plt.plot(??, ??, 'xr')"
   ]
  },
  {
   "cell_type": "code",
   "execution_count": null,
   "id": "8793fdb4",
   "metadata": {},
   "outputs": [],
   "source": [
    "plt.figure(figsize=(10,12))\n",
    "imgshow = plt.imshow(img, origin='lower', cmap='gray', vmin=200, vmax=400)\n",
    "#plt.plot(.....)\n",
    "\n"
   ]
  },
  {
   "cell_type": "markdown",
   "id": "a9654d48",
   "metadata": {},
   "source": [
    "# World Coordinate System (WCS)\n",
    "\n",
    "If we know the sky coordinates of one interesting object, how can we find its position in the image?\n",
    "To do that we can use the information on the header of the file and convert the coordinate in pixel position using the [wcs](https://docs.astropy.org/en/stable/wcs/) package in astropy. \n"
   ]
  },
  {
   "cell_type": "code",
   "execution_count": null,
   "id": "6a5dcb3e",
   "metadata": {},
   "outputs": [],
   "source": [
    "# import the wcs package\n",
    "from astropy.wcs import WCS\n"
   ]
  },
  {
   "cell_type": "markdown",
   "id": "8850f2d4",
   "metadata": {},
   "source": [
    "In the next cell, we'll read the WCS information from the image header. "
   ]
  },
  {
   "cell_type": "code",
   "execution_count": null,
   "id": "25d91dae",
   "metadata": {},
   "outputs": [],
   "source": [
    "#We already read the header above, but we can do it again here if needed (uncomment the line below).\n",
    "#header = hdu_list[0].header\n",
    "\n",
    "# read in the WCS solution from the header\n",
    "w = WCS(header)\n",
    "#transform coordinate in pixels:\n",
    "Ra = 148.283666667\n",
    "Dec = 16.7139583333\n",
    "px, py = w.wcs_world2pix(Ra,Dec, 1)\n",
    "print('my object should be close to these coordinate')\n",
    "print(px,py)\n"
   ]
  },
  {
   "cell_type": "markdown",
   "id": "906b2c0e",
   "metadata": {},
   "source": [
    "Let's plot the image again, and this time mark the position of the star in the image. \n",
    "\n",
    "* <font color='blue'>Fill in the last plotting command to mark the star of interest, \n",
    "    using a different plotting symbol and color.</font>"
   ]
  },
  {
   "cell_type": "code",
   "execution_count": null,
   "id": "ed62198e",
   "metadata": {},
   "outputs": [],
   "source": [
    "plt.figure(figsize=(10,12))\n",
    "imgshow = plt.imshow(img, origin='lower', cmap='gray', vmin=200, vmax=400)\n",
    "plt.plot(objects['x'],objects['y'],'xr')\n",
    "\n",
    "#fill in here\n",
    "#plt.plot(???)"
   ]
  },
  {
   "cell_type": "markdown",
   "id": "2e8335b8",
   "metadata": {},
   "source": [
    "Now we want to identify which object in the dictionary is our object. We need to compare the pixel position for each object in the object dictionary with the pixel position we found. We need to measure the distance between them and take the object if the distance is less than XX pixels. Let's loop over the stars using enumerate and compute the difference between the coordinates until we find an object that is close enough. \n"
   ]
  },
  {
   "cell_type": "markdown",
   "id": "2e9e370c",
   "metadata": {},
   "source": [
    "`enumerate` is useful when you want to use a counting variable in a loop. It allows you to loop over something and have an automatic counter. Here are some examples of how it works:\n"
   ]
  },
  {
   "cell_type": "code",
   "execution_count": null,
   "id": "5aa640d4",
   "metadata": {},
   "outputs": [],
   "source": [
    "#Just a regular loop through a list\n",
    "values = ['a', 'b', 'c']\n",
    "for value in values:\n",
    "    print(value)\n",
    "    "
   ]
  },
  {
   "cell_type": "code",
   "execution_count": null,
   "id": "0c2e9eee",
   "metadata": {},
   "outputs": [],
   "source": [
    "#what happens if we use enumerate:\n",
    "for value in enumerate(values):\n",
    "    print(value)\n",
    "    "
   ]
  },
  {
   "cell_type": "markdown",
   "id": "36b5a727",
   "metadata": {},
   "source": [
    "You can break-up the counting variable from the corresponding list elements by providing two variables in the loop. "
   ]
  },
  {
   "cell_type": "code",
   "execution_count": null,
   "id": "bd64d7e4",
   "metadata": {},
   "outputs": [],
   "source": [
    "for count, value in enumerate(values):\n",
    "    print(count, value)"
   ]
  },
  {
   "cell_type": "markdown",
   "id": "f101838a",
   "metadata": {},
   "source": [
    "EXERCISE:\n",
    "<font color='blue'> Loop throught the objects dictionary to find the object that is close to our object of interest </font>\n",
    "\n",
    "Hints:\n",
    "* The x,y values are stored in `objects['x'], objects['y']`, respectively. \n",
    "* The x,y values for our object of interst are stored in `px, py`, respectively\n",
    "* Recall the formula for the distance between two points: sqrt((x1 - x2)^2 + (y1 - y2)^2)\n",
    "* You can use a distance threshold of 10 pixels to decide if an object is close enough. \n"
   ]
  },
  {
   "cell_type": "code",
   "execution_count": null,
   "id": "04f40865",
   "metadata": {},
   "outputs": [],
   "source": [
    "for i,j in enumerate(objects['x']):\n",
    "    distance = ??? # write an expression to calculate the distance between object \"i\" in the loop, and our object\n",
    "    print('distance ', distance)\n",
    "    if ???: #write an expression to check if the distance is within our threshhold\n",
    "        print('FOUND', i)\n",
    "        print('The coordinate is', objects['x'][i], objects['y'][i])\n",
    "        break  #This command ends the loop, because we found the object we wanted!\n",
    "        "
   ]
  },
  {
   "cell_type": "markdown",
   "id": "4a9510d1",
   "metadata": {},
   "source": [
    "# Photometry and Flux\n",
    "Now what we want to do with these objects? We probably want to measure how much light is emitted by each of them.\n",
    "\n",
    "Let's zoom on one of them by cutting a small box of 40 x 40 pixels with one object in the center.Tto cut a region we should do  <font color='blue'> img[a:b,c:d] </font> with a,b,c,d the pixels (integer) at the edges of the small matrix. \n",
    "\n",
    "* let's do that for the element 10 of the object dictionary. `object['x'][10]` and `object['y'][10]`\n",
    "\n",
    "* let's now plot the zoomed image!\n"
   ]
  },
  {
   "cell_type": "code",
   "execution_count": null,
   "id": "ffd8e7b8",
   "metadata": {},
   "outputs": [],
   "source": [
    "obj_10_y = int(objects['y'][10])\n",
    "obj_10_x = int(objects['x'][10])\n",
    "\n",
    "#The entire slice! -20 and + 20 all around this object from the image data\n",
    "obj_10 = img[\n",
    "    obj_10_y-20:obj_10_y+20,\n",
    "    obj_10_x-20:obj_10_x+20\n",
    "  ] \n",
    "\n",
    "fig, ax = plt.subplots(ncols=1, figsize=(8, 8))\n",
    "imgshow = ax.imshow(obj_10, origin='lower', cmap='gray', vmin=200, vmax=400)\n"
   ]
  },
  {
   "cell_type": "markdown",
   "id": "9716cd2e",
   "metadata": {},
   "source": [
    "### How do we define where the star \"begins\" or \"ends\"??\n",
    "\n",
    "Let's do a test!\n",
    "\n",
    "We want to see the amount of flux at a given radius going out from the center of the circle. I will define the `edge` of my star where the amount of flux stops growing.\n",
    "\n",
    "* We can utilize the `sep.sum_circle()` function to find the amount of flux inside a given radius\n",
    "* Below, we iterate radii from 1-20 pixels from the center of our star, and plot the flux.\n",
    "* here we use the background-subtracted image: `img_sub`\n",
    "\n"
   ]
  },
  {
   "cell_type": "code",
   "execution_count": null,
   "id": "0f101f65",
   "metadata": {},
   "outputs": [],
   "source": [
    "fluxvec = []\n",
    "radiuscev = []\n",
    "for radius in range(1,20):\n",
    "    flux, fluxerr, flag = sep.sum_circle(img_sub, [objects['x'][10]], [objects['y'][10]],\n",
    "                                         radius, err=bkg.globalrms, gain=1.0)\n",
    "    fluxvec.append(flux)\n",
    "    radiuscev.append(radius)\n",
    "\n",
    "plt.plot(radiuscev,fluxvec,'or')\n",
    "plt.xlabel('radius (pixels)')\n",
    "plt.ylabel('flux (counts)')\n"
   ]
  },
  {
   "cell_type": "markdown",
   "id": "eb7eff8d",
   "metadata": {},
   "source": [
    "Let's select the region to get all the counts of the object. We can use a circle.\n",
    "\n",
    "<font color='blue'> From the plot above: How large should be the radius? </font>\n",
    "\n",
    "EXERCISE:\n",
    "\n",
    "* <font color='blue'> Lets plot 3 circles of different radii (8,10,12) around our object to get an idea where the flux is coming from.</font>\n",
    "\n",
    "Hint:\n",
    "\n",
    "* To plot a circle you will first need to define a matplotlib `Circle` object and then add it to your ax patches like so:\n",
    "\n",
    "```\n",
    "c1 = Circle((x,y), radius, color='r', lw=4, fill=False)\n",
    "ax.add_patch(c1)\n",
    "```\n",
    "\n",
    "* here (x,y) will be the center of our star (20, 20)\n",
    "* lw - stands for linewidth, let's leave it at 4 pixels wide\n",
    "* fill=False, we leave this at false. If true, it will plot an full colored circle, not just a ring.\n"
   ]
  },
  {
   "cell_type": "code",
   "execution_count": null,
   "id": "7fda3b96",
   "metadata": {},
   "outputs": [],
   "source": [
    "fig, ax = plt.subplots(ncols=1, figsize=(8, 8))\n",
    "imgshow = ax.imshow(obj_10, origin='lower', cmap='gray', vmin=200, vmax=400)\n",
    "c1 = Circle(??, ??, ??)\n",
    "ax.add_patch(c1)\n",
    "#c2..and c3?...\n"
   ]
  },
  {
   "cell_type": "markdown",
   "id": "11d277cd",
   "metadata": {},
   "source": [
    "### Now that we have defined the \"Edge\" of our star, Lets get its flux!\n",
    "\n",
    "EXERCISE: <font color='blue'>Measuring Flux of our object</font>\n",
    "* using the sep.sum_circle() method from above obtain the flux and error from our 10th element object\n",
    "* `flux, fluxerr, flag = sep.sum_circle(img_sub, [x], [y], radius, err=bkg.globalrms, gain=1.0)`\n"
   ]
  },
  {
   "cell_type": "code",
   "execution_count": null,
   "id": "d7f81ec6",
   "metadata": {},
   "outputs": [],
   "source": [
    "flux, fluxerr, flag = sep.sum_circle(??,??,??)\n",
    "\n",
    "print(flux)"
   ]
  },
  {
   "cell_type": "markdown",
   "id": "a79b7259",
   "metadata": {},
   "source": [
    "### To clarify:\n",
    "\n",
    "* What we have just measured is the number of counts within a radius of ?? pixel(s) for one object we selected in the image. \n",
    "* How do we use this measurement in astronomy? We usually convert this measurment into a magnitude, and if we know how our telescope is performing, then we know how bright a star appears to be. How bright actually is (absolute magnitude) depends on how far the star is. \n",
    "\n",
    "### Magnitudes!\n",
    "* <font color='blue'> Let's first convert the flux into an instrumental magnitude. </font> \n",
    "* The equation we will use is `inst_mag = -2.5*np.log10(flux)`\n",
    "* print it out!\n"
   ]
  },
  {
   "cell_type": "code",
   "execution_count": null,
   "id": "4c83ef08",
   "metadata": {},
   "outputs": [],
   "source": []
  },
  {
   "cell_type": "markdown",
   "id": "e7481834",
   "metadata": {},
   "source": [
    "### We are not done yet...\n",
    "\n",
    "* We still need to transform this 'instrumental magnitude' into a calibrated apparent magnitude. This value will actually mean something astronomically, in comparison with a standardized magnitude system. \n",
    "\n",
    "* In order to do this primary calibration, we need to know the apparent magnitude of at least one object in the field... a <b>standard star</b>! \n",
    "\n",
    "* We need to measure its instrumental magnitude and subtract it from its known apparent magnitude and obtain what we call the \"<b>zeropoint</b>\".\n",
    "\n",
    "* Once we have the zeropoint, we can measure the magnitudes of any object in the image by adding it to the instrumental magnitude!\n",
    "\n",
    "EXERCISE: <font color='blue'> Measuring the zeropoint. </font>\n",
    "\n",
    "* <font color='blue'> I know the apparent magnitude of the 9th element of our objects is 15, using the code above calculate the zeropoint for our image </font>\n",
    "\n",
    "HINTS:\n",
    "\n",
    "* Copy the code above and calculate inst_mag using the sep.sum_circle() function on the 9th element of our objects list, you can keep the radius at 10.\n",
    "* `zeropoint = app_mag - inst_mag; (app_mag = 15)`\n"
   ]
  },
  {
   "cell_type": "code",
   "execution_count": null,
   "id": "0e884390",
   "metadata": {},
   "outputs": [],
   "source": []
  },
  {
   "cell_type": "markdown",
   "id": "092d9080",
   "metadata": {},
   "source": [
    "### The final goal! \n",
    "\n",
    "* <font color='blue'> Now that you know the zeropoint of the image, calculate the apparent magnitude of our star of interest! </font>\n",
    "\n",
    "HINT:\n",
    "\n",
    "* `app_mag = zeropoint + inst_mag`\n"
   ]
  },
  {
   "cell_type": "code",
   "execution_count": null,
   "id": "deef017a",
   "metadata": {},
   "outputs": [],
   "source": []
  },
  {
   "cell_type": "markdown",
   "id": "ea51c84b",
   "metadata": {},
   "source": [
    "# Distance modulus\n",
    "\n",
    "* We have learned that knowing the apparent and absolute magnitudes can give us a distance to the source (Distance Modulus).\n",
    "\n",
    "* `distance_modulus = apparent_mag - absolute_mag`\n",
    "\n",
    "* <font color='blue'>What if we already knew the distance modulus to a star in our image above? What information could we get from what we learned today? </font>\n",
    "\n",
    "* Knowning the absolute magnitude of an object is important for initial supernova discoveries. For example, this can can give us a guess of its type before we even have a spectrum.\n",
    "\n",
    "* <font color='blue'> If we knew the distance modulus to our image as: `30 mag`. What would be the absolute magnitude of our star? </font>\n"
   ]
  },
  {
   "cell_type": "code",
   "execution_count": null,
   "id": "f7eac1aa",
   "metadata": {},
   "outputs": [],
   "source": []
  },
  {
   "cell_type": "code",
   "execution_count": null,
   "id": "d20e5980",
   "metadata": {},
   "outputs": [],
   "source": []
  },
  {
   "cell_type": "code",
   "execution_count": null,
   "id": "da32e8c4",
   "metadata": {},
   "outputs": [],
   "source": []
  }
 ],
 "metadata": {
  "kernelspec": {
   "display_name": "Python 3 (ipykernel)",
   "language": "python",
   "name": "python3"
  },
  "language_info": {
   "codemirror_mode": {
    "name": "ipython",
    "version": 3
   },
   "file_extension": ".py",
   "mimetype": "text/x-python",
   "name": "python",
   "nbconvert_exporter": "python",
   "pygments_lexer": "ipython3",
   "version": "3.7.11"
  }
 },
 "nbformat": 4,
 "nbformat_minor": 5
}
