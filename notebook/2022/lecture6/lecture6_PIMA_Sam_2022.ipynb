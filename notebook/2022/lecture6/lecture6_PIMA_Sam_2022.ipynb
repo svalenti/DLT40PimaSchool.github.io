{
 "cells": [
  {
   "cell_type": "markdown",
   "metadata": {},
   "source": [
    "# Lightcurves of stars\n",
    "* Apparent magnitude calibration of our objects\n",
    "* Time series analysis of the brightness of stars\n",
    "\n",
    "## Overview from last time:\n",
    "\n",
    "* Finding objects and measuring flux"
   ]
  },
  {
   "cell_type": "code",
   "execution_count": null,
   "metadata": {},
   "outputs": [],
   "source": [
    "#this gives us access to numpy as np, and matplotlib.pyplot as plt\n",
    "%pylab inline\n",
    "\n",
    "#Astronomical imports!... exotic\n",
    "from astropy.io import fits\n",
    "from astropy import wcs as wcs\n",
    "import sep\n",
    "import glob\n"
   ]
  },
  {
   "cell_type": "markdown",
   "metadata": {},
   "source": [
    "# Overview: Opening and plotting objects in an image\n",
    " <font color='blue'> Let's read an image as we learned in previous lectures and let's define the data and the header:\n",
    "</font>\n",
    "\n",
    "Hints: \n",
    "* our file is the same as last time `16335757.fits`\n",
    "* we use the astropy.io function: `fits.open(filename)` to open the file\n",
    "* this returns an HDU list, our data and header will be in the 0th item in this list (`list[0].data, list[0].header`)\n",
    "* lets call them `img` and `header` respectively\n",
    "* you can use `plot.hist(img.flatten(), bins=N, range(-x1, x2))` to find the vmin and vmax of your data. Experimentally determine N, x1, and x2. Maybe start with N=10 and x1 = -10, x2 = 10 and then go from there.\n",
    "\n",
    "<font color='blue'> Plot your img data! </font>\n",
    "* using `imgshow = plt.imshow(img, origin='lower', cmap='gray', vmin=x1, vmax=x2)` "
   ]
  },
  {
   "cell_type": "code",
   "execution_count": null,
   "metadata": {},
   "outputs": [],
   "source": [
    "hdu_list = fits.open('16335757.fits')\n",
    "img = hdu_list[0].data\n",
    "header = hdu_list[0].header\n",
    "#image_hist = plt.hist(img.flatten(), bins=100)\n",
    "#image_hist = plt.hist(img.flatten(), bins=1000, range=(-10,500))\n",
    "img = img.byteswap().newbyteorder() # magic command\n",
    "bkg = sep.Background(img)\n",
    "img_sub = img-bkg\n",
    "objects = sep.extract(img, \n",
    "                      thresh=20.0, \n",
    "                      err=bkg.globalrms, \n",
    "                      mask=None, \n",
    "                      minarea=10, \n",
    "                      clean=True, \n",
    "                      clean_param=1.0, \n",
    "                      segmentation_map=False\n",
    "                    )\n",
    "\n",
    "plt.figure(figsize=(10,12))\n",
    "imgshow = plt.imshow(img, origin='lower', cmap='gray', vmin=200, vmax=400)\n",
    "plt.plot(objects['x'],objects['y'],'xr')"
   ]
  },
  {
   "cell_type": "markdown",
   "metadata": {},
   "source": [
    "# Overview: Crossmatching and finding flux/magnitude\n",
    "Say we know the RA and DEC of an interesting star, how do I find it in my objects list, then find its magnitude?\n",
    "<br><br>\n",
    "If we know the sky coordinates of one interesting object, how can we find its position in the image? To do that we can use the information on the header of the file and convert the coordinate in pixel position using the To do that we can use the information on the header of the file and convert the coordinate in pixel position using the [wcs](https://docs.astropy.org/en/stable/wcs/) package in astropy.\n",
    "<br><br>\n",
    "Let's plot the image again, and this time mark the position of the star in the image. \n",
    "\n",
    "* <font color='blue'>Fill in the last plotting command to mark the star of interest, using a different plotting symbol and color.</font>"
   ]
  },
  {
   "cell_type": "code",
   "execution_count": null,
   "metadata": {},
   "outputs": [],
   "source": [
    "# import the wcs package\n",
    "from astropy.wcs import WCS\n",
    "# read in the WCS solution from the header\n",
    "w = WCS(header)\n",
    "#transform coordinate in pixels:\n",
    "Ra = 148.283666667\n",
    "Dec = 16.7139583333\n",
    "px, py = w.wcs_world2pix(Ra,Dec, 1)\n",
    "print('my object should be close to these coordinate')\n",
    "print(px,py)\n",
    "\n",
    "plt.figure(figsize=(10,12))\n",
    "imgshow = plt.imshow(img, origin='lower', cmap='gray', vmin=200, vmax=400)\n",
    "plt.plot(objects['x'],objects['y'],'xr')\n",
    "\n",
    "plt.plot(px,py,'*',color='orange',markersize=20)"
   ]
  },
  {
   "cell_type": "markdown",
   "metadata": {},
   "source": [
    "EXERCISE:\n",
    "<font color='blue'> Loop throught the objects dictionary to find the object that is close to our object of interest.</font>\n",
    "\n",
    "Hints:\n",
    "* The x,y values are stored in `objects['x'], objects['y']`, respectively. \n",
    "* The x,y values for our object of interst are stored in `px, py`, respectively\n",
    "* Recall the formula for the distance between two points: sqrt((x1 - x2)^2 + (y1 - y2)^2)\n",
    "* You can use a distance threshold of 10 pixels to decide if an object is close enough. \n",
    "\n"
   ]
  },
  {
   "cell_type": "code",
   "execution_count": null,
   "metadata": {},
   "outputs": [],
   "source": [
    "for i,j in enumerate(objects['x']):\n",
    "    distance = np.sqrt((objects['x'][i]-px)**2+(objects['y'][i]-py)**2)\n",
    "    #print('distance ', distance)\n",
    "    if distance < 10:\n",
    "        print('FOUND', i)\n",
    "        print('The coordinate is', objects['x'][i], objects['y'][i])\n",
    "        break\n",
    "        \n",
    "        "
   ]
  },
  {
   "cell_type": "markdown",
   "metadata": {},
   "source": [
    "# Overview: Photometry and Flux\n",
    "Now what we want to do with these objects? We probably want to measure how much light is emitted by each of them.\n",
    "\n",
    "Let's zoom on the one we found of them by cutting a small box of 40 x 40 pixels with one object in the center.Tto cut a region we should do  <font color='blue'> img[a:b,c:d] </font> with a,b,c,d the pixels (integer) at the edges of the small matrix. \n",
    "\n",
    "* let's do that for the element 10 of the object dictionary. `object['x'][10]` and `object['y'][10]`\n",
    "\n",
    "* let's now plot the zoomed image!\n",
    "\n"
   ]
  },
  {
   "cell_type": "code",
   "execution_count": null,
   "metadata": {},
   "outputs": [],
   "source": [
    "obj_y = int(objects['y'][42])\n",
    "obj_x = int(objects['x'][42])\n",
    "\n",
    "\n",
    "#The entire slice! -20 and + 20 all around this object from the image data\n",
    "obj = img[\n",
    "    obj_y-20:obj_y+20,\n",
    "    obj_x-20:obj_x+20\n",
    "  ] \n",
    "\n",
    "fig, ax = plt.subplots(ncols=1, figsize=(8, 8))\n",
    "imgshow = ax.imshow(obj, origin='lower', cmap='gray', vmin=200, vmax=400)"
   ]
  },
  {
   "cell_type": "markdown",
   "metadata": {},
   "source": [
    "### How do we define where the star `begins` or `ends`??\n",
    "\n",
    "Let's do a test!\n",
    "\n",
    "We want to see the amount of flux at a given radius going out from the center of the circle. I will define the `edge` of my star where the amount of flux stops growing.\n",
    "\n",
    "* We can utilize the `sep.sum_circle()` function to find the amount of flux inside a given radius\n",
    "* Below, we iterate radii from 1-20 pixels from the center of our star, and plot the flux.\n",
    "* here we use the background-subtracted image: `img_sub`\n",
    "\n"
   ]
  },
  {
   "cell_type": "code",
   "execution_count": null,
   "metadata": {},
   "outputs": [],
   "source": [
    "fluxvec = []\n",
    "radiuscev = []\n",
    "for radius in range(1,20):\n",
    "    flux, fluxerr, flag = sep.sum_circle(img_sub, [objects['x'][10]], [objects['y'][10]],\n",
    "                                         radius, err=bkg.globalrms, gain=1.0)\n",
    "    fluxvec.append(flux)\n",
    "    radiuscev.append(radius)\n",
    "\n",
    "plt.plot(radiuscev,fluxvec,'or')\n",
    "plt.xlabel('radius (pixels)')\n",
    "plt.ylabel('flux (counts)')\n",
    "\n"
   ]
  },
  {
   "cell_type": "markdown",
   "metadata": {},
   "source": [
    "Let's select the region to get all the counts of the object. We can use a circle.\n",
    "\n",
    "<font color='blue'> From the plot above: How large should be the radius? </font>\n",
    "\n",
    "EXERCISE:\n",
    "\n",
    "* <font color='blue'> Lets plot 3 circles of different radii (5,8,10) around our object to get an idea where the flux is coming from.</font>\n",
    "\n",
    "Hint:\n",
    "\n",
    "* To plot a circle you will first need to define a matplotlib `Circle` object and then add it to your ax patches like so:\n",
    "\n",
    "```\n",
    "c1 = Circle((x,y),radius, color='r', lw=4, fill=False)\n",
    "ax.add_patch(c1)\n",
    "```\n",
    "\n",
    "* here (x,y) will be the center of our star (20, 20)\n",
    "* lw - stands for linewidth, let's leave it at 4 pixels wide\n",
    "* fill=False, we leave this at false. If true, it will plot an full colored circle, not just a ring.\n"
   ]
  },
  {
   "cell_type": "code",
   "execution_count": null,
   "metadata": {},
   "outputs": [],
   "source": [
    "fig, ax = plt.subplots(ncols=1, figsize=(8, 8))\n",
    "imgshow = ax.imshow(obj, origin='lower', cmap='gray', vmin=200, vmax=400)\n",
    "\n",
    "#ring1 = Circle((20,20),radius ,color='r', lw=4, fill=False)\n",
    "#ax.add_patch(ring1)\n"
   ]
  },
  {
   "cell_type": "markdown",
   "metadata": {},
   "source": [
    "### Now that we have defined the \"Edge\" of our star, Lets get its flux!\n",
    "\n",
    "EXERCISE: <font color='blue'>Measuring Flux of our object</font>\n",
    "* using the sep.sum_circle() method from above obtain the flux and error from our 10th element object\n",
    "* `flux, fluxerr, flag = sep.sum_circle(img_sub, [x], [y], radius, err=bkg.globalrms, gain=1.0)`\n",
    "\n"
   ]
  },
  {
   "cell_type": "code",
   "execution_count": null,
   "metadata": {},
   "outputs": [],
   "source": [
    "flux, fluxerr, flag = sep.sum_circle(img_sub, [objects['x'][42]], [objects['y'][42]],\n",
    "                                         10, err=bkg.globalrms, gain=1.0)\n",
    "\n",
    "print(flux[0])"
   ]
  },
  {
   "cell_type": "markdown",
   "metadata": {},
   "source": [
    "### To clarify:\n",
    "\n",
    "* What we have just measured is the number of counts within a radius of ?? pixel(s) for one object we selected in the image. \n",
    "* How do we use this measurement in astronomy? We usually convert this measurment into a magnitude, and if we know how our telescope is performing, then we know how bright a star appears to be. How bright actually is (absolute magnitude) depends on how far away the star is. \n",
    "\n",
    "### Magnitudes!\n",
    "* <font color='blue'> Let's first convert the flux into an instrumental magnitude. </font> \n",
    "* The equation we will use is `inst_mag = -2.5*np.log10(flux)`\n",
    "* print it out!\n"
   ]
  },
  {
   "cell_type": "code",
   "execution_count": null,
   "metadata": {},
   "outputs": [],
   "source": [
    "\n"
   ]
  },
  {
   "cell_type": "markdown",
   "metadata": {},
   "source": [
    "### We are not done yet...\n",
    "\n",
    "* We still need to transform this 'instrumental magnitude' into a calibrated apparent magnitude. This value will actually mean something astronomically, in comparison with a standardized magnitude system. \n",
    "\n",
    "* In order to do this primary calibration, we need to know the apparent magnitude of at least one object in the field... a <b>standard star</b>! \n",
    "\n",
    "* We need to measure its instrumental magnitude and subtract it from its known apparent magnitude and obtain what we call the \"<b>zeropoint</b>\".\n",
    "\n",
    "* Once we have the zeropoint, we can measure the magnitudes of any object in the image by adding it to the instrumental magnitude!\n",
    "\n",
    "EXERCISE: <font color='blue'> Measuring the zeropoint. </font>\n",
    "\n",
    "* <font color='blue'> I know the apparent magnitude of the 9th element of our objects is 15, using the code above calculate the zeropoint for our image </font>\n",
    "\n",
    "HINTS:\n",
    "\n",
    "* Copy the code above and calculate inst_mag using the sep.sum_circle() function on the 9th element of our objects list, you can keep the radius at 10.\n",
    "* `zeropoint = app_mag - inst_mag; (app_mag = 15)`\n",
    "    \n",
    "    "
   ]
  },
  {
   "cell_type": "code",
   "execution_count": null,
   "metadata": {},
   "outputs": [],
   "source": [
    "# instrumental magnitude for object[9]\n",
    "\n"
   ]
  },
  {
   "cell_type": "markdown",
   "metadata": {},
   "source": [
    "### The final goal! \n",
    "\n",
    "* <font color='blue'> Now that you know the zeropoint of the image, calculate the apparent magnitude of our star of interest! </font>\n",
    "\n",
    "HINT:\n",
    "\n",
    "* `app_mag = zeropoint + inst_mag`\n"
   ]
  },
  {
   "cell_type": "code",
   "execution_count": null,
   "metadata": {},
   "outputs": [],
   "source": []
  },
  {
   "cell_type": "markdown",
   "metadata": {},
   "source": [
    "# Now what can we do with this technique?\n",
    "## We can see how a star evolves, with time series analysis\n",
    "https://www.dropbox.com/s/ycoikiu6jnxcadt/planet_x.tar.gz?dl=0 <br>\n",
    "\n",
    "Contained is a list of images taken over a series of days. I have an interesting star and a standard star. Let's open up the first image in the list and se what it looks like!"
   ]
  },
  {
   "cell_type": "code",
   "execution_count": null,
   "metadata": {},
   "outputs": [],
   "source": [
    "STAR1_RA = 268.02924375\n",
    "STAR1_DEC = 37.5461769444\n",
    "\n",
    "imglist = glob.glob('*fits')\n",
    "imglist = [x for x in imglist if '16335757' not in x]\n",
    "hdu= fits.open(imglist[0])\n",
    "header = hdu[0].header\n",
    "X = hdu[0].data\n",
    "\n",
    "plt.figure(figsize=(10,12))\n",
    "imgshow = plt.imshow(X, origin='lower', cmap='gray', vmin=50, vmax=1800)\n",
    "\n",
    "w = WCS(header)\n",
    "#transform SN coordinate in pixels:\n",
    "px1, py1 = w.wcs_world2pix(STAR1_RA,STAR1_DEC, 1)\n",
    "\n",
    "plt.plot(px1, py1,'xr', label = 'STAR')\n",
    "plt.legend()"
   ]
  },
  {
   "cell_type": "markdown",
   "metadata": {},
   "source": [
    "### Now lets iterate over our images, and calculate the flux's of our interesting star"
   ]
  },
  {
   "cell_type": "code",
   "execution_count": null,
   "metadata": {},
   "outputs": [],
   "source": [
    "jd_vec = []\n",
    "flux_vec =[]\n",
    "fluxerr_vec =[]\n",
    "for img in imglist:\n",
    "    hdu= fits.open(img)\n",
    "    header = hdu[0].header\n",
    "    X = hdu[0].data\n",
    "    X = X.byteswap().newbyteorder()\n",
    "    bkg = sep.Background(X)\n",
    "    data_sub = X - bkg\n",
    "    # Now we can extract all the objects from the image using the sep commmand \n",
    "    # sep.extract and then we can plot all the star detected on our image.  \n",
    "    # thresh=3.0 define how many star we want to find larger numbers means \n",
    "    # we find less objects. This is similar to a dictionary with each column \n",
    "    # that can be identify by a name. \n",
    "    objects = sep.extract(data_sub, thresh=3.0, err=bkg.globalrms, mask=None, \\\n",
    "                          minarea=10, clean=True, filter_type = 'matched',\\\n",
    "                          clean_param=1.0, segmentation_map=False) \n",
    "    w = WCS(header)\n",
    "    #transform STAR coordinate in pixels:\n",
    "    px, py = w.wcs_world2pix(STAR1_RA,STAR1_DEC, 1)\n",
    "    \n",
    "    star = False\n",
    "    for i,j in enumerate(objects['x']):\n",
    "        if (objects['x'][i]-px)**2+(objects['y'][i]-py)**2 <25:\n",
    "            star = i\n",
    "        if star is not False:\n",
    "            #print(\"one star close to the coordinates\")\n",
    "            fluxstar, fluxstarerr, flagstar = sep.sum_circle(data_sub, [objects['x'][star]], [objects['y'][star]],\n",
    "                                     8.0, err=bkg.globalrms, gain=1.0)\n",
    "            flux_vec.append(fluxstar)\n",
    "            fluxerr_vec.append(fluxstarerr)\n",
    "            jd_vec.append(header['jd'])\n",
    "            # once we find the closest star we can stop the enumerate with \"break\"\n",
    "            break"
   ]
  },
  {
   "cell_type": "code",
   "execution_count": null,
   "metadata": {},
   "outputs": [],
   "source": [
    "plt.plot(jd_vec,flux_vec,'or')"
   ]
  },
  {
   "cell_type": "markdown",
   "metadata": {},
   "source": [
    "### Now this doesn't look all too interesting. \n",
    "There is a reason for that, it isn't calibrated correctly. Lets change the loop and calibrate our data to apparent magnitudes using our standard star.\n",
    "\n",
    "EXERCISE. Putting it all together!\n",
    "\n",
    "* <font color='blue'> Copy the code above, but this time do a test and search for the standard star as well as our interesting star. And once you've found the standard and the other star, find their instrumental magnitudes, zeropoint from the standard, and get the apparent magnitude of our interesting star </font>\n",
    "\n",
    "\n",
    "HINT:\n",
    "* Lets say our standard star has a known magnitude of 16 and has a position defined below\n",
    "* First calculate the pixel coordinates of our standard star `std_px, std_py = w.wcs_world2pix(ra,dec, 1)`\n",
    "* In our loop of objects, perform two `if` statements searching for our star and the standard star\n",
    "* Once you've found both, perform your magnitude calibration\n",
    "* `instrumental_mag = -2.5 *np.log10(flux)`\n",
    "* `zeropoint = mag_std - instrumental_mag_std`\n",
    "* `app_mag = zeropoint + inst_mag`\n",
    "* store the jd, and app_mag of our star in arrays, and then plot them\n"
   ]
  },
  {
   "cell_type": "code",
   "execution_count": null,
   "metadata": {},
   "outputs": [],
   "source": [
    "mag_std = 16\n",
    "STD_RA = 268.059616667 \n",
    "STD_DEC = 37.5372694444\n",
    "\n",
    "jd = []\n",
    "mag =[]\n",
    "\n",
    "for img in imglist:\n",
    "    hdu= fits.open(img)\n",
    "    header = hdu[0].header\n",
    "    X = hdu[0].data\n",
    "    X = X.byteswap().newbyteorder()\n",
    "    bkg = sep.Background(X)\n",
    "    data_sub = X - bkg\n",
    "    # Now we can exstract all the objects from the image using the sep commmand \n",
    "    # sep.extract and then we can plot all the star detected on our image.  \n",
    "    # thresh=3.0 define how many star we want to find larger numbers means \n",
    "    # we find less objects. This is similar to a dictionary with each column \n",
    "    # that can be identify by a name. \n",
    "    objects = sep.extract(data_sub, thresh=3.0, err=bkg.globalrms, mask=None, \\\n",
    "                          minarea=10, clean=True, filter_type = 'matched',\\\n",
    "                          clean_param=1.0, segmentation_map=False) \n",
    "    w = WCS(header)\n",
    "    #transform STAR and REF coordinates in pixels:\n",
    "    px, py = w.wcs_world2pix(STAR1_RA, STAR1_DEC, 1)\n",
    "    std_px, std_py = w.wcs_world2pix(STD_RA,STD_DEC, 1)\n",
    "    \n",
    "    star = False\n",
    "    for i,j in enumerate(objects['x']):\n",
    "        if (objects['x'][i] - px)**2+(objects['y'][i] - py)**2 <25:\n",
    "                star=i\n",
    "        if star is not False:\n",
    "            # measure the flux\n",
    "            fluxstar, fluxstarerr, flagstar = sep.sum_circle(data_sub, [objects['x'][star]], [objects['y'][star]],\n",
    "                                         8.0, err=bkg.globalrms, gain=1.0)\n",
    "            #... fill it in\n",
    "            # once we find the closest star we can stop the enumerate with \"break\"\n",
    "            break"
   ]
  },
  {
   "cell_type": "code",
   "execution_count": null,
   "metadata": {},
   "outputs": [],
   "source": [
    "#magnitudes -> higher is dimmer, lower is brighter\n",
    "plt.plot(jd,mag,'or')"
   ]
  },
  {
   "cell_type": "markdown",
   "metadata": {},
   "source": [
    "# What does this look like?"
   ]
  },
  {
   "cell_type": "code",
   "execution_count": null,
   "metadata": {},
   "outputs": [],
   "source": []
  }
 ],
 "metadata": {
  "kernelspec": {
   "display_name": "Python 3",
   "language": "python",
   "name": "python3"
  },
  "language_info": {
   "codemirror_mode": {
    "name": "ipython",
    "version": 3
   },
   "file_extension": ".py",
   "mimetype": "text/x-python",
   "name": "python",
   "nbconvert_exporter": "python",
   "pygments_lexer": "ipython3",
   "version": "3.7.6"
  }
 },
 "nbformat": 4,
 "nbformat_minor": 5
}
