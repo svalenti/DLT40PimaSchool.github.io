{
 "cells": [
  {
   "cell_type": "markdown",
   "metadata": {},
   "source": [
    "# Loops"
   ]
  },
  {
   "cell_type": "markdown",
   "metadata": {},
   "source": [
    "Loops are used to repeat actions.\n",
    "Commonly used is the ``for in`` loop.\n",
    "Its general form is: for variable in collection: do things using variable.\n",
    "The first line of the for loop must end with a colon, and the body must be indented.\n",
    "The colon at the end of the first line signals the start of a block of statements.\n",
    "Python uses indentation rather than explicit begin/end statements to show nesting (i.e. what is inside the loop).\n",
    "A loop variable is just a variable that’s being used to record progress in a loop. It can be called anything and still exists after the loop is over. Be careful not to modify the loop variable (in a for loop) inside the loop.\n",
    "\n",
    "**Exercise:** <font color='blue'> Let's try a loop! With a loop, print each letter of the string ``element``.</font>"
   ]
  },
  {
   "cell_type": "code",
   "execution_count": null,
   "metadata": {},
   "outputs": [],
   "source": [
    "element = 'oxygen'\n",
    "# write a loop here"
   ]
  },
  {
   "cell_type": "markdown",
   "metadata": {},
   "source": [
    "# Conditionals"
   ]
  },
  {
   "cell_type": "markdown",
   "metadata": {},
   "source": [
    "In Python you can also do different actions depending if a statment is ``True`` or ``False``.\n",
    "\n",
    "**Exercise:** <font color='blue'> Let's try writing an if statement which prints the letter O if ``element`` is 'oxygen'.</font>"
   ]
  },
  {
   "cell_type": "code",
   "execution_count": null,
   "metadata": {},
   "outputs": [],
   "source": []
  },
  {
   "cell_type": "markdown",
   "metadata": {},
   "source": [
    "# Packages in Python \n",
    "\n",
    "Most of the power of a programming language is in its packages. General tools are built into Python, specialized tools built up from these basic units live in packages that can be called upon when needed. You can think of a package as a collection of files (called modules) that contains functions for use by other programs. Note the term library is simply a generic term for a bunch of code that was designed with the aim of being usable by many applications. Often Python packages are called Python libraries. Very complex packages like NumPy have hundreds of individual modules so putting them into a directory-like structure keeps things organized and avoids name collisions. A program must import a package module before using it. Then refer to things from the module as module_name.thing_name. Python uses . to mean “part of”. The ”dot notation” is used to call a specific module inside package.\n",
    "\n",
    "This can be accomplished by 'importing' the desired library.\n",
    "\n",
    "Common libraries\n",
    "* numpy\n",
    "* os\n",
    "* system\n",
    "* matplotlib\n",
    "* requests\n",
    "* scipy\n",
    "* astropy"
   ]
  },
  {
   "cell_type": "code",
   "execution_count": null,
   "metadata": {},
   "outputs": [],
   "source": [
    "import numpy as np\n"
   ]
  },
  {
   "cell_type": "markdown",
   "metadata": {},
   "source": [
    "# Arrays"
   ]
  },
  {
   "cell_type": "markdown",
   "metadata": {},
   "source": [
    "Like Python lists, numpy arrays are also composed of ordered values and also use indexing.\n",
    "Unlike lists which do not require a specific Python package to be defined (or worked with), NumPy arrays are defined using the ``array()`` function from the numpy package, which we imported earlier.\n",
    "\n",
    "A key characteristic of NumPy arrays is that all elements in the array must be the same type of data (i.e. all integers, floats, strings, etc).\n",
    "This allows us to apply mathematical operations to each value in an array.\n",
    "\n",
    "**Exercise:** <font color=blue>Let's see this in action. We will do the following:</font>\n",
    "- <font color=blue>Multiply all elements in the array by 2</font>\n",
    "- <font color=blue>Compute the mean of the array</font>\n",
    "- <font color=blue>Compute the standard deviation</font>\n",
    "- <font color=blue>Sum all elements in the array</font>"
   ]
  },
  {
   "cell_type": "code",
   "execution_count": null,
   "metadata": {},
   "outputs": [],
   "source": []
  },
  {
   "cell_type": "markdown",
   "metadata": {},
   "source": [
    "# 2D Arrays"
   ]
  },
  {
   "cell_type": "markdown",
   "metadata": {},
   "source": [
    "We can also have 2D arrays. We will use them a lot when working with astronomical images. Now that we have two dimensions, we must use 2 slices separated by a ``,`` to select elements using the format ``myarray[slice_row,slice_column]``.\n",
    "\n",
    "**Example:** <font color=blue>Let's define the 3x4 (3 rows, 4 columns) array and do the following operations:</font>\n",
    "- <font color=blue>View the full array</font>\n",
    "- <font color=blue>View its shape</font>\n",
    "- <font color=blue>Print the first entry of the second row</font>\n",
    "- <font color=blue>Print the entire first row</font>\n",
    "- <font color=blue>Print the fist two elements for each of the last two rows</font>"
   ]
  },
  {
   "cell_type": "code",
   "execution_count": null,
   "metadata": {},
   "outputs": [],
   "source": []
  },
  {
   "cell_type": "markdown",
   "metadata": {},
   "source": [
    "# Dictionaries"
   ]
  },
  {
   "cell_type": "markdown",
   "metadata": {},
   "source": [
    "Dictionaries are very useful in python to store information of any type.\n",
    "In astronomy a very common use of dictionary is to store all the data connected with one observation with the telescope: exposure time, observer, site of the telescope, temperature of the detector, date of the observation, etc.\n",
    "Each entry of the dictionary is made up of a *key* paired with a *value*.\n",
    "To access a value of a dictionary, we use brackets: ``my_dict[key]``.\n",
    "\n",
    "**Exercise:** <font color=blue>Let's make a simple dictionary and see how we select info from it. Create a dictionary of the element symbols (H, He, Li, Be, B, and C) containing their names (hydrogen, helium, lithium, beryllium, boron, and carbon). Create a loop over the dictionary keys to print each value.</font>"
   ]
  },
  {
   "cell_type": "code",
   "execution_count": null,
   "metadata": {},
   "outputs": [],
   "source": []
  },
  {
   "cell_type": "markdown",
   "metadata": {},
   "source": [
    "# Reading a text file"
   ]
  },
  {
   "cell_type": "markdown",
   "metadata": {},
   "source": [
    "Let's use NumPy to read a file.\n",
    "\n",
    "**Exercise:** <font color=blue>Read an ascii file of the solar spectrum using NumPy.</font>\n",
    "If you look at the file there are two columns lke this:\n",
    "```\n",
    "Wavelength (nm)    flux (W*m-2*nm-1)\n",
    "xx                 yy\n",
    "xx                 yy\n",
    "xx                 yy\n",
    "```"
   ]
  },
  {
   "cell_type": "code",
   "execution_count": null,
   "metadata": {},
   "outputs": [],
   "source": []
  },
  {
   "cell_type": "markdown",
   "metadata": {},
   "source": [
    "Now, let's split data in 2 arrays (one for wavelength and one for flux).  \n",
    "``zip(xx,yy)`` is an awesome command to combine two arrays.  \n",
    "``zip(*xxx)`` does the opposite of zip, splits data in 2 arrays.  \n",
    "(..... I wish someone would have told me about ``zip`` when i started to learn python ....)"
   ]
  },
  {
   "cell_type": "code",
   "execution_count": null,
   "metadata": {},
   "outputs": [],
   "source": []
  },
  {
   "cell_type": "markdown",
   "metadata": {},
   "source": [
    "# Matplotlib and magic functions\n",
    "Matplotlib is the most widely used scientific plotting package in Python. Import it by typing <font color='blue'>import matplotlib  </font> in your notebook. Use help to learn about the contents of a library module. You can import specific items from a library module to shorten programs. One can use <font color='blue'>from ... import ...   </font> to load only specific items from a library module. Then refer to them directly without\n",
    "library name as prefix.\n",
    "You can create an alias for a library module when importing it to shorten programs. One can use <font color='blue'>import ... as ...</font> to create an alias. Create alias plt for library module pyplot in your\n",
    "notebook.<br>"
   ]
  },
  {
   "cell_type": "code",
   "execution_count": null,
   "metadata": {},
   "outputs": [],
   "source": [
    "# pyplot is a nice interface to all that is matplotlib\n",
    "import matplotlib.pyplot as plt"
   ]
  },
  {
   "cell_type": "markdown",
   "metadata": {},
   "source": [
    "# Basic Plotting"
   ]
  },
  {
   "cell_type": "markdown",
   "metadata": {},
   "source": [
    "![](http://matplotlib.org/_images/fig_map.png)"
   ]
  },
  {
   "cell_type": "markdown",
   "metadata": {},
   "source": [
    "## Let's plot something"
   ]
  },
  {
   "cell_type": "markdown",
   "metadata": {},
   "source": [
    "Let's plot a sine curve over 0 to 2π. First we need to define the x-coordinate. Numpy has a convenient way to create an array of evenly spaced numbers: `np.linspace`. Look at the documentation and make an array of 0 to 2π. Then create the y-coordinate. Hint: numpy also has the sine function built-in: `np.sin`. Finally, plot it with matplotlib!"
   ]
  },
  {
   "cell_type": "code",
   "execution_count": null,
   "metadata": {},
   "outputs": [],
   "source": [
    "x = np.linspace( # fill this in\n",
    "y = np.sin( # fill this in\n",
    "plt.plot( # fill this in"
   ]
  },
  {
   "cell_type": "markdown",
   "metadata": {},
   "source": [
    "## Plotting Styles\n",
    "\n",
    "Matplotlib has several different linestyles for plotting. Try them out.\n",
    "\n",
    "```\n",
    " '-'             solid line style\n",
    " '--'            dashed line style\n",
    " '-.'            dash-dot line style\n",
    " ':'             dotted line style\n",
    " 'steps' | 'steps-pre' | 'steps-mid' | 'steps-post'\n",
    "```"
   ]
  },
  {
   "cell_type": "code",
   "execution_count": null,
   "metadata": {},
   "outputs": [],
   "source": [
    "plt.plot(x, y)\n",
    "plt.plot(x, y, '--')\n",
    "plt.plot(x, y, linestyle=':')\n",
    "plt.plot(x, y, linestyle=':', drawstyle ='steps')\n",
    "# etc."
   ]
  },
  {
   "cell_type": "markdown",
   "metadata": {},
   "source": [
    "## Other plotting styles\n",
    "\n",
    "### Scatter\n",
    "Plots the points without connecting them.\n",
    "```\n",
    "'.'             point marker\n",
    "','             pixel marker\n",
    "'o'             circle marker\n",
    "'*'             star marker\n",
    "'x'             x marker\n",
    "'D'             diamond marker\n",
    "'d'             thin_diamond marker\n",
    "```"
   ]
  },
  {
   "cell_type": "code",
   "execution_count": null,
   "metadata": {},
   "outputs": [],
   "source": [
    "plt.plot(x, y, 'o')\n",
    "plt.plot(x, y, 'o', ms=30, mec='white', alpha=0.3)\n",
    "# etc."
   ]
  },
  {
   "cell_type": "markdown",
   "metadata": {},
   "source": [
    "### Error bars\n",
    "You can plot the error of each individual point in both x and y directions using `plt.errorbar`"
   ]
  },
  {
   "cell_type": "code",
   "execution_count": null,
   "metadata": {},
   "outputs": [],
   "source": [
    "xerr = np.sqrt(x)\n",
    "yerr = 0.1\n",
    "\n",
    "plt.errorbar( # fill this in"
   ]
  },
  {
   "cell_type": "markdown",
   "metadata": {},
   "source": [
    "### Histogram\n",
    "Histograms divide the data up into bins and plots the number of points in each bin. First create some random data using `np.random.normal`. Then plot it in a histogram using `plt.hist`."
   ]
  },
  {
   "cell_type": "code",
   "execution_count": null,
   "metadata": {
    "scrolled": true
   },
   "outputs": [],
   "source": [
    "#Example: \n",
    "x = np.random.normal( # fill this in\n",
    "\n",
    "plt.hist( # fill this in"
   ]
  },
  {
   "cell_type": "markdown",
   "metadata": {},
   "source": [
    "## Plotting with Data\n",
    "\n",
    "### Let's read in a text file (should already in your jupyter notebook directory)\n"
   ]
  },
  {
   "cell_type": "markdown",
   "metadata": {},
   "source": [
    "**Exercise:** <font color=blue>Let's read in the file 'solar_spectrum_3.txt' and plot it using matplotlib.pyplot package!</font>\n",
    "\n",
    "* Lets use the plt.plot function\n",
    "* make the color red\n",
    "* set the axes labels: plt.xlabel('...'), plt.ylabel('...')\n",
    "* plt.title('...') to set the title: The Sun's Spectrum!\n",
    "* set the xlim to 400-2500 ... plt.xlim(low, high)\n",
    "* set the ylim to -0.1 to 1.5 ... plt.ylim(low, high)\n",
    "* and plot it!"
   ]
  },
  {
   "cell_type": "code",
   "execution_count": null,
   "metadata": {},
   "outputs": [],
   "source": [
    "# fill this in"
   ]
  },
  {
   "cell_type": "markdown",
   "metadata": {},
   "source": [
    "## Matplotlib plotting Gallaries\n",
    "\n",
    "+ http://matplotlib.org/gallery.html\n",
    "+ http://www.labri.fr/perso/nrougier/coding/gallery/\n",
    "+ http://www.astroml.org/examples/index.html"
   ]
  }
 ],
 "metadata": {
  "kernelspec": {
   "display_name": "Python 3",
   "language": "python",
   "name": "python3"
  },
  "language_info": {
   "codemirror_mode": {
    "name": "ipython",
    "version": 3
   },
   "file_extension": ".py",
   "mimetype": "text/x-python",
   "name": "python",
   "nbconvert_exporter": "python",
   "pygments_lexer": "ipython3",
   "version": "3.7.7"
  }
 },
 "nbformat": 4,
 "nbformat_minor": 4
}
