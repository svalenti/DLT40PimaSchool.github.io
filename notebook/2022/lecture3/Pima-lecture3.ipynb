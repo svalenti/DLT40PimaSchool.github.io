{
 "cells": [
  {
   "cell_type": "code",
   "execution_count": null,
   "metadata": {},
   "outputs": [],
   "source": [
    "import numpy as np"
   ]
  },
  {
   "cell_type": "markdown",
   "metadata": {},
   "source": [
    "# Arrays"
   ]
  },
  {
   "cell_type": "markdown",
   "metadata": {},
   "source": [
    "Like Python lists, numpy arrays are also composed of ordered values and also use indexing.\n",
    "Unlike lists which do not require a specific Python package to be defined (or worked with), NumPy arrays are defined using the ``array()`` function from the numpy package, which we imported earlier.\n",
    "\n",
    "A key characteristic of NumPy arrays is that all elements in the array must be the same type of data (i.e. all integers, floats, strings, etc).\n",
    "This allows us to apply mathematical operations to each value in an array.\n",
    "\n",
    "**Exercise:** <font color=blue>Let's see this in action. We will do the following:</font>\n",
    "- <font color=blue>Multiply all elements in the array by 2</font>\n",
    "- <font color=blue>Compute the mean of the array</font>\n",
    "- <font color=blue>Compute the standard deviation</font>\n",
    "- <font color=blue>Sum all elements in the array</font>"
   ]
  },
  {
   "cell_type": "code",
   "execution_count": null,
   "metadata": {},
   "outputs": [],
   "source": [
    "x = np.array([1, 2, 3])"
   ]
  },
  {
   "cell_type": "markdown",
   "metadata": {},
   "source": [
    "# 2D Arrays"
   ]
  },
  {
   "cell_type": "markdown",
   "metadata": {},
   "source": [
    "We can also have 2D arrays. We will use them a lot when working with astronomical images. Now that we have two dimensions, we must use 2 slices separated by a ``,`` to select elements using the format ``myarray[slice_row,slice_column]``.\n",
    "\n",
    "**Example:** <font color=blue>Let's define the 3x4 (3 rows, 4 columns) array and do the following operations:</font>\n",
    "- <font color=blue>View the full array</font>\n",
    "- <font color=blue>View its shape</font>\n",
    "- <font color=blue>Print the first entry of the second row</font>\n",
    "- <font color=blue>Print the entire first row</font>\n",
    "- <font color=blue>Print the fist two elements for each of the last two rows</font>"
   ]
  },
  {
   "cell_type": "code",
   "execution_count": null,
   "metadata": {},
   "outputs": [],
   "source": [
    "y = np.array(\n",
    "    [[0, 1, 2, 3],\n",
    "     [4, 5, 6, 7],\n",
    "     [8, 9, 10, 11]]\n",
    ")\n",
    "print(y)"
   ]
  },
  {
   "cell_type": "markdown",
   "metadata": {},
   "source": [
    "- <font color=blue>View its shape</font>"
   ]
  },
  {
   "cell_type": "code",
   "execution_count": null,
   "metadata": {},
   "outputs": [],
   "source": []
  },
  {
   "cell_type": "markdown",
   "metadata": {},
   "source": [
    "- <font color=blue>Print the entire third row (the last row)</font>"
   ]
  },
  {
   "cell_type": "code",
   "execution_count": null,
   "metadata": {},
   "outputs": [],
   "source": []
  },
  {
   "cell_type": "markdown",
   "metadata": {},
   "source": [
    "- <font color=blue>Print the entire first column</font>"
   ]
  },
  {
   "cell_type": "code",
   "execution_count": null,
   "metadata": {},
   "outputs": [],
   "source": []
  },
  {
   "cell_type": "markdown",
   "metadata": {},
   "source": [
    "- <font color=blue>Print the first entry of the second row</font>"
   ]
  },
  {
   "cell_type": "code",
   "execution_count": null,
   "metadata": {},
   "outputs": [],
   "source": []
  },
  {
   "cell_type": "markdown",
   "metadata": {},
   "source": [
    "- <font color=blue>Print the fist two elements for each of the last two rows</font>"
   ]
  },
  {
   "cell_type": "code",
   "execution_count": null,
   "metadata": {},
   "outputs": [],
   "source": []
  },
  {
   "cell_type": "markdown",
   "metadata": {},
   "source": [
    "# Dictionaries"
   ]
  },
  {
   "cell_type": "markdown",
   "metadata": {},
   "source": [
    "Dictionaries are very useful in python to store information of any type.\n",
    "In astronomy a very common use of dictionary is to store all the data connected with one observation with the telescope: exposure time, observer, site of the telescope, temperature of the detector, date of the observation, etc.\n",
    "Each entry of the dictionary is made up of a *key* paired with a *value*.\n",
    "To access a value of a dictionary, we use brackets: ``my_dict[key]``.\n",
    "\n",
    "**Exercise:** <font color=blue>Let's make a simple dictionary and see how we select info from it. Create a dictionary of the element symbols (H, He and C) containing their names (hydrogen, helium, lithium, beryllium, boron, and carbon). Create a loop over the dictionary keys to print each value.</font>"
   ]
  },
  {
   "cell_type": "code",
   "execution_count": null,
   "metadata": {},
   "outputs": [],
   "source": []
  },
  {
   "cell_type": "markdown",
   "metadata": {},
   "source": [
    "# Reading a text file"
   ]
  },
  {
   "cell_type": "markdown",
   "metadata": {},
   "source": [
    "Let's use NumPy to read a file. Look at the documentation for `np.loadtxt`.\n",
    "\n",
    "**Exercise:** <font color=blue>Read an ascii file of the solar spectrum using NumPy.</font>\n",
    "If you look at the file there are two columns lke this:\n",
    "```\n",
    "Wavelength (nm)    flux (W*m-2*nm-1)\n",
    "xx                 yy\n",
    "xx                 yy\n",
    "xx                 yy\n",
    "```"
   ]
  },
  {
   "cell_type": "code",
   "execution_count": null,
   "metadata": {},
   "outputs": [],
   "source": [
    "data = np.loadtxt('solar_spectrum_3.txt')\n",
    "print(data)"
   ]
  },
  {
   "cell_type": "markdown",
   "metadata": {},
   "source": [
    "Now, let's split data in 2 arrays (one for wavelength and one for flux)."
   ]
  },
  {
   "cell_type": "code",
   "execution_count": null,
   "metadata": {},
   "outputs": [],
   "source": [
    "wl = ???\n",
    "flux = ???"
   ]
  },
  {
   "cell_type": "markdown",
   "metadata": {},
   "source": [
    "# Matplotlib\n",
    "Matplotlib is the most widely used scientific plotting package in Python. Import it by typing <font color='blue'>import matplotlib  </font> in your notebook. Use help to learn about the contents of a library module. You can import specific items from a library module to shorten programs. One can use <font color='blue'>from ... import ...   </font> to load only specific items from a library module. Then refer to them directly without\n",
    "library name as prefix.\n",
    "You can create an alias for a library module when importing it to shorten programs. One can use <font color='blue'>import ... as ...</font> to create an alias. Create alias plt for library module pyplot in your\n",
    "notebook.<br>"
   ]
  },
  {
   "cell_type": "code",
   "execution_count": null,
   "metadata": {},
   "outputs": [],
   "source": [
    "import matplotlib.pyplot as plt"
   ]
  },
  {
   "cell_type": "markdown",
   "metadata": {},
   "source": [
    "# Basic Plotting"
   ]
  },
  {
   "cell_type": "markdown",
   "metadata": {},
   "source": [
    "![](http://matplotlib.org/_images/fig_map.png)"
   ]
  },
  {
   "cell_type": "markdown",
   "metadata": {},
   "source": [
    "## Let's plot something"
   ]
  },
  {
   "cell_type": "markdown",
   "metadata": {},
   "source": [
    "Let's plot a sine curve over 0 to 2π. First we need to define the x-coordinate. Numpy has a convenient way to create an array of evenly spaced numbers: `np.linspace`. Look at the documentation and make an array of 0 to 2π. Then create the y-coordinate. Hint: numpy also has the sine function built-in: `np.sin`. Finally, plot it with matplotlib!"
   ]
  },
  {
   "cell_type": "code",
   "execution_count": null,
   "metadata": {},
   "outputs": [],
   "source": [
    "x = np.linspace(0., 2. * np.pi, 100)\n",
    "y = np.sin(x)"
   ]
  },
  {
   "cell_type": "markdown",
   "metadata": {},
   "source": [
    "## Plotting Styles\n",
    "\n",
    "Matplotlib has several different linestyles for plotting. Try them out.\n",
    "\n",
    "```\n",
    " '-'             solid line style\n",
    " '--'            dashed line style\n",
    " '-.'            dash-dot line style\n",
    " ':'             dotted line style\n",
    " 'steps' | 'steps-pre' | 'steps-mid' | 'steps-post'\n",
    "```"
   ]
  },
  {
   "cell_type": "code",
   "execution_count": null,
   "metadata": {},
   "outputs": [],
   "source": []
  },
  {
   "cell_type": "markdown",
   "metadata": {},
   "source": [
    "## Other plotting styles\n",
    "\n",
    "### Scatter\n",
    "Plots the points without connecting them.\n",
    "```\n",
    "'.'             point marker\n",
    "','             pixel marker\n",
    "'o'             circle marker\n",
    "'*'             star marker\n",
    "'x'             x marker\n",
    "'D'             diamond marker\n",
    "'d'             thin_diamond marker\n",
    "\n",
    "ms: markersize \n",
    "mec: markeredgecolor\n",
    "```"
   ]
  },
  {
   "cell_type": "code",
   "execution_count": null,
   "metadata": {},
   "outputs": [],
   "source": [
    "\n"
   ]
  },
  {
   "cell_type": "markdown",
   "metadata": {},
   "source": [
    "### Error bars\n",
    "You can plot the error of each individual point in both x and y directions using `plt.errorbar`"
   ]
  },
  {
   "cell_type": "code",
   "execution_count": null,
   "metadata": {},
   "outputs": [],
   "source": [
    "\n",
    "#plt.errorbar()"
   ]
  },
  {
   "cell_type": "markdown",
   "metadata": {},
   "source": [
    "### Histogram\n",
    "Histograms divide the data up into bins and plots the number of points in each bin. First create some random data using `np.random.normal`. Then plot it in a histogram using `plt.hist`."
   ]
  },
  {
   "cell_type": "code",
   "execution_count": null,
   "metadata": {
    "scrolled": false
   },
   "outputs": [],
   "source": [
    "#Example: \n",
    "x = np.random.normal(size=1000)\n"
   ]
  },
  {
   "cell_type": "markdown",
   "metadata": {},
   "source": [
    "## Plotting with Data\n",
    "\n",
    "### Let's read in a text file (should already in your jupyter notebook directory)\n"
   ]
  },
  {
   "cell_type": "markdown",
   "metadata": {},
   "source": [
    "**Exercise:** <font color=blue>Let's read in the file 'solar_spectrum_3.txt' and plot it using matplotlib.pyplot package!</font>\n",
    "\n",
    "* Lets use the plt.plot function\n",
    "* make the color red\n",
    "* set the axes labels: plt.xlabel('...'), plt.ylabel('...')\n",
    "* plt.title('...') to set the title: The Sun's Spectrum!\n",
    "* set the xlim to 400-2500 ... plt.xlim(low, high)\n",
    "* set the ylim to -0.1 to 1.5 ... plt.ylim(low, high)\n",
    "* and plot it!"
   ]
  },
  {
   "cell_type": "code",
   "execution_count": null,
   "metadata": {},
   "outputs": [],
   "source": [
    "data = np.loadtxt('solar_spectrum_3.txt')\n",
    "wl = data[:, 0]\n",
    "flux = data[:, 1]\n"
   ]
  },
  {
   "cell_type": "markdown",
   "metadata": {},
   "source": [
    "## Matplotlib plotting Gallaries\n",
    "\n",
    "+ http://matplotlib.org/gallery.html\n",
    "+ http://www.labri.fr/perso/nrougier/coding/gallery/\n",
    "+ http://www.astroml.org/examples/index.html"
   ]
  },
  {
   "cell_type": "markdown",
   "metadata": {},
   "source": [
    "# how to plot an astronomical image and how to detect object in the image"
   ]
  },
  {
   "cell_type": "markdown",
   "metadata": {},
   "source": [
    "<br> Let's import the packages we will use today: **[sep](https://sep.readthedocs.io/en/v1.1.x/)**, **[astropy](https://docs.astropy.org/en/stable/index.html)**  \n",
    "<br> from **astropy** we will import: **fits** and **wcs**"
   ]
  },
  {
   "cell_type": "code",
   "execution_count": null,
   "metadata": {},
   "outputs": [],
   "source": [
    "from astropy.io import fits\n",
    "from astropy import wcs as wcs\n",
    "import sep"
   ]
  },
  {
   "cell_type": "markdown",
   "metadata": {},
   "source": [
    "# read an image\n",
    "**16335757.fits** is our test image. we will use fits.open to open and put the image in a variable hdu_list\n",
    "<br> let's see the image format. Fits mean \"Flexible Image Transport System\" \n",
    "<br> this is a specific format composed by a metadata part and a data part.\n",
    "The metadata (**header**) include all the info about the image and the data part is usually a bidimensional array. A fits image can have multiple layers of metadata and data, and each layer is called a **header and data unit (HDU)**.\n",
    "<br> For example:<br>\n",
    "<br> header, data  (level[0])\n",
    "<br> header, data  (level[1])\n",
    "<br> header, data  (level[2])"
   ]
  },
  {
   "cell_type": "code",
   "execution_count": null,
   "metadata": {},
   "outputs": [],
   "source": [
    "hdu_list = fits.open('16335757.fits')"
   ]
  },
  {
   "cell_type": "markdown",
   "metadata": {},
   "source": [
    "<br> You can see how many layers your image has using the function len()\n",
    "\n",
    "**<font color='blue'>Check how many layers the image has:</font>**"
   ]
  },
  {
   "cell_type": "code",
   "execution_count": null,
   "metadata": {},
   "outputs": [],
   "source": []
  },
  {
   "cell_type": "markdown",
   "metadata": {},
   "source": [
    "Since the size is one, let's take a look at the layer zero. Each fits file has several important informations in what is called the header of the file. In the header you can find information like: the exposure time, the telescope, the data of the observations, the size of the date, the observer and sometimes also the informations of the part of the sky we observed "
   ]
  },
  {
   "cell_type": "code",
   "execution_count": null,
   "metadata": {},
   "outputs": [],
   "source": [
    "header = hdu_list[0].header"
   ]
  },
  {
   "cell_type": "markdown",
   "metadata": {},
   "source": [
    "**<font color='blue'>Exercise: </font>** Find **object name**, **RA** and **DEC** from the header"
   ]
  },
  {
   "cell_type": "markdown",
   "metadata": {},
   "source": [
    "Now let see the data"
   ]
  },
  {
   "cell_type": "code",
   "execution_count": null,
   "metadata": {},
   "outputs": [],
   "source": [
    "img = hdu_list[0].data\n",
    "print(img)"
   ]
  },
  {
   "cell_type": "markdown",
   "metadata": {},
   "source": [
    "The data is an array, so we can actually use matplotlib to \"imshow\" the image"
   ]
  },
  {
   "cell_type": "code",
   "execution_count": null,
   "metadata": {},
   "outputs": [],
   "source": [
    "plt.imshow(img)"
   ]
  },
  {
   "cell_type": "markdown",
   "metadata": {},
   "source": [
    "What is going on here? We do not see anything. Probably becasue there are some pixel in the array that have very low or very high counts.\n",
    "So we can do a histogram and see the distribution of the points in the array "
   ]
  },
  {
   "cell_type": "code",
   "execution_count": null,
   "metadata": {},
   "outputs": [],
   "source": [
    "image_hist = plt.hist(img.flatten(), bins=100)"
   ]
  },
  {
   "cell_type": "markdown",
   "metadata": {},
   "source": [
    "**<font color='blue'>Exercise: </font>**let's try to constrain the range of the histogram using range=(min_value, max_value). You can try different ranges until you find a range that can properly display the value distribution."
   ]
  },
  {
   "cell_type": "code",
   "execution_count": null,
   "metadata": {},
   "outputs": [],
   "source": [
    "min_value = ???\n",
    "max_value = ???\n",
    "image_hist = plt.hist(img.flatten(), bins=100, range=(min_value, max_value))"
   ]
  },
  {
   "cell_type": "markdown",
   "metadata": {},
   "source": [
    "let's now do the plot again using some limits. \n",
    "For **imshow**, we can use the keywords **vmin** and **vmax** to set limits on the color scaling.\n",
    "\n",
    "what do yo think we should use?  (vmin=??, vmax=??)"
   ]
  },
  {
   "cell_type": "code",
   "execution_count": null,
   "metadata": {},
   "outputs": [],
   "source": [
    "plt.figure(figsize=(10,12))\n",
    "imgshow = plt.imshow(img, vmin=???, vmax=???)"
   ]
  },
  {
   "cell_type": "markdown",
   "metadata": {},
   "source": [
    "We can choose another color map for display purpose (see more colormpas here: [colormaps](https://matplotlib.org/stable/tutorials/colors/colormaps.html))"
   ]
  },
  {
   "cell_type": "code",
   "execution_count": null,
   "metadata": {},
   "outputs": [],
   "source": [
    "plt.figure(figsize=(10,12))\n",
    "imgshow = plt.imshow(img, cmap='gray', origin='lower', vmin=???, vmax=???)"
   ]
  },
  {
   "cell_type": "markdown",
   "metadata": {},
   "source": [
    "Now we would like to be able to find the position of all stars in the image. But in order to do that with the package [sep](https://sep.readthedocs.io/en/v1.1.x/), we need to define the background of the image. Sep has a command for that: sep.Background(X). \n",
    "But before doing that there is a command to run: X = X.byteswap().newbyteorder() (see [link1](https://sep.readthedocs.io/en/v1.1.x/tutorial.html#Finally-a-brief-word-on-byte-order) and [link2](https://github.com/kbarbary/sep/issues/23#issuecomment-155050901) if you want to know more about it)"
   ]
  },
  {
   "cell_type": "code",
   "execution_count": null,
   "metadata": {},
   "outputs": [],
   "source": [
    "img = img.byteswap().newbyteorder() # magic command\n",
    "bkg = sep.Background(img)"
   ]
  },
  {
   "cell_type": "markdown",
   "metadata": {},
   "source": [
    "Let's see what will happen if we subtract the background from the image"
   ]
  },
  {
   "cell_type": "code",
   "execution_count": null,
   "metadata": {},
   "outputs": [],
   "source": [
    "bkg_image = bkg.back()\n",
    "img_sub = img - bkg\n",
    "plt.figure(figsize=(10,12))\n",
    "imgshow = plt.imshow(img_sub, cmap='gray', origin='lower', vmin=200, vmax=400)"
   ]
  },
  {
   "cell_type": "markdown",
   "metadata": {},
   "source": [
    "Now we can extract all the objects from the image using the sep commmand sep.extract\n",
    "and then we can plot all the star detected on our image.  thresh=20.0 define how many star we want to find. larger numbers means we find less objects. This is similar to a dictionary with each column that can be identified by a name. "
   ]
  },
  {
   "cell_type": "code",
   "execution_count": null,
   "metadata": {},
   "outputs": [],
   "source": [
    "#objects = sep.extract(X, thresh=20.0, err=bkg.globalrms, mask=None, minarea=10, clean=True, clean_param=1.0, segmentation_map=False)\n",
    "objects = sep.extract(img, thresh=20.0, err=bkg.globalrms, minarea=10)"
   ]
  },
  {
   "cell_type": "markdown",
   "metadata": {},
   "source": [
    "**<font color='blue'>Exercise: </font>** Check the length and data type of **objects**"
   ]
  },
  {
   "cell_type": "code",
   "execution_count": null,
   "metadata": {},
   "outputs": [],
   "source": [
    "print(len(objects))\n",
    "print(type(objects))\n",
    "objects.dtype.names"
   ]
  },
  {
   "cell_type": "markdown",
   "metadata": {},
   "source": [
    "objects is a NumPy structured array with many fields."
   ]
  },
  {
   "cell_type": "code",
   "execution_count": null,
   "metadata": {},
   "outputs": [],
   "source": [
    "plt.figure(figsize=(10,12))\n",
    "imgshow = plt.imshow(img, origin='lower', cmap='gray', vmin=200, vmax=400)\n",
    "plt.plot(objects['x'],objects['y'],'xr')"
   ]
  },
  {
   "cell_type": "markdown",
   "metadata": {},
   "source": [
    "### WCS"
   ]
  },
  {
   "cell_type": "markdown",
   "metadata": {},
   "source": [
    "if we know the coordinate of one interesting object, how we find it in the image?\n",
    "To do that we can use the information on the header of the file and convert the coordinate in pixel position. To do that we will use the [wcs](https://docs.astropy.org/en/stable/wcs/) package in astropy. "
   ]
  },
  {
   "cell_type": "code",
   "execution_count": null,
   "metadata": {},
   "outputs": [],
   "source": [
    "#read the header\n",
    "header = hdu_list[0].header\n",
    "# import the wcs package\n",
    "from astropy.wcs import WCS\n",
    "# take information from the header about the coordinate where the image is pointing to.\n",
    "w = WCS(header)\n",
    "#transform coordinate in pixels:\n",
    "Ra = 148.283666667\n",
    "Dec = 16.7139583333\n",
    "px, py = w.wcs_world2pix(Ra,Dec, 1)\n",
    "print('my object should be close to these coordinate')\n",
    "print(px,py)"
   ]
  },
  {
   "cell_type": "code",
   "execution_count": null,
   "metadata": {},
   "outputs": [],
   "source": [
    "plt.figure(figsize=(10,12))\n",
    "imgshow = plt.imshow(img, origin='lower', cmap='gray', vmin=200, vmax=400)\n",
    "plt.plot(611,786,'D',color='orange',markersize=20)\n",
    "plt.plot(objects['x'],objects['y'],'xr')"
   ]
  },
  {
   "cell_type": "markdown",
   "metadata": {},
   "source": [
    "Now we want to identify in the object dictinary which is our object. We need to compare the pixel position for each object in the object dictionary with the pixel position we found. we need to measure the distance between them and take the object if the distance is less than XX pixels.\n",
    "let's loop over the stars using enumerate and compute the difference between the coordinates"
   ]
  },
  {
   "cell_type": "markdown",
   "metadata": {},
   "source": [
    "**enumerate** can give you a counting variable. It allows us to loop over something and have an automatic counter"
   ]
  },
  {
   "cell_type": "code",
   "execution_count": null,
   "metadata": {},
   "outputs": [],
   "source": [
    "values = ['a', 'b', 'c']\n",
    "for value in values:\n",
    "    print(value)"
   ]
  },
  {
   "cell_type": "code",
   "execution_count": null,
   "metadata": {},
   "outputs": [],
   "source": [
    "for value in enumerate(values):\n",
    "    print(value)"
   ]
  },
  {
   "cell_type": "code",
   "execution_count": null,
   "metadata": {},
   "outputs": [],
   "source": [
    "for count, value in enumerate(values):\n",
    "    print(count, value)"
   ]
  },
  {
   "cell_type": "code",
   "execution_count": null,
   "metadata": {},
   "outputs": [],
   "source": [
    "for i,j in enumerate(objects['x']):\n",
    "    distance = np.sqrt((objects['x'][i]-px)**2+(objects['y'][i]-py)**2)\n",
    "    print('distance ', distance)\n",
    "    if distance < 10:\n",
    "        print('FOUND', i)\n",
    "        print('The coordinate is', objects['x'][i], objects['y'][i])\n",
    "        break"
   ]
  },
  {
   "cell_type": "code",
   "execution_count": null,
   "metadata": {},
   "outputs": [],
   "source": []
  }
 ],
 "metadata": {
  "kernelspec": {
   "display_name": "Python 3",
   "language": "python",
   "name": "python3"
  },
  "language_info": {
   "codemirror_mode": {
    "name": "ipython",
    "version": 3
   },
   "file_extension": ".py",
   "mimetype": "text/x-python",
   "name": "python",
   "nbconvert_exporter": "python",
   "pygments_lexer": "ipython3",
   "version": "3.7.1"
  }
 },
 "nbformat": 4,
 "nbformat_minor": 4
}
